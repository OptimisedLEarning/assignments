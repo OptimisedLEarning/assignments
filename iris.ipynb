{
  "nbformat": 4,
  "nbformat_minor": 0,
  "metadata": {
    "colab": {
      "private_outputs": true,
      "provenance": [],
      "authorship_tag": "ABX9TyOHLtvRp/Nt/ncjy2WhbSK1",
      "include_colab_link": true
    },
    "kernelspec": {
      "name": "python3",
      "display_name": "Python 3"
    },
    "language_info": {
      "name": "python"
    }
  },
  "cells": [
    {
      "cell_type": "markdown",
      "metadata": {
        "id": "view-in-github",
        "colab_type": "text"
      },
      "source": [
        "<a href=\"https://colab.research.google.com/github/OptimisedLEarning/assignments/blob/main/iris.ipynb\" target=\"_parent\"><img src=\"https://colab.research.google.com/assets/colab-badge.svg\" alt=\"Open In Colab\"/></a>"
      ]
    },
    {
      "cell_type": "code",
      "execution_count": null,
      "metadata": {
        "id": "EteSNPHYkUF0"
      },
      "outputs": [],
      "source": [
        "import pandas as pd\n",
        "import numpy as np\n",
        "import matplotlib.pyplot as plt\n",
        "import seaborn as sns\n"
      ]
    },
    {
      "cell_type": "code",
      "source": [
        "\"\"\"https://www.kaggle.com/code/ash316/ml-from-scratch-with-iris/notebook\"\"\""
      ],
      "metadata": {
        "id": "4-0Db9-4DgNe"
      },
      "execution_count": null,
      "outputs": []
    },
    {
      "cell_type": "code",
      "source": [
        "df = pd.read_csv(\"Iris.csv\")"
      ],
      "metadata": {
        "id": "wB6nkwH4ksb0"
      },
      "execution_count": null,
      "outputs": []
    },
    {
      "cell_type": "code",
      "source": [
        "df.sample()"
      ],
      "metadata": {
        "id": "UHOJpfp6kuo2"
      },
      "execution_count": null,
      "outputs": []
    },
    {
      "cell_type": "code",
      "source": [
        "df.describe()"
      ],
      "metadata": {
        "id": "kxr7vZaykuxI"
      },
      "execution_count": null,
      "outputs": []
    },
    {
      "cell_type": "code",
      "source": [
        "print(\"Target Labels\", df[\"Species\"].unique())"
      ],
      "metadata": {
        "id": "fgo9T_TPku0Y"
      },
      "execution_count": null,
      "outputs": []
    },
    {
      "cell_type": "code",
      "source": [
        "import plotly.express as px\n",
        "fig = px.scatter(df, x=\"SepalWidthCm\", y=\"SepalLengthCm\", color=\"Species\")\n",
        "fig.show()\n"
      ],
      "metadata": {
        "id": "ZEQ7mfZcku3h"
      },
      "execution_count": null,
      "outputs": []
    },
    {
      "cell_type": "code",
      "source": [
        "fig = px.scatter(df, x=\"PetalWidthCm\", y=\"PetalLengthCm\", color=\"Species\")\n",
        "fig.show()"
      ],
      "metadata": {
        "id": "Zi8UOYy0UtVE"
      },
      "execution_count": null,
      "outputs": []
    },
    {
      "cell_type": "markdown",
      "source": [
        " the Petal Features are giving a better cluster division compared to the Sepal features. This is an indication that the Petals can help in better and accurate Predictions over the Sepal."
      ],
      "metadata": {
        "id": "Hm3reEnfVKJj"
      }
    },
    {
      "cell_type": "code",
      "source": [
        "df.hist(edgecolor='black', linewidth=1.2)\n",
        "fig=plt.gcf()\n",
        "fig.set_size_inches(12,8)\n",
        "plt.show()"
      ],
      "metadata": {
        "id": "0L8_GalcS7TR"
      },
      "execution_count": null,
      "outputs": []
    },
    {
      "cell_type": "markdown",
      "source": [
        " the Petal Features are giving a better cluster division compared to the Sepal features. This is an indication that the Petals can help in better and accurate Predictions over the Sepal."
      ],
      "metadata": {
        "id": "Ym4zPNqmVDAp"
      }
    },
    {
      "cell_type": "code",
      "source": [
        "plt.figure(figsize=(15,10))\n",
        "plt.subplot(2,2,1)\n",
        "sns.violinplot(x='Species',y='PetalLengthCm',data=df)\n",
        "plt.subplot(2,2,2)\n",
        "sns.violinplot(x='Species',y='PetalWidthCm',data=df)\n",
        "plt.subplot(2,2,3)\n",
        "sns.violinplot(x='Species',y='SepalLengthCm',data=df)\n",
        "plt.subplot(2,2,4)\n",
        "sns.violinplot(x='Species',y='SepalWidthCm',data=df)"
      ],
      "metadata": {
        "id": "wAgiJ3JATUX7"
      },
      "execution_count": null,
      "outputs": []
    },
    {
      "cell_type": "markdown",
      "source": [
        "The violinplot shows density of the length and width in the species. The thinner part denotes that there is less density whereas the fatter part conveys higher density"
      ],
      "metadata": {
        "id": "R5xY8tUQVrVR"
      }
    },
    {
      "cell_type": "code",
      "source": [
        "# importing alll the necessary packages to use the various classification algorithms\n",
        "from sklearn.linear_model import LogisticRegression  # for Logistic Regression algorithm\n",
        "from sklearn.model_selection import train_test_split#to split the dataset for training and testing\n",
        "from sklearn.neighbors import KNeighborsClassifier  # for K nearest neighbours\n",
        "from sklearn import svm  #for Support Vector Machine (SVM) Algorithm\n",
        "from sklearn import metrics #for checking the model accuracy\n",
        "from sklearn.tree import DecisionTreeClassifier #for using Decision Tree Algoithm"
      ],
      "metadata": {
        "id": "hemGtWDQWJDN"
      },
      "execution_count": null,
      "outputs": []
    },
    {
      "cell_type": "code",
      "source": [
        "df.shape"
      ],
      "metadata": {
        "id": "G_03wz7rXDJw"
      },
      "execution_count": null,
      "outputs": []
    },
    {
      "cell_type": "code",
      "source": [
        "df.columns"
      ],
      "metadata": {
        "id": "_Uo41_G3XFsE"
      },
      "execution_count": null,
      "outputs": []
    },
    {
      "cell_type": "code",
      "source": [
        "plt.figure(figsize=(7,4))\n",
        "sns.heatmap(df.corr(),annot=True,cmap='cubehelix_r') #draws  heatmap with input as the correlation matrix calculted by(iris.corr())\n",
        "plt.show()"
      ],
      "metadata": {
        "id": "jx0IiXXQWuHb"
      },
      "execution_count": null,
      "outputs": []
    },
    {
      "cell_type": "code",
      "source": [
        "df.sample(3)"
      ],
      "metadata": {
        "id": "a0UlFhNqWuf2"
      },
      "execution_count": null,
      "outputs": []
    },
    {
      "cell_type": "code",
      "source": [],
      "metadata": {
        "id": "_RkoHZjBWujt"
      },
      "execution_count": null,
      "outputs": []
    },
    {
      "cell_type": "code",
      "source": [],
      "metadata": {
        "id": "PLughB_PWup5"
      },
      "execution_count": null,
      "outputs": []
    },
    {
      "cell_type": "code",
      "source": [],
      "metadata": {
        "id": "BtJrG7HgWut0"
      },
      "execution_count": null,
      "outputs": []
    },
    {
      "cell_type": "code",
      "source": [
        "x = df.drop([\"Species\",\"Id\"], axis=1)\n",
        "y = df[\"Species\"]\n",
        "x.head(3)"
      ],
      "metadata": {
        "id": "SNHOL7o2Rmt9"
      },
      "execution_count": null,
      "outputs": []
    },
    {
      "cell_type": "code",
      "source": [
        "y.head(2)"
      ],
      "metadata": {
        "id": "ARCE6dkXXzXO"
      },
      "execution_count": null,
      "outputs": []
    },
    {
      "cell_type": "code",
      "source": [
        "x_train, x_test, y_train, y_test = train_test_split(x, y,\n",
        "                                                    test_size=0.30,\n",
        "                                                    random_state=140)"
      ],
      "metadata": {
        "id": "79VaD_LRYIGV"
      },
      "execution_count": null,
      "outputs": []
    },
    {
      "cell_type": "code",
      "source": [
        "print(x_train.shape)\n",
        "print(x_test.shape)\n",
        "print(y_train.shape)\n",
        "print(y_test.shape)"
      ],
      "metadata": {
        "id": "LAEpQoLkYKZN"
      },
      "execution_count": null,
      "outputs": []
    },
    {
      "cell_type": "code",
      "source": [
        "x_test.shape"
      ],
      "metadata": {
        "id": "dFB5QEbtYWx6"
      },
      "execution_count": null,
      "outputs": []
    },
    {
      "cell_type": "code",
      "source": [
        "y_train.shape"
      ],
      "metadata": {
        "id": "pOtw9ZhZYW6r"
      },
      "execution_count": null,
      "outputs": []
    },
    {
      "cell_type": "code",
      "source": [
        "y_train.shape"
      ],
      "metadata": {
        "id": "19T4y1dLYYQa"
      },
      "execution_count": null,
      "outputs": []
    },
    {
      "cell_type": "code",
      "source": [
        "model = svm.SVC() #select the  svm algorithm\n",
        "model.fit(x_train,y_train) #\n",
        "prediction=model.predict(x_test)\n",
        "print('The accuracy of the SVM is:',metrics.accuracy_score(prediction,y_test))#  SVM is giving very good accuracy .97"
      ],
      "metadata": {
        "id": "M0HTdf2AYYaU"
      },
      "execution_count": null,
      "outputs": []
    },
    {
      "cell_type": "code",
      "source": [
        "model = LogisticRegression()\n",
        "model.fit(x_train,y_train)\n",
        "prediction=model.predict(x_test)\n",
        "print('The accuracy of the Logistic Regression is',metrics.accuracy_score(prediction,y_test))# The accuracy of the Logistic Regression is 0.95"
      ],
      "metadata": {
        "id": "D49lyqbVZxLK"
      },
      "execution_count": null,
      "outputs": []
    },
    {
      "cell_type": "code",
      "source": [
        "model=DecisionTreeClassifier()\n",
        "model.fit(x_train,y_train)\n",
        "\n",
        "prediction=model.predict(x_test)\n",
        "print('The accuracy of the Decision Tree is',metrics.accuracy_score(prediction,y_test))#The accuracy of the Decision Tree is 0.95"
      ],
      "metadata": {
        "id": "gjrrPeOxku60"
      },
      "execution_count": null,
      "outputs": []
    },
    {
      "cell_type": "code",
      "source": [
        "model=KNeighborsClassifier(n_neighbors=3) #this examines 3 neighbours for putting the new data into a class\n",
        "model.fit(x_train,y_train)\n",
        "\n",
        "prediction=model.predict(x_test)\n",
        "print('The accuracy of the KNN is',metrics.accuracy_score(prediction,y_test))#The accuracy of the KNN is 0.93"
      ],
      "metadata": {
        "id": "0kW1uYoZXPtz"
      },
      "execution_count": null,
      "outputs": []
    },
    {
      "cell_type": "markdown",
      "source": [
        "#  SVM have the high accuracy than all the above\n"
      ],
      "metadata": {
        "id": "AwafBhHkcTwM"
      }
    },
    {
      "cell_type": "code",
      "source": [
        "x_new = np.array([[6.9\t,3.1,\t5.4,\t2.1\t]])\n",
        "x_new = np.array([[6.9\t,3.1,\t5.4,\t2.1\t]])\n",
        "x_new = np.array([[6.9\t,3.1,\t5.4,\t2.1\t]])"
      ],
      "metadata": {
        "id": "wUueC-9Cku9o"
      },
      "execution_count": null,
      "outputs": []
    },
    {
      "cell_type": "code",
      "source": [
        "prediction = model.predict(x_new)\n",
        "prediction"
      ],
      "metadata": {
        "id": "M2Dqkl5EkvJH"
      },
      "execution_count": null,
      "outputs": []
    },
    {
      "cell_type": "code",
      "source": [],
      "metadata": {
        "id": "WhWH2jASb3lk"
      },
      "execution_count": null,
      "outputs": []
    }
  ]
}