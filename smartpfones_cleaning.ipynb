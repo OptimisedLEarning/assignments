{
  "nbformat": 4,
  "nbformat_minor": 0,
  "metadata": {
    "colab": {
      "private_outputs": true,
      "provenance": [],
      "authorship_tag": "ABX9TyPqEgeW1f71Uxx8oxKhXsFg",
      "include_colab_link": true
    },
    "kernelspec": {
      "name": "python3",
      "display_name": "Python 3"
    },
    "language_info": {
      "name": "python"
    }
  },
  "cells": [
    {
      "cell_type": "markdown",
      "metadata": {
        "id": "view-in-github",
        "colab_type": "text"
      },
      "source": [
        "<a href=\"https://colab.research.google.com/github/OptimisedLEarning/assignments/blob/main/smartpfones_cleaning.ipynb\" target=\"_parent\"><img src=\"https://colab.research.google.com/assets/colab-badge.svg\" alt=\"Open In Colab\"/></a>"
      ]
    },
    {
      "cell_type": "code",
      "execution_count": null,
      "metadata": {
        "id": "BYywgFGmkgGQ"
      },
      "outputs": [],
      "source": [
        "import pandas as pd\n",
        "import numpy as np"
      ]
    },
    {
      "cell_type": "code",
      "source": [],
      "metadata": {
        "id": "9saP4vPfB3g3"
      },
      "execution_count": null,
      "outputs": []
    },
    {
      "cell_type": "code",
      "source": [
        "df= pd.read_csv(\"/content/smartphones.csv\")"
      ],
      "metadata": {
        "id": "2D0eBBA4kvJ6"
      },
      "execution_count": null,
      "outputs": []
    },
    {
      "cell_type": "code",
      "source": [
        "df.head()"
      ],
      "metadata": {
        "id": "u7Iq_uD2k53r"
      },
      "execution_count": null,
      "outputs": []
    },
    {
      "cell_type": "markdown",
      "source": [
        "## Data Assessing\n",
        "\n",
        "### Quality Issues\n",
        "\n",
        "1. **model** - some brands are written diiferently like OPPO in model column `consistency`\n",
        "2. **price** - has unneccesary '₹' `validity`\n",
        "3. **price** - has ',' between numbers `validity`\n",
        "4. **price** - phone Namotel has a price of 99 `accuracy`\n",
        "5. **ratings** - missing values `completeness`\n",
        "6. **processor** - has some incorrect values for some samsung phones(row # -642,647,649,659,667,701,750,759,819,859,883,884,919,927,929,932,1002) `validity`\n",
        "7. There is ipod on row 756 `validity`\n",
        "8. **memory** - incorrect values in rows (441,485,534,553,584,610,613,642,647,649,659,667,701,750,759,819,859,884,919,927,929,932,990,1002) `validity`\n",
        "9. **battery** - incorrect values in rows(113,151,309,365,378,441,450,553,584,610,613,630,642,647,649,659,667,701,750,756,759,764,819,855,859,884,915,916,927,929,932,990,1002) `validity`\n",
        "10. **display** - sometimes frequency is not available `completeness`\n",
        "11. **display** - incorrect values in rows(378,441,450,553,584,610,613,630,642,647,649,659,667,701,750,759,764,819,859,884,915,916,927,929,932,990,1002) `validity`\n",
        "12. certain phones are foldable and the info is scattered `validity`\n",
        "13. **camera** - words like Dual, Triple and Quad are used to represent number of cameras and front and rear cameras are separated by '&'\n",
        "14. **camera** - problem with rows (100,113,151,157,161,238,273,308,309,323,324,365,367,378,394,441,450,484,506,534,553,571,572,575,584,610,613,615,630,642,647,649,659,667,684,687,705,711,723,728,750,756,759,764,792,819,846,854,855,858,883,884,896,915,916,927,929,932,945,956,990,995,1002,1016\n",
        ") `validity`\n",
        "15. **card** - sometimes contains info about os and camera `validity`\n",
        "16. **os** - sometimes contains info about bluetooth and fm radio `validity`\n",
        "17. **os** - issue with rows (324,378) `validity`\n",
        "18. **os** - sometimes contains os version name like lollipop `consistency`\n",
        "19. missing values in camera, card and os `completeness`\n",
        "20. datatype  of price and rating is incorrect `validity`\n",
        "\n",
        "\n",
        "\n",
        "### Tidiness Issues\n",
        "\n",
        "1. **sim** - can be split into 3 cols has_5g, has_NFC, has_IR_Blaster\n",
        "2. **ram** - can be split into 2 cols RAM and ROM\n",
        "3. **processor** - can be split into processor name, cores and cpu speed.\n",
        "4. **battery** - can be split into battery capacity, fast_charging_available\n",
        "5. **display** - can be split into size, resolution_width, resolution_height and frequency\n",
        "6. **camera** - can be split into front and rear camera\n",
        "7. **card** - can be split into supported, extended_upto"
      ],
      "metadata": {
        "id": "Ks-m59lplbuW"
      }
    },
    {
      "cell_type": "code",
      "source": [
        "df.describe()"
      ],
      "metadata": {
        "id": "dW7SJTpzlKjq"
      },
      "execution_count": null,
      "outputs": []
    },
    {
      "cell_type": "code",
      "source": [
        "df.describe()"
      ],
      "metadata": {
        "id": "HtXXBHhiPyif"
      },
      "execution_count": null,
      "outputs": []
    },
    {
      "cell_type": "code",
      "source": [
        "#Price clolumn\n",
        "df1=df.copy()"
      ],
      "metadata": {
        "id": "cMNG9-gfQHrQ"
      },
      "execution_count": null,
      "outputs": []
    },
    {
      "cell_type": "code",
      "source": [
        "df[\"price\"] =df[\"price\"].str.replace(\"₹\",\"\").str.replace(\",\",\"\").astype(\"int\")"
      ],
      "metadata": {
        "id": "g4AsZPRCQgMJ"
      },
      "execution_count": null,
      "outputs": []
    },
    {
      "cell_type": "code",
      "source": [
        "df=df.reset_index()"
      ],
      "metadata": {
        "id": "OpJFNDheQ6Ej"
      },
      "execution_count": null,
      "outputs": []
    },
    {
      "cell_type": "code",
      "source": [
        "df[\"index\"]=df[\"index\"]+2"
      ],
      "metadata": {
        "id": "lB8TT_yEReuh"
      },
      "execution_count": null,
      "outputs": []
    },
    {
      "cell_type": "code",
      "source": [
        "processor_rows=set((-642,647,649,659,667,701,750,759,819,859,883,884,919,927,929,932,1002))\n",
        "memory_rows=set((441,485,534,553,584,610,613,642,647,649,659,667,701,750,759,819,859,884,919,927,929,932,990,1002))\n",
        "battery_rows=set((113,151,309,365,378,441,450,553,584,610,613,630,642,647,649,659,667,701,750,756,759,764,819,855,859,884,915,916,927,929,932,990,1002))\n",
        "camera_rows=set((100,113,151,157,161,238,273,308,309,323,324,365,367,378,394,441,450,484,506,534,553,571,572,575,584,610,613,615,630,642,647,649,659,667,684,687,705,711,723,728,750,756,759,764,792,819,846,854,855,858,883,884,896,915,916,927,929,932,945,956,990,995,1002,1016 ))\n",
        "display_rows= set((378,441,450,553,584,610,613,630,642,647,649,659,667,701,750,759,764,819,859,884,915,916,927,929,932,990,1002))"
      ],
      "metadata": {
        "id": "t06yPgrzSUxy"
      },
      "execution_count": null,
      "outputs": []
    },
    {
      "cell_type": "code",
      "source": [
        "processor_rows| memory_rows | battery_rows| camera_rows|display_rows"
      ],
      "metadata": {
        "id": "hzkb0A67THp6"
      },
      "execution_count": null,
      "outputs": []
    },
    {
      "cell_type": "code",
      "source": [
        "df[df[\"index\"].isin(processor_rows| memory_rows | battery_rows| camera_rows|display_rows)]"
      ],
      "metadata": {
        "id": "eysUtFHVTvsP"
      },
      "execution_count": null,
      "outputs": []
    },
    {
      "cell_type": "code",
      "source": [
        "df[df[\"index\"].isin(processor_rows & memory_rows & battery_rows& camera_rows & display_rows)][[\"price\"]].mean()"
      ],
      "metadata": {
        "id": "SwwpT3wFT8JS"
      },
      "execution_count": null,
      "outputs": []
    },
    {
      "cell_type": "code",
      "source": [
        "#as i have concluded these are all keypad phones so im gonna remove all these\n",
        "\n",
        "df= df[df[\"price\"]>=3400]"
      ],
      "metadata": {
        "id": "uOIaIsjCUpQK"
      },
      "execution_count": null,
      "outputs": []
    },
    {
      "cell_type": "code",
      "source": [
        "#first I will deal with validity issue"
      ],
      "metadata": {
        "id": "iMsyXFr-VfDG"
      },
      "execution_count": null,
      "outputs": []
    },
    {
      "cell_type": "code",
      "source": [
        "df[df[\"index\"].isin(processor_rows)]"
      ],
      "metadata": {
        "id": "gYAvA2Pk6-3d"
      },
      "execution_count": null,
      "outputs": []
    },
    {
      "cell_type": "code",
      "source": [
        "df.drop([646,857,882,925],inplace=True)"
      ],
      "metadata": {
        "id": "aT11b7ZD7KLk"
      },
      "execution_count": null,
      "outputs": []
    },
    {
      "cell_type": "code",
      "source": [
        "df[df[\"index\"].isin(memory_rows)]"
      ],
      "metadata": {
        "id": "CW1623G78ZTK"
      },
      "execution_count": null,
      "outputs": []
    },
    {
      "cell_type": "code",
      "source": [
        "df.drop([582],inplace=True)"
      ],
      "metadata": {
        "id": "5Gh_X4ln8r8y"
      },
      "execution_count": null,
      "outputs": []
    },
    {
      "cell_type": "code",
      "source": [
        "df[df[\"index\"].isin(battery_rows)]"
      ],
      "metadata": {
        "id": "yYW9PQbO8614"
      },
      "execution_count": null,
      "outputs": []
    },
    {
      "cell_type": "code",
      "source": [
        "df.drop([376,754],inplace=True)"
      ],
      "metadata": {
        "id": "AoTseaIQ9Idh"
      },
      "execution_count": null,
      "outputs": []
    },
    {
      "cell_type": "code",
      "source": [
        "df[df[\"index\"].isin(battery_rows)]"
      ],
      "metadata": {
        "id": "Tp80bwZB9sWv"
      },
      "execution_count": null,
      "outputs": []
    },
    {
      "cell_type": "code",
      "source": [
        "df.head()"
      ],
      "metadata": {
        "id": "F9h48Ike_j1r"
      },
      "execution_count": null,
      "outputs": []
    },
    {
      "cell_type": "code",
      "source": [],
      "metadata": {
        "id": "96Sa4p2e_UD8"
      },
      "execution_count": null,
      "outputs": []
    },
    {
      "cell_type": "code",
      "source": [
        "temp_df=df[df[\"index\"].isin(battery_rows)]"
      ],
      "metadata": {
        "id": "_hwUsQ8O9u9f"
      },
      "execution_count": null,
      "outputs": []
    },
    {
      "cell_type": "code",
      "source": [],
      "metadata": {
        "id": "6LWkJrg0_1Xp"
      },
      "execution_count": null,
      "outputs": []
    },
    {
      "cell_type": "code",
      "source": [],
      "metadata": {
        "id": "MAWAu9kU_1qa"
      },
      "execution_count": null,
      "outputs": []
    },
    {
      "cell_type": "code",
      "source": [
        "temp_df.head()"
      ],
      "metadata": {
        "id": "8h14QeuW_WMP"
      },
      "execution_count": null,
      "outputs": []
    },
    {
      "cell_type": "code",
      "source": [
        "x= temp_df.iloc[:,7:].shift(1,axis=1).values"
      ],
      "metadata": {
        "id": "6Csa2YOL-IXe"
      },
      "execution_count": null,
      "outputs": []
    },
    {
      "cell_type": "code",
      "source": [
        "x_index = temp_df.index"
      ],
      "metadata": {
        "id": "3pKmN7sy-VeO"
      },
      "execution_count": null,
      "outputs": []
    },
    {
      "cell_type": "code",
      "source": [
        "df.loc[temp_df.index,temp_df.columns[7:]] = x"
      ],
      "metadata": {
        "id": "JdUIFtOXAd_0"
      },
      "execution_count": null,
      "outputs": []
    },
    {
      "cell_type": "code",
      "source": [
        "df[df[\"index\"].isin(battery_rows)]"
      ],
      "metadata": {
        "id": "UsCfZ1kJAi_k"
      },
      "execution_count": null,
      "outputs": []
    },
    {
      "cell_type": "code",
      "source": [
        "df[df['index'].isin(display_rows)]"
      ],
      "metadata": {
        "id": "oAgimzXTAjKC"
      },
      "execution_count": null,
      "outputs": []
    },
    {
      "cell_type": "code",
      "source": [
        "df[df['index'].isin(camera_rows)]"
      ],
      "metadata": {
        "id": "GDc0iWtnPmMT"
      },
      "execution_count": null,
      "outputs": []
    },
    {
      "cell_type": "code",
      "source": [
        "df.drop([155,271,645],inplace =True)"
      ],
      "metadata": {
        "id": "Oler5efdQXL-"
      },
      "execution_count": null,
      "outputs": []
    },
    {
      "cell_type": "code",
      "source": [
        "df[df['index'].isin(camera_rows)]"
      ],
      "metadata": {
        "id": "JnPpKrwBAjOW"
      },
      "execution_count": null,
      "outputs": []
    },
    {
      "cell_type": "code",
      "source": [
        "tcam=df[df[\"index\"].isin(camera_rows)]\n",
        "tcam"
      ],
      "metadata": {
        "id": "mY1rXauERgPW"
      },
      "execution_count": null,
      "outputs": []
    },
    {
      "cell_type": "code",
      "source": [
        "tcam.shape"
      ],
      "metadata": {
        "id": "2Iy8yY_fSuqV"
      },
      "execution_count": null,
      "outputs": []
    },
    {
      "cell_type": "code",
      "source": [
        "tcam[~tcam[\"camera\"].str.contains(\"MP\")]"
      ],
      "metadata": {
        "id": "ynZcAPMSS_4L"
      },
      "execution_count": null,
      "outputs": []
    },
    {
      "cell_type": "code",
      "source": [],
      "metadata": {
        "id": "OJ5dJ_mtmX4J"
      },
      "execution_count": null,
      "outputs": []
    },
    {
      "cell_type": "code",
      "source": [
        "tcam=tcam[~tcam[\"camera\"].str.contains(\"MP\")]"
      ],
      "metadata": {
        "id": "p3i_Md9QTS_k"
      },
      "execution_count": null,
      "outputs": []
    },
    {
      "cell_type": "code",
      "source": [
        "df.loc[tcam.index,\"camera\"]=tcam[\"card\"].values"
      ],
      "metadata": {
        "id": "xNZRACGWTi9n"
      },
      "execution_count": null,
      "outputs": []
    },
    {
      "cell_type": "code",
      "source": [
        "df[df[\"index\"].isin(camera_rows)]"
      ],
      "metadata": {
        "id": "yafZP0BDUYQ5"
      },
      "execution_count": null,
      "outputs": []
    },
    {
      "cell_type": "code",
      "source": [
        "df[\"card\"].value_counts()"
      ],
      "metadata": {
        "id": "wY79VnsQUefJ"
      },
      "execution_count": null,
      "outputs": []
    },
    {
      "cell_type": "code",
      "source": [
        "tcards=df[df[\"card\"].str.contains(\"MP\")]"
      ],
      "metadata": {
        "id": "_Hd7Ca3NVFgY"
      },
      "execution_count": null,
      "outputs": []
    },
    {
      "cell_type": "code",
      "source": [
        "df[\"card\"].value_counts()"
      ],
      "metadata": {
        "id": "dQQ_svssXbB0"
      },
      "execution_count": null,
      "outputs": []
    },
    {
      "cell_type": "code",
      "source": [
        "df.loc[tcards.index,\"card\"]=\"Memory Card Not Supported\""
      ],
      "metadata": {
        "id": "V27HpAM2X9oT"
      },
      "execution_count": null,
      "outputs": []
    },
    {
      "cell_type": "code",
      "source": [
        "df[\"card\"].value_counts()"
      ],
      "metadata": {
        "id": "-OuzeDGrYuvt"
      },
      "execution_count": null,
      "outputs": []
    },
    {
      "cell_type": "code",
      "source": [
        "df[~df[\"card\"].str.contains(\"Memory\")]"
      ],
      "metadata": {
        "id": "ZBfdKPAsY3XB"
      },
      "execution_count": null,
      "outputs": []
    },
    {
      "cell_type": "code",
      "source": [
        "tcards=df[~df[\"card\"].str.contains(\"Memory\")]"
      ],
      "metadata": {
        "id": "7KkJWQnUfcKk"
      },
      "execution_count": null,
      "outputs": []
    },
    {
      "cell_type": "code",
      "source": [
        "df.loc[tcards.index,\"os\"]=tcards[\"card\"].values   # im chanig all the os valuses thata rae present in cards"
      ],
      "metadata": {
        "id": "NUrxH2cFgUMb"
      },
      "execution_count": null,
      "outputs": []
    },
    {
      "cell_type": "code",
      "source": [
        "df.loc[tcards.index,\"card\"]=\"Memory Card Not Supported\"# i have changed all the values where os was prsent to not supported"
      ],
      "metadata": {
        "id": "evZi8yJ9gkUg"
      },
      "execution_count": null,
      "outputs": []
    },
    {
      "cell_type": "code",
      "source": [
        "df[\"card\"].value_counts()"
      ],
      "metadata": {
        "id": "uk3oBkBchHnv"
      },
      "execution_count": null,
      "outputs": []
    },
    {
      "cell_type": "code",
      "source": [
        "df[\"os\"].value_counts()"
      ],
      "metadata": {
        "id": "Wbz8ADYShXmH"
      },
      "execution_count": null,
      "outputs": []
    },
    {
      "cell_type": "code",
      "source": [
        "df[df[\"os\"].str.contains(\"Memory\")][[\"card\",\"os\"]]"
      ],
      "metadata": {
        "id": "3n_y5i28iUWQ"
      },
      "execution_count": null,
      "outputs": []
    },
    {
      "cell_type": "code",
      "source": [
        "df.to_csv(\"smartph.csv\")"
      ],
      "metadata": {
        "id": "ZzirKuPTi2ov"
      },
      "execution_count": null,
      "outputs": []
    },
    {
      "cell_type": "code",
      "source": [
        "tcam=df[df[\"index\"].isin(camera_rows)]\n",
        "tcam"
      ],
      "metadata": {
        "id": "bDKaSSnUkDB4"
      },
      "execution_count": null,
      "outputs": []
    },
    {
      "cell_type": "code",
      "source": [
        " tm = df[df[\"os\"].str.contains(\"Memory\")]"
      ],
      "metadata": {
        "id": "HwBVFKEmmZ0Q"
      },
      "execution_count": null,
      "outputs": []
    },
    {
      "cell_type": "code",
      "source": [
        "tm"
      ],
      "metadata": {
        "id": "4GJkHaC-nS3T"
      },
      "execution_count": null,
      "outputs": []
    },
    {
      "cell_type": "code",
      "source": [
        "df.loc[tm.index, 'card'] = tm['os'].values"
      ],
      "metadata": {
        "id": "FrHc78Z2mkxJ"
      },
      "execution_count": null,
      "outputs": []
    },
    {
      "cell_type": "code",
      "source": [
        "df[\"card\"].value_counts()   # we have entered the values of cards correctly now"
      ],
      "metadata": {
        "id": "BxR0BLNMmk1I"
      },
      "execution_count": null,
      "outputs": []
    },
    {
      "cell_type": "code",
      "source": [
        "# im going to cange the os values to nan == where bluetooth and memory card\n",
        "\n",
        "tm = df[df[\"os\"].str.contains(\"Memory\")]\n",
        "tm"
      ],
      "metadata": {
        "id": "wj-Vi8s2mlDG"
      },
      "execution_count": null,
      "outputs": []
    },
    {
      "cell_type": "code",
      "source": [
        "df.loc[tm.index,\"os\"]=np.nan   #memory card values got chnages"
      ],
      "metadata": {
        "id": "o6tEbQL2mlL6"
      },
      "execution_count": null,
      "outputs": []
    },
    {
      "cell_type": "code",
      "source": [
        "df[\"os\"].value_counts()"
      ],
      "metadata": {
        "id": "LG3V-tcxsupt"
      },
      "execution_count": null,
      "outputs": []
    },
    {
      "cell_type": "code",
      "source": [],
      "metadata": {
        "id": "q4oxmfvqmlQZ"
      },
      "execution_count": null,
      "outputs": []
    },
    {
      "cell_type": "code",
      "source": [
        "df[df[\"os\"].str.contains(\"Bluetooth\",na =False)]"
      ],
      "metadata": {
        "id": "jTee7E_WmlU3"
      },
      "execution_count": null,
      "outputs": []
    },
    {
      "cell_type": "markdown",
      "source": [
        "By default, `.str.contains()` does not handle values and thus fails when it encounters them.\n",
        "by setting na=False in the .str.contains() method, effectively avoids the error"
      ],
      "metadata": {
        "id": "bnwDZFcBqk3u"
      }
    },
    {
      "cell_type": "code",
      "source": [
        "# we can dirrectly search that particluar string\n",
        "tb=df[df[\"os\"]==\"Bluetooth\"]"
      ],
      "metadata": {
        "id": "__zQ7Xeuq2dM"
      },
      "execution_count": null,
      "outputs": []
    },
    {
      "cell_type": "code",
      "source": [
        "df.loc[tb.index,\"os\"]=np.nan"
      ],
      "metadata": {
        "id": "90r1fNDWrXUL"
      },
      "execution_count": null,
      "outputs": []
    },
    {
      "cell_type": "code",
      "source": [
        "df[\"os\"].value_counts()"
      ],
      "metadata": {
        "id": "ZuqoKV4DrLTm"
      },
      "execution_count": null,
      "outputs": []
    },
    {
      "cell_type": "code",
      "source": [
        "df.shape"
      ],
      "metadata": {
        "id": "p1SI0Nu5yaWE"
      },
      "execution_count": null,
      "outputs": []
    },
    {
      "cell_type": "code",
      "source": [
        "df[\"sim\"].value_counts()"
      ],
      "metadata": {
        "id": "j-jKMJQtzMWl"
      },
      "execution_count": null,
      "outputs": []
    },
    {
      "cell_type": "code",
      "source": [
        "df[\"processor\"].value_counts()"
      ],
      "metadata": {
        "id": "o8s7hySUzqJM"
      },
      "execution_count": null,
      "outputs": []
    },
    {
      "cell_type": "code",
      "source": [
        "df[\"ram\"].value_counts()"
      ],
      "metadata": {
        "id": "u3mkMW84zwQT"
      },
      "execution_count": null,
      "outputs": []
    },
    {
      "cell_type": "code",
      "source": [
        "df[\"battery\"].value_counts()"
      ],
      "metadata": {
        "id": "zevHY1eLz5Pp"
      },
      "execution_count": null,
      "outputs": []
    },
    {
      "cell_type": "code",
      "source": [
        "df[\"display\"].value_counts()"
      ],
      "metadata": {
        "id": "joFloZWfz9Fp"
      },
      "execution_count": null,
      "outputs": []
    },
    {
      "cell_type": "code",
      "source": [
        "# validity issues are resolved   now im gonna remove tidy ness isuues"
      ],
      "metadata": {
        "id": "QA0MsLLQ0AOx"
      },
      "execution_count": null,
      "outputs": []
    },
    {
      "cell_type": "code",
      "source": [
        "df.to_csv(\"Cleaned_smart.csv\")"
      ],
      "metadata": {
        "id": "Gm7QyVo70MgJ"
      },
      "execution_count": null,
      "outputs": []
    },
    {
      "cell_type": "code",
      "source": [
        "# doing modelcolumn  exactracting brand name and making a new column\n",
        "\n",
        "df[\"model\"].str.split(\" \")"
      ],
      "metadata": {
        "id": "tSUrv21n0p7o"
      },
      "execution_count": null,
      "outputs": []
    },
    {
      "cell_type": "code",
      "source": [
        "brand_names = df[\"model\"].str.split(\" \").str.get(0)"
      ],
      "metadata": {
        "id": "7ZH--yyL2MnP"
      },
      "execution_count": null,
      "outputs": []
    },
    {
      "cell_type": "code",
      "source": [
        "df.insert(1,\"brand_names\",brand_names)"
      ],
      "metadata": {
        "id": "DguGtfWs2YcF"
      },
      "execution_count": null,
      "outputs": []
    },
    {
      "cell_type": "code",
      "source": [
        "df.head()"
      ],
      "metadata": {
        "id": "3CISKFgJ21sk"
      },
      "execution_count": null,
      "outputs": []
    },
    {
      "cell_type": "code",
      "source": [
        "df[\"brand_names\"] =df[\"brand_names\"].str.lower()"
      ],
      "metadata": {
        "id": "lXKD-4TZ28xr"
      },
      "execution_count": null,
      "outputs": []
    },
    {
      "cell_type": "code",
      "source": [
        "has_5G=df[\"sim\"].str.contains(\"5G\")\n",
        "has_NFC=df[\"sim\"].str.contains(\"NFC\")\n",
        "has_Ir=df[\"sim\"].str.contains(\"IR\")"
      ],
      "metadata": {
        "id": "lEGTeOj03Vck"
      },
      "execution_count": null,
      "outputs": []
    },
    {
      "cell_type": "code",
      "source": [
        "df.insert(6,\"has_5G\",has_5G)\n",
        "df.insert(7,\"has_nfc\",has_NFC)\n",
        "df.insert(8,\"has_ir\",has_Ir)"
      ],
      "metadata": {
        "id": "hLcHbZVF3-PK"
      },
      "execution_count": null,
      "outputs": []
    },
    {
      "cell_type": "code",
      "source": [
        "df[\"processor\"]"
      ],
      "metadata": {
        "id": "frd5M37k5iWy"
      },
      "execution_count": null,
      "outputs": []
    },
    {
      "cell_type": "code",
      "source": [
        "df[\"processor\"].str.split(\",\")"
      ],
      "metadata": {
        "id": "P1i8h4mK5WFA"
      },
      "execution_count": null,
      "outputs": []
    },
    {
      "cell_type": "code",
      "source": [
        "processor_name = df[\"processor\"].str.split(\",\").str.get(0)"
      ],
      "metadata": {
        "id": "DtYEeT3S98yQ"
      },
      "execution_count": null,
      "outputs": []
    },
    {
      "cell_type": "code",
      "source": [
        "num_cores =df[\"processor\"].str.split(\",\").str.get(1)"
      ],
      "metadata": {
        "id": "r5a98arn-PNg"
      },
      "execution_count": null,
      "outputs": []
    },
    {
      "cell_type": "code",
      "source": [
        "processor_speed = df[\"processor\"].str.split(\",\").str.get(2)\n",
        "processor_speed"
      ],
      "metadata": {
        "id": "dgx7j4Fn-qpA"
      },
      "execution_count": null,
      "outputs": []
    },
    {
      "cell_type": "code",
      "source": [
        "df.insert(10,\"processor_name\",processor_name)\n",
        "df.insert(11,\"num_cores\",num_cores)\n",
        "df.insert(12,\"processor_speed\",processor_speed)"
      ],
      "metadata": {
        "id": "XxmJEAaR-5d3"
      },
      "execution_count": null,
      "outputs": []
    },
    {
      "cell_type": "code",
      "source": [
        "df.sample(5)"
      ],
      "metadata": {
        "id": "1vNA_Ofb_pH-"
      },
      "execution_count": null,
      "outputs": []
    },
    {
      "cell_type": "code",
      "source": [
        "pd.set_option('display.max_rows',len(df))"
      ],
      "metadata": {
        "id": "26s2rUwfANvu"
      },
      "execution_count": null,
      "outputs": []
    },
    {
      "cell_type": "code",
      "source": [
        "df['processor_name'].value_counts()  #Octa Core Processor , Quad Core,Octa Core,\"(28 nm)\""
      ],
      "metadata": {
        "id": "QSUJrjqW_rP0"
      },
      "execution_count": null,
      "outputs": []
    },
    {
      "cell_type": "code",
      "source": [
        "df[\"processor_name\"]=df[\"processor_name\"].str.strip()"
      ],
      "metadata": {
        "id": "9QxsCgB9__mD"
      },
      "execution_count": null,
      "outputs": []
    },
    {
      "cell_type": "code",
      "source": [
        "df[df[\"processor_name\"].str.contains(\"Core\")]"
      ],
      "metadata": {
        "id": "LhtSZAYQBfeK"
      },
      "execution_count": null,
      "outputs": []
    },
    {
      "cell_type": "code",
      "source": [
        "df[df[\"processor_name\"].str.contains(\"Core\")][[\"processor_name\",\"num_cores\",\"processor_speed\"]]"
      ],
      "metadata": {
        "id": "_JaDbiSKB0Qy"
      },
      "execution_count": null,
      "outputs": []
    },
    {
      "cell_type": "code",
      "source": [
        "#shiting by one\n",
        "temp_df=df[df[\"processor_name\"].str.contains(\"Core\")][[\"processor_name\",\"num_cores\",\"processor_speed\"]].shift(1,axis=1)"
      ],
      "metadata": {
        "id": "kkvnyqLzCq31"
      },
      "execution_count": null,
      "outputs": []
    },
    {
      "cell_type": "code",
      "source": [
        "df.loc[temp_df.index,[\"processor_name\",\"num_cores\",\"processor_speed\"]]=temp_df.values"
      ],
      "metadata": {
        "id": "wTC25mRpC6fP"
      },
      "execution_count": null,
      "outputs": []
    },
    {
      "cell_type": "code",
      "source": [
        "df[\"processor_name\"].value_counts()"
      ],
      "metadata": {
        "id": "L85q9m3PDBOL"
      },
      "execution_count": null,
      "outputs": []
    },
    {
      "cell_type": "code",
      "source": [
        "df[df[\"processor_name\"]==\"(28 nm)\"]"
      ],
      "metadata": {
        "id": "DTBYYxcdDBhG"
      },
      "execution_count": null,
      "outputs": []
    },
    {
      "cell_type": "code",
      "source": [
        "df.loc[856,\"processor_name\"]=\"Mediatek MT6739\""
      ],
      "metadata": {
        "id": "Bx_8iwkHEL1g"
      },
      "execution_count": null,
      "outputs": []
    },
    {
      "cell_type": "code",
      "source": [
        "df.loc[856]"
      ],
      "metadata": {
        "id": "LHs5F73tFC63"
      },
      "execution_count": null,
      "outputs": []
    },
    {
      "cell_type": "code",
      "source": [
        "# df[\"processor_name\"].value_counts()\n",
        "processor_brand = df[\"processor_name\"].str.split(\" \").str.get(0).str.lower()"
      ],
      "metadata": {
        "id": "f4eFSzyCFHSj"
      },
      "execution_count": null,
      "outputs": []
    },
    {
      "cell_type": "code",
      "source": [
        "df.insert(11,\"processor_brand\",processor_brand)"
      ],
      "metadata": {
        "id": "7RW-GLz_F2TS"
      },
      "execution_count": null,
      "outputs": []
    },
    {
      "cell_type": "code",
      "source": [
        "df[\"num_cores\"] = df[\"num_cores\"].str.strip()"
      ],
      "metadata": {
        "id": "JY9CP53RG8B4"
      },
      "execution_count": null,
      "outputs": []
    },
    {
      "cell_type": "code",
      "source": [
        "df[\"num_cores\"].value_counts()"
      ],
      "metadata": {
        "id": "-ytO6ohmHIaP"
      },
      "execution_count": null,
      "outputs": []
    },
    {
      "cell_type": "code",
      "source": [
        "df[\"num_cores\"].str.replace(\"Octa Core Processor\",\"Octa Core\")"
      ],
      "metadata": {
        "id": "aJ0AhoTQHa-f"
      },
      "execution_count": null,
      "outputs": []
    },
    {
      "cell_type": "code",
      "source": [
        "df[\"num_cores\"]= df[\"num_cores\"].str.replace(\"Octa Core Processor\",\"Octa Core\").str.replace(\"Hexa Core Processor\",\"Hexa Core\")"
      ],
      "metadata": {
        "id": "QvOD3XLPH4Rv"
      },
      "execution_count": null,
      "outputs": []
    },
    {
      "cell_type": "code",
      "source": [
        "df[\"num_cores\"].value_counts()"
      ],
      "metadata": {
        "id": "oQkl1xbfIdz-"
      },
      "execution_count": null,
      "outputs": []
    },
    {
      "cell_type": "code",
      "source": [
        "df[\"processor_speed\"]=df[\"processor_speed\"].str.strip().str.split().str.get(0).astype(float)"
      ],
      "metadata": {
        "id": "-Q26ePgLI0i9"
      },
      "execution_count": null,
      "outputs": []
    },
    {
      "cell_type": "code",
      "source": [
        "df.head()"
      ],
      "metadata": {
        "id": "px3HwDfkJGnk"
      },
      "execution_count": null,
      "outputs": []
    },
    {
      "cell_type": "code",
      "source": [
        "ram_capacity= df[\"ram\"].str.split(\",\").str.get(0).str.split().str.get(0)"
      ],
      "metadata": {
        "id": "KXswmBDIKHRp"
      },
      "execution_count": null,
      "outputs": []
    },
    {
      "cell_type": "code",
      "source": [
        "df.insert(15,\"ram_capacity\",ram_capacity)"
      ],
      "metadata": {
        "id": "7r12P8FwVX9I"
      },
      "execution_count": null,
      "outputs": []
    },
    {
      "cell_type": "code",
      "source": [
        "internal_memory =df[\"ram\"].str.split(\",\").str.get(1).str.strip().str.split(\" \").str.get(0).str.split().str.get(0)"
      ],
      "metadata": {
        "id": "YvLVyFHaWV6s"
      },
      "execution_count": null,
      "outputs": []
    },
    {
      "cell_type": "code",
      "source": [
        "df.insert(16,\"internal_memory\",internal_memory)"
      ],
      "metadata": {
        "id": "cStVB9FCWabG"
      },
      "execution_count": null,
      "outputs": []
    },
    {
      "cell_type": "code",
      "source": [
        "df.head(2)"
      ],
      "metadata": {
        "id": "X1sxqYQWXtbF"
      },
      "execution_count": null,
      "outputs": []
    },
    {
      "cell_type": "code",
      "source": [
        "df[\"ram_capacity\"].value_counts()"
      ],
      "metadata": {
        "id": "ZlLSVkpQXu2n"
      },
      "execution_count": null,
      "outputs": []
    },
    {
      "cell_type": "code",
      "source": [
        "df[\"ram_capacity\"]=df[\"ram_capacity\"].astype(float)"
      ],
      "metadata": {
        "id": "gn623TYuYC5B"
      },
      "execution_count": null,
      "outputs": []
    },
    {
      "cell_type": "code",
      "source": [
        "df[df[\"ram_capacity\"]>16]"
      ],
      "metadata": {
        "id": "Qqw3gwJsYPT5"
      },
      "execution_count": null,
      "outputs": []
    },
    {
      "cell_type": "code",
      "source": [
        "df.loc[[439,762], [\"ram_capacity\",\"internal_memory\"] ] = [ [4,\"64\"] , [4,\"64\"] ]"
      ],
      "metadata": {
        "id": "qVKedEJsYu6E"
      },
      "execution_count": null,
      "outputs": []
    },
    {
      "cell_type": "code",
      "source": [
        "df[df[\"ram_capacity\"]>18]"
      ],
      "metadata": {
        "id": "hSfdg4uwa2yJ"
      },
      "execution_count": null,
      "outputs": []
    },
    {
      "cell_type": "code",
      "source": [
        "df.loc[[483], [\"ram_capacity\",\"internal_memory\"] ] =  [12,\"512\"]"
      ],
      "metadata": {
        "id": "5kUwimhZbd59"
      },
      "execution_count": null,
      "outputs": []
    },
    {
      "cell_type": "markdown",
      "source": [],
      "metadata": {
        "id": "Wy8TzzH4ciYf"
      }
    },
    {
      "cell_type": "code",
      "source": [
        "df[df[\"ram_capacity\"]>18]  # i have checked these two are Feature phones  so im dropping these columns"
      ],
      "metadata": {
        "id": "bvgL-yICdJdw"
      },
      "execution_count": null,
      "outputs": []
    },
    {
      "cell_type": "code",
      "source": [
        "df.drop([486,627],inplace= True)"
      ],
      "metadata": {
        "id": "qDSzH3nfdKdl"
      },
      "execution_count": null,
      "outputs": []
    },
    {
      "cell_type": "code",
      "source": [
        "df[\"ram_capacity\"].value_counts()"
      ],
      "metadata": {
        "id": "070k5EsWdlf3"
      },
      "execution_count": null,
      "outputs": []
    },
    {
      "cell_type": "code",
      "source": [
        "df[\"internal_memory\"].value_counts()"
      ],
      "metadata": {
        "id": "r3IVC1nWdt2J"
      },
      "execution_count": null,
      "outputs": []
    },
    {
      "cell_type": "code",
      "source": [
        "df[\"internal_memory\"]=df[\"internal_memory\"].astype(float)"
      ],
      "metadata": {
        "id": "_F6PWy59d0r7"
      },
      "execution_count": null,
      "outputs": []
    },
    {
      "cell_type": "code",
      "source": [
        "temp_df =df[df[\"internal_memory\"]==1]"
      ],
      "metadata": {
        "id": "pK1_8HgjeGUc"
      },
      "execution_count": null,
      "outputs": []
    },
    {
      "cell_type": "code",
      "source": [
        "df.loc[temp_df.index ,\"internal_memory\"]=1024"
      ],
      "metadata": {
        "id": "5Tl2IVxCePV0"
      },
      "execution_count": null,
      "outputs": []
    },
    {
      "cell_type": "code",
      "source": [
        "df[df[\"internal_memory\"]==1]"
      ],
      "metadata": {
        "id": "F3gITGKge1gG"
      },
      "execution_count": null,
      "outputs": []
    },
    {
      "cell_type": "code",
      "source": [
        "df[\"internal_memory\"].value_counts()"
      ],
      "metadata": {
        "id": "2cjx172Ue58A"
      },
      "execution_count": null,
      "outputs": []
    },
    {
      "cell_type": "code",
      "source": [
        "battery_capacity=df[\"battery\"].str.strip().str.split(\"with\").str.get(0).str.strip().str.findall(r'\\b(\\d+)\\b').str.get(0).astype(float)"
      ],
      "metadata": {
        "id": "4KRUB0V9fCVW"
      },
      "execution_count": null,
      "outputs": []
    },
    {
      "cell_type": "code",
      "source": [
        "df.insert(16,\"battery_capacity\",battery_capacity)"
      ],
      "metadata": {
        "id": "ZZQIKD6TfQp9"
      },
      "execution_count": null,
      "outputs": []
    },
    {
      "cell_type": "markdown",
      "source": [],
      "metadata": {
        "id": "l3USD8dvjqVp"
      }
    },
    {
      "cell_type": "code",
      "source": [
        "fast_charging=df[\"battery\"].str.strip().str.split(\"with\").str.get(1).str.strip().str.findall(r'\\d{2,3}')"
      ],
      "metadata": {
        "id": "O7QD5mVWhn2a"
      },
      "execution_count": null,
      "outputs": []
    },
    {
      "cell_type": "code",
      "source": [
        "df.insert(17,\"fast_charging\",fast_charging)"
      ],
      "metadata": {
        "id": "2AaG6D7yiAUJ"
      },
      "execution_count": null,
      "outputs": []
    },
    {
      "cell_type": "code",
      "source": [
        "def fast_charging_extractor(item):\n",
        "  if type(item)==list:\n",
        "    if len(item)==1:\n",
        "      return item[0]\n",
        "    else:\n",
        "      return 0\n",
        "  else:\n",
        "    return -1\n",
        "\n"
      ],
      "metadata": {
        "id": "-cAeC7wGkVvt"
      },
      "execution_count": null,
      "outputs": []
    },
    {
      "cell_type": "code",
      "source": [
        "df[\"fast_charging\"] =df[\"fast_charging\"].apply(fast_charging_extractor).astype(int)"
      ],
      "metadata": {
        "id": "SI3bYAO6kglO"
      },
      "execution_count": null,
      "outputs": []
    },
    {
      "cell_type": "code",
      "source": [
        "screen_size = df[\"display\"].str.strip().str.split(\",\").str.get(0).str.strip().str.split().str.get(0).astype(float)"
      ],
      "metadata": {
        "id": "mxkdAxjrmpDx"
      },
      "execution_count": null,
      "outputs": []
    },
    {
      "cell_type": "code",
      "source": [
        "df.insert(21,\"screen_size\",screen_size)"
      ],
      "metadata": {
        "id": "XYTTYkRKm0Bo"
      },
      "execution_count": null,
      "outputs": []
    },
    {
      "cell_type": "code",
      "source": [
        "resolution =df[\"display\"].str.strip().str.split(\",\").str.get(1).str.strip().str.split(\"px\").str.get(0)"
      ],
      "metadata": {
        "id": "AZDxLb0WoXB3"
      },
      "execution_count": null,
      "outputs": []
    },
    {
      "cell_type": "code",
      "source": [
        "df.insert(22,\"resolution\",resolution)"
      ],
      "metadata": {
        "id": "QmVqNbDDocJn"
      },
      "execution_count": null,
      "outputs": []
    },
    {
      "cell_type": "code",
      "source": [
        "refresh_rate=df[\"display\"].str.strip().str.split(\",\").str.get(2).str.findall(r'\\d{2,3}').str.get(0).apply(lambda x:60 if pd.isna(x) else x).astype(int)"
      ],
      "metadata": {
        "id": "e4Xww7HspNO9"
      },
      "execution_count": null,
      "outputs": []
    },
    {
      "cell_type": "code",
      "source": [
        "df.insert(23,\"refresh_rate\",refresh_rate)"
      ],
      "metadata": {
        "id": "Z5Ob2pLSphir"
      },
      "execution_count": null,
      "outputs": []
    },
    {
      "cell_type": "code",
      "source": [
        "df[\"camera\"].value_counts()"
      ],
      "metadata": {
        "id": "f2s8PzhTraJB"
      },
      "execution_count": null,
      "outputs": []
    },
    {
      "cell_type": "code",
      "source": [
        "# im going to make 4 columns from this camera column\n"
      ],
      "metadata": {
        "id": "Mxtd-Ja0rcX4"
      },
      "execution_count": null,
      "outputs": []
    },
    {
      "cell_type": "code",
      "source": [
        "df[\"camera\"].str.strip().str.split(\"&\").str.get(0)"
      ],
      "metadata": {
        "id": "y4uoomZutYbh"
      },
      "execution_count": null,
      "outputs": []
    },
    {
      "cell_type": "code",
      "source": [
        "def camera_extractor(text):\n",
        "  if \"Quad\" in text:\n",
        "    return 4\n",
        "  elif \"Triple\" in text:\n",
        "    return 3\n",
        "  elif \"Dual\" in text:\n",
        "    return 2\n",
        "  else:\n",
        "    return 1"
      ],
      "metadata": {
        "id": "dXW78At_unt4"
      },
      "execution_count": null,
      "outputs": []
    },
    {
      "cell_type": "code",
      "source": [
        "num_rea_cameras = df[\"camera\"].str.strip().str.split(\"&\").str.get(0).apply(camera_extractor)"
      ],
      "metadata": {
        "id": "MmjcRo8SvS3m"
      },
      "execution_count": null,
      "outputs": []
    },
    {
      "cell_type": "code",
      "source": [
        "df.insert(25,\"rear_cameras\",num_rea_cameras)"
      ],
      "metadata": {
        "id": "dh8ckH74vfXh"
      },
      "execution_count": null,
      "outputs": []
    },
    {
      "cell_type": "code",
      "source": [
        "df[\"camera\"].str.strip().str.split(\"&\").str.get(1)"
      ],
      "metadata": {
        "id": "wp4vjQ-ywAhX"
      },
      "execution_count": null,
      "outputs": []
    },
    {
      "cell_type": "code",
      "source": [
        "# im filling all the Nan values with misisng\n",
        "df[\"camera\"].str.strip().str.split(\"&\").str.get(1).fillna(\"missing\")"
      ],
      "metadata": {
        "id": "iX61G9ITwKsv"
      },
      "execution_count": null,
      "outputs": []
    },
    {
      "cell_type": "code",
      "source": [
        "def camera_extractor(text):\n",
        "  if \"Quad\" in text:\n",
        "    return \"4\"\n",
        "  elif \"Triple\" in text:\n",
        "    return \"3\"\n",
        "  elif \"Dual\" in text:\n",
        "    return \"2\"\n",
        "  elif \"missing\" in text:\n",
        "    return \"missing\"\n",
        "  else:\n",
        "    return \"1\""
      ],
      "metadata": {
        "id": "FxnqDhNSxRH-"
      },
      "execution_count": null,
      "outputs": []
    },
    {
      "cell_type": "code",
      "source": [
        "# im filling all the Nan values with misisng\n",
        "front_cam_nu= df[\"camera\"].str.strip().str.split(\"&\").str.get(1).fillna(\"missing\").apply(camera_extractor)"
      ],
      "metadata": {
        "id": "mmU6ql7zxmhf"
      },
      "execution_count": null,
      "outputs": []
    },
    {
      "cell_type": "code",
      "source": [
        "df.insert(26,\"front_cam_nu\",front_cam_nu)"
      ],
      "metadata": {
        "id": "NAbsdNRzx4zk"
      },
      "execution_count": null,
      "outputs": []
    },
    {
      "cell_type": "code",
      "source": [
        "df.head()"
      ],
      "metadata": {
        "id": "GQh2qxIxySJ0"
      },
      "execution_count": null,
      "outputs": []
    },
    {
      "cell_type": "code",
      "source": [
        "df[df['front_cam_nu'] == 'missing']"
      ],
      "metadata": {
        "id": "U7WCNF4uY_Um"
      },
      "execution_count": null,
      "outputs": []
    },
    {
      "cell_type": "code",
      "source": [
        "pd.set_option('display.max_columns',None)"
      ],
      "metadata": {
        "id": "T0SzKqt1YmE8"
      },
      "execution_count": null,
      "outputs": []
    },
    {
      "cell_type": "code",
      "source": [],
      "metadata": {
        "id": "K3W5VlNyZUdy"
      },
      "execution_count": null,
      "outputs": []
    },
    {
      "cell_type": "code",
      "source": [
        "df[\"camera\"].value_counts()"
      ],
      "metadata": {
        "id": "fT1ePtycZl_W"
      },
      "execution_count": null,
      "outputs": []
    },
    {
      "cell_type": "code",
      "source": [
        "df.loc[69,'camera'] == '50 MP'"
      ],
      "metadata": {
        "id": "cB-z31oyZzxj"
      },
      "execution_count": null,
      "outputs": []
    },
    {
      "cell_type": "code",
      "source": [
        "temp = df[df['camera'] == 'Foldable Display, Dual Display']"
      ],
      "metadata": {
        "id": "X_ymWdPOaR8n"
      },
      "execution_count": null,
      "outputs": []
    },
    {
      "cell_type": "code",
      "source": [
        "df.loc[temp.index,\"camera\"]=\"50 MP\""
      ],
      "metadata": {
        "id": "aB0u8HNca2p8"
      },
      "execution_count": null,
      "outputs": []
    },
    {
      "cell_type": "code",
      "source": [
        "df['primary_camera_rear']  =  df['camera'].str.split(' ').str.get(0).str.replace(\"\\u2009\",\" \").str.split(\" \").str.get(0)"
      ],
      "metadata": {
        "id": "XSx5cOYsbYWA"
      },
      "execution_count": null,
      "outputs": []
    },
    {
      "cell_type": "code",
      "source": [
        "df[\"primary_camera_front\"] = df[\"camera\"].str.split(\"&\").str.get(1).str.strip().str.split(\"MP\").str.get(0)"
      ],
      "metadata": {
        "id": "-zTyQKb9bnL5"
      },
      "execution_count": null,
      "outputs": []
    },
    {
      "cell_type": "code",
      "source": [
        "temp= df[df[\"primary_camera_front\"]==\"Main Front Camera\"]"
      ],
      "metadata": {
        "id": "CDCYqFp7ckHR"
      },
      "execution_count": null,
      "outputs": []
    },
    {
      "cell_type": "code",
      "source": [
        "df.loc[temp.index,\"primary_camera_front\"] = \"20\""
      ],
      "metadata": {
        "id": "-kslKBXPfTTd"
      },
      "execution_count": null,
      "outputs": []
    },
    {
      "cell_type": "code",
      "source": [
        "df[\"primary_camera_front\"].value_counts()"
      ],
      "metadata": {
        "id": "QLfxc3dAgjia"
      },
      "execution_count": null,
      "outputs": []
    },
    {
      "cell_type": "code",
      "source": [
        "df[df['card'] == 'Memory Card (Hybrid)']"
      ],
      "metadata": {
        "id": "jO28VCsDgr0X"
      },
      "execution_count": null,
      "outputs": []
    },
    {
      "cell_type": "code",
      "source": [
        "df[\"card\"].value_counts()"
      ],
      "metadata": {
        "id": "F_UMTxcFilqK"
      },
      "execution_count": null,
      "outputs": []
    },
    {
      "cell_type": "code",
      "source": [
        "temp_df = df[df['card'] == 'Memory Card (Hybrid)']"
      ],
      "metadata": {
        "id": "NkPFHHxvhIIZ"
      },
      "execution_count": null,
      "outputs": []
    },
    {
      "cell_type": "code",
      "source": [
        "df.loc[temp_df.index, 'card'] = 'Not Specified'"
      ],
      "metadata": {
        "id": "c6xBEyYTh4zT"
      },
      "execution_count": null,
      "outputs": []
    },
    {
      "cell_type": "code",
      "source": [
        "df[\"card\"].value_counts()"
      ],
      "metadata": {
        "id": "j1OrfP6piUAI"
      },
      "execution_count": null,
      "outputs": []
    },
    {
      "cell_type": "code",
      "source": [
        "df[\"card\"].str.split(\"upto\").str.get(-1).str.strip().str.replace(\"Memory Card Supported\",\"Not Specified\")"
      ],
      "metadata": {
        "id": "CC5XLXAjiwG_"
      },
      "execution_count": null,
      "outputs": []
    },
    {
      "cell_type": "code",
      "source": [
        "df['extended_memory'] = df['card'].apply(lambda x:'0' if 'Not' in x else x.split('upto')).str.get(-1).str.strip().str.replace('Memory Card Supported','Not Specified')"
      ],
      "metadata": {
        "id": "rrYgBsx_iAGo"
      },
      "execution_count": null,
      "outputs": []
    },
    {
      "cell_type": "code",
      "source": [
        "df['extended_memory'].value_counts()"
      ],
      "metadata": {
        "id": "enc0tgqdjzq3"
      },
      "execution_count": null,
      "outputs": []
    },
    {
      "cell_type": "code",
      "source": [],
      "metadata": {
        "id": "c9M4F7yBlbEG"
      },
      "execution_count": null,
      "outputs": []
    },
    {
      "cell_type": "code",
      "source": [],
      "metadata": {
        "id": "g3qVES6wlvtX"
      },
      "execution_count": null,
      "outputs": []
    },
    {
      "cell_type": "code",
      "source": [],
      "metadata": {
        "id": "olMp55k6lvyv"
      },
      "execution_count": null,
      "outputs": []
    },
    {
      "cell_type": "code",
      "source": [],
      "metadata": {
        "id": "6zQ_ORJqlv4P"
      },
      "execution_count": null,
      "outputs": []
    },
    {
      "cell_type": "code",
      "source": [
        "df[\"os\"] =  df[\"os\"].fillna(\"Not Specified\")"
      ],
      "metadata": {
        "id": "fXN2QWMOnFId"
      },
      "execution_count": null,
      "outputs": []
    },
    {
      "cell_type": "code",
      "source": [
        "def os_extractor(text):\n",
        "\n",
        "  if 'Android' in text:\n",
        "    return 'android'\n",
        "  elif 'iOS' in text:\n",
        "    return 'ios'\n",
        "  elif \"Not Specified\" in text:\n",
        "    return text\n",
        "\n",
        "  elif 'Harmony' in text or 'Hongmeng' in text or 'EMUI' in text:\n",
        "    return 'other'"
      ],
      "metadata": {
        "id": "UW1WfH3alv8a"
      },
      "execution_count": null,
      "outputs": []
    },
    {
      "cell_type": "code",
      "source": [
        "df['os'] = df['os'].apply(os_extractor)"
      ],
      "metadata": {
        "id": "TAHpafe4lwAp"
      },
      "execution_count": null,
      "outputs": []
    },
    {
      "cell_type": "code",
      "source": [
        "df[\"os\"].value_counts()"
      ],
      "metadata": {
        "id": "oLaI50EcmnXb"
      },
      "execution_count": null,
      "outputs": []
    },
    {
      "cell_type": "code",
      "source": [
        "\n",
        "new_df =df.drop(columns=[\"index\",'sim','processor','ram','battery','display','camera','card'],axis=1)"
      ],
      "metadata": {
        "id": "jmRN-ED-pNou"
      },
      "execution_count": null,
      "outputs": []
    },
    {
      "cell_type": "code",
      "source": [
        "new_df.head()"
      ],
      "metadata": {
        "id": "FB3SlU3wp0h1"
      },
      "execution_count": null,
      "outputs": []
    },
    {
      "cell_type": "code",
      "source": [
        "new_df[\"primary_camera_rear\"]=new_df[\"primary_camera_rear\"].astype(float)"
      ],
      "metadata": {
        "id": "LZ8gjEKuq7Fs"
      },
      "execution_count": null,
      "outputs": []
    },
    {
      "cell_type": "code",
      "source": [
        "new_df[\"primary_camera_front\"] =new_df[\"primary_camera_front\"].astype(float)"
      ],
      "metadata": {
        "id": "lTtgZB1NAZYs"
      },
      "execution_count": null,
      "outputs": []
    },
    {
      "cell_type": "code",
      "source": [
        "temp= new_df[new_df[\"front_cam_nu\"]==\"missing\"]\n",
        "temp"
      ],
      "metadata": {
        "id": "cdzehJ_TT1MN"
      },
      "execution_count": null,
      "outputs": []
    },
    {
      "cell_type": "code",
      "source": [
        "new_df.loc[temp.index,\"front_cam_nu\"]=np.nan\n",
        "\n",
        "new_df[\"front_cam_nu\"]=new_df[\"front_cam_nu\"].astype(float)"
      ],
      "metadata": {
        "id": "yNNth6rpUSU4"
      },
      "execution_count": null,
      "outputs": []
    },
    {
      "cell_type": "code",
      "source": [
        "new_df['num_cores'] = new_df['num_cores'].str.replace('Octa Core','8')\n",
        "new_df['num_cores'] = new_df['num_cores'].str.replace('Hexa Core','6')\n",
        "new_df['num_cores'] = new_df['num_cores'].str.replace('Quad Core','4')"
      ],
      "metadata": {
        "id": "wA_KoEYXBEOH"
      },
      "execution_count": null,
      "outputs": []
    },
    {
      "cell_type": "code",
      "source": [
        "new_df['num_cores'] = new_df['num_cores'].astype(float)"
      ],
      "metadata": {
        "id": "iSlEqy8xBpGA"
      },
      "execution_count": null,
      "outputs": []
    },
    {
      "cell_type": "code",
      "source": [
        "new_df.info()"
      ],
      "metadata": {
        "id": "ET4hTQ0tVHxg"
      },
      "execution_count": null,
      "outputs": []
    },
    {
      "cell_type": "code",
      "source": [
        "new_df['extended_memory'].value_counts()"
      ],
      "metadata": {
        "id": "CWQNvV0vEqht"
      },
      "execution_count": null,
      "outputs": []
    },
    {
      "cell_type": "code",
      "source": [
        "def transform(text):\n",
        "\n",
        "  if text == '1':\n",
        "    return '1024'\n",
        "  elif text == '2':\n",
        "    return '2048'\n",
        "  elif text == '1000':\n",
        "    return '1024'\n",
        "  else:\n",
        "    return text"
      ],
      "metadata": {
        "id": "QHOA-qe7CI1D"
      },
      "execution_count": null,
      "outputs": []
    },
    {
      "cell_type": "code",
      "source": [
        "new_df['extended_memory_available'] = new_df['extended_memory'].apply(lambda x:0 if x == '0' else 1)\n",
        "new_df['extended_memory_available'].value_counts()"
      ],
      "metadata": {
        "id": "DwOVkQvQEvay"
      },
      "execution_count": null,
      "outputs": []
    },
    {
      "cell_type": "code",
      "source": [
        "new_df['extended_memory'] = new_df['extended_memory'].str.replace('\\u2009',' ').str.split(\" \").str.get(0)\n",
        "new_df['extended_memory'].value_counts()"
      ],
      "metadata": {
        "id": "jN2pDwAeHZkz"
      },
      "execution_count": null,
      "outputs": []
    },
    {
      "cell_type": "code",
      "source": [
        "new_df[new_df[\"extended_memory\"]==\"Not\"]"
      ],
      "metadata": {
        "id": "lPjY1jX8G-a3"
      },
      "execution_count": null,
      "outputs": []
    },
    {
      "cell_type": "code",
      "source": [
        "def convert(text):\n",
        "  if \"Not\" in text :\n",
        "    return \"0\"\n",
        "  elif  text == \"1\":\n",
        "    return \"1024\"\n",
        "  elif  text == \"1000\":\n",
        "    return \"1024\"\n",
        "  elif  text ==\"2\":\n",
        "    return \"2048\"\n",
        "  else:\n",
        "    return text"
      ],
      "metadata": {
        "id": "d7NVYiE9FLAA"
      },
      "execution_count": null,
      "outputs": []
    },
    {
      "cell_type": "code",
      "source": [
        "new_df[\"extended_memory\"] = new_df[\"extended_memory\"].apply(convert)"
      ],
      "metadata": {
        "id": "EdRRb93JGKIG"
      },
      "execution_count": null,
      "outputs": []
    },
    {
      "cell_type": "code",
      "source": [
        "new_df['extended_memory'].value_counts()"
      ],
      "metadata": {
        "id": "FXtHXXy6Fa9j"
      },
      "execution_count": null,
      "outputs": []
    },
    {
      "cell_type": "code",
      "source": [
        "df['os'].value_counts()"
      ],
      "metadata": {
        "id": "5e_kZvPcGJVD"
      },
      "execution_count": null,
      "outputs": []
    },
    {
      "cell_type": "code",
      "source": [
        "new_df['extended_memory'].value_counts()"
      ],
      "metadata": {
        "id": "8mypgICjFg1r"
      },
      "execution_count": null,
      "outputs": []
    },
    {
      "cell_type": "code",
      "source": [
        "new_df['extended_memory']=new_df['extended_memory'].astype(int)"
      ],
      "metadata": {
        "id": "XuqJdRc_TSy8"
      },
      "execution_count": null,
      "outputs": []
    },
    {
      "cell_type": "code",
      "source": [
        "df[\"fast_charging\"].value_counts()"
      ],
      "metadata": {
        "id": "OXVpTNDZTwYg"
      },
      "execution_count": null,
      "outputs": []
    },
    {
      "cell_type": "code",
      "source": [
        "new_df.info()"
      ],
      "metadata": {
        "id": "_1MUwKmaTIeT"
      },
      "execution_count": null,
      "outputs": []
    },
    {
      "cell_type": "markdown",
      "source": [
        "# Univariate analysis\n"
      ],
      "metadata": {
        "id": "NryiCwyGmz3b"
      }
    },
    {
      "cell_type": "code",
      "source": [
        "\n",
        "df.corr()['rating']"
      ],
      "metadata": {
        "id": "6yEnr-Y7rQ4b"
      },
      "execution_count": null,
      "outputs": []
    },
    {
      "cell_type": "code",
      "source": [
        "df.isnull().sum()"
      ],
      "metadata": {
        "id": "SiB63V_XslrU"
      },
      "execution_count": null,
      "outputs": []
    },
    {
      "cell_type": "code",
      "source": [
        "new_df.to_csv('smartphone_cleaned_v5.csv',index=False)"
      ],
      "metadata": {
        "id": "y0xkIbqRV6t0"
      },
      "execution_count": null,
      "outputs": []
    },
    {
      "cell_type": "code",
      "source": [
        "new_df[\"brand_names\"].value_counts()\n"
      ],
      "metadata": {
        "id": "1PNBKzWts479"
      },
      "execution_count": null,
      "outputs": []
    },
    {
      "cell_type": "code",
      "source": [],
      "metadata": {
        "id": "oUZjQOmwWEvM"
      },
      "execution_count": null,
      "outputs": []
    },
    {
      "cell_type": "code",
      "source": [
        "# top 10 brands\n",
        "\n",
        "new_df[\"brand_names\"].value_counts().head(10).plot(kind=\"bar\")"
      ],
      "metadata": {
        "id": "RFXgp1zKtkGb"
      },
      "execution_count": null,
      "outputs": []
    },
    {
      "cell_type": "code",
      "source": [
        "# how much market share does all have\n",
        "new_df[\"brand_names\"].value_counts().head(10).plot(kind=\"pie\",autopct=\"%0.1f%%\")"
      ],
      "metadata": {
        "id": "p8rtmJ3bcCdx"
      },
      "execution_count": null,
      "outputs": []
    },
    {
      "cell_type": "code",
      "source": [
        "# price col\n",
        "new_df['price'].describe()"
      ],
      "metadata": {
        "id": "5pHFbQ5utRKn"
      },
      "execution_count": null,
      "outputs": []
    },
    {
      "cell_type": "code",
      "source": [
        "import seaborn as sns"
      ],
      "metadata": {
        "id": "_HjIy9K2uOTY"
      },
      "execution_count": null,
      "outputs": []
    },
    {
      "cell_type": "code",
      "source": [],
      "metadata": {
        "id": "tuaJ14ZNd_5-"
      },
      "execution_count": null,
      "outputs": []
    },
    {
      "cell_type": "code",
      "source": [
        "sns.histplot(new_df['price'],kde=True)  # first step"
      ],
      "metadata": {
        "id": "0fYxIGF4uH3O"
      },
      "execution_count": null,
      "outputs": []
    },
    {
      "cell_type": "markdown",
      "source": [],
      "metadata": {
        "id": "LHDEK36EjkQ4"
      }
    },
    {
      "cell_type": "code",
      "source": [
        "new_df['price'].skew()# second step  # as its  not closer to 0 so it means we can not run statistical test that  are applicable only on Normal distributiom"
      ],
      "metadata": {
        "id": "ndsE5vM2uRvt"
      },
      "execution_count": null,
      "outputs": []
    },
    {
      "cell_type": "code",
      "source": [
        "sns.boxplot(df[\"price\"])"
      ],
      "metadata": {
        "id": "_LvQHh4NgCGS"
      },
      "execution_count": null,
      "outputs": []
    },
    {
      "cell_type": "code",
      "source": [
        "new_df[new_df['price']>200000] # studing these phones as these phones have usual processor but hones contains diamond or gold so i am removing these"
      ],
      "metadata": {
        "id": "SagEudhIumgg"
      },
      "execution_count": null,
      "outputs": []
    },
    {
      "cell_type": "code",
      "source": [
        "new_df= new_df[new_df[\"price\"]<250000]\n",
        "new_df.info()"
      ],
      "metadata": {
        "id": "OsxY2tRji5dv"
      },
      "execution_count": null,
      "outputs": []
    },
    {
      "cell_type": "code",
      "source": [
        "\n",
        "sns.boxplot(new_df[new_df['price']<200000]['price'])# trird step"
      ],
      "metadata": {
        "id": "6443RwuJuWzV"
      },
      "execution_count": null,
      "outputs": []
    },
    {
      "cell_type": "code",
      "source": [
        "df['price'].isnull().sum() # step 4   all done for numerical column"
      ],
      "metadata": {
        "id": "ta0ZYNZduf8m"
      },
      "execution_count": null,
      "outputs": []
    },
    {
      "cell_type": "code",
      "source": [
        "new_df.shape"
      ],
      "metadata": {
        "id": "nCkyGtexu7P0"
      },
      "execution_count": null,
      "outputs": []
    },
    {
      "cell_type": "code",
      "source": [
        "new_df[\"rating\"].describe()"
      ],
      "metadata": {
        "id": "sI_ZvPSPvrXb"
      },
      "execution_count": null,
      "outputs": []
    },
    {
      "cell_type": "code",
      "source": [
        "sns.displot(kind=\"hist\",data=new_df,x=\"rating\",kde=True)"
      ],
      "metadata": {
        "id": "67g1lTQo_zVG"
      },
      "execution_count": null,
      "outputs": []
    },
    {
      "cell_type": "code",
      "source": [
        "new_df[\"rating\"].skew()  # this is closer to zero means its a good sign"
      ],
      "metadata": {
        "id": "RIW-3UkYkf7z"
      },
      "execution_count": null,
      "outputs": []
    },
    {
      "cell_type": "code",
      "source": [
        "sns.boxplot(new_df[\"rating\"])"
      ],
      "metadata": {
        "id": "yfmiuYrektj8"
      },
      "execution_count": null,
      "outputs": []
    },
    {
      "cell_type": "code",
      "source": [
        "(new_df[\"rating\"].isnull().sum()/977 )* 100 # 10 % data is missing i  cant just dorp it ill try to fill using imputer"
      ],
      "metadata": {
        "id": "UNIeaKSFk4YW"
      },
      "execution_count": null,
      "outputs": []
    },
    {
      "cell_type": "code",
      "source": [
        "new_df.info()"
      ],
      "metadata": {
        "id": "e1LplDSklGLL"
      },
      "execution_count": null,
      "outputs": []
    },
    {
      "cell_type": "code",
      "source": [
        "new_df[\"has_5G\"].value_counts().plot(kind=\"pie\",autopct=\"%0.1f%%\") # this can become good collumn to predict Price"
      ],
      "metadata": {
        "id": "J1aT0DkVlN71"
      },
      "execution_count": null,
      "outputs": []
    },
    {
      "cell_type": "code",
      "source": [
        "new_df[\"has_nfc\"].value_counts().plot(kind=\"pie\",autopct=\"%0.1f%%\") # this can become good collumn to predict Price"
      ],
      "metadata": {
        "id": "K1E2eZ_zl75Z"
      },
      "execution_count": null,
      "outputs": []
    },
    {
      "cell_type": "code",
      "source": [
        "new_df[\"has_ir\"].value_counts().plot(kind=\"pie\",autopct=\"%0.1f%%\") # this can become good collumn to predict Price"
      ],
      "metadata": {
        "id": "yDaXMxxdm7Q9"
      },
      "execution_count": null,
      "outputs": []
    },
    {
      "cell_type": "code",
      "source": [
        "new_df[new_df[\"has_ir\"]==True][\"brand_names\"].value_counts()   # mostly chinese phones have this function"
      ],
      "metadata": {
        "id": "xidzlKVrnEOs"
      },
      "execution_count": null,
      "outputs": []
    },
    {
      "cell_type": "code",
      "source": [
        "new_df[\"processor_brand\"].value_counts()  # chages to be done {\"a13 and apple  to bionic     \"}{\"samsung  to exynos\"}{qualcomm  ,sanpdragon } {mediatek to helio }"
      ],
      "metadata": {
        "id": "izMe7wqSnOaT"
      },
      "execution_count": null,
      "outputs": []
    },
    {
      "cell_type": "code",
      "source": [
        "new_df[\"processor_brand\"].value_counts().plot(kind=\"pie\",autopct=\"%0.1f%%\")"
      ],
      "metadata": {
        "id": "PensSlGboHGv"
      },
      "execution_count": null,
      "outputs": []
    },
    {
      "cell_type": "code",
      "source": [
        "new_df[\"num_cores\"].value_counts().plot(kind=\"pie\",autopct=\"%0.1f%%\") # basically every company is using octa core so i think this column dont contribute in our prediction column"
      ],
      "metadata": {
        "id": "BGvXDISZsQNR"
      },
      "execution_count": null,
      "outputs": []
    },
    {
      "cell_type": "code",
      "source": [
        "new_df[\"fast_charging\"].value_counts().plot(kind=\"pie\",autopct=\"%0.1f%%\")  # -1 and 0 which are values that are not available exept then dat we can see all about 78.5 have this fast charging feature"
      ],
      "metadata": {
        "id": "__jGpO_JsZbH"
      },
      "execution_count": null,
      "outputs": []
    },
    {
      "cell_type": "code",
      "source": [
        "new_df[\"ram_capacity\"].value_counts().plot(kind=\"pie\",autopct=\"%0.1f%%\") # nost phones have 8 gb of ram"
      ],
      "metadata": {
        "id": "l2nsSZRDsZk5"
      },
      "execution_count": null,
      "outputs": []
    },
    {
      "cell_type": "code",
      "source": [
        "new_df[\"internal_memory\"].value_counts().plot(kind=\"pie\",autopct=\"%0.1f%%\")# 128 gb is normal these days"
      ],
      "metadata": {
        "id": "qXKscYHrsZqd"
      },
      "execution_count": null,
      "outputs": []
    },
    {
      "cell_type": "code",
      "source": [
        "new_df[\"refresh_rate\"].value_counts().plot(kind=\"pie\",autopct=\"%0.1f%%\") # here we can see refresh rate 60 is basic now a days 120 is gettiing pretty basic , alot phones here are gaming also with refresh rate >144"
      ],
      "metadata": {
        "id": "QgnKobs6sZw6"
      },
      "execution_count": null,
      "outputs": []
    },
    {
      "cell_type": "code",
      "source": [
        "new_df[\"refresh_rate\"].value_counts()  # study thes outliers of 240 and 165"
      ],
      "metadata": {
        "id": "wLuPbamosZ3K"
      },
      "execution_count": null,
      "outputs": []
    },
    {
      "cell_type": "code",
      "source": [
        "new_df.columns"
      ],
      "metadata": {
        "id": "A2sT3hPovEI_"
      },
      "execution_count": null,
      "outputs": []
    },
    {
      "cell_type": "code",
      "source": [
        "# number of camera\n",
        "\n",
        "(new_df[\"rear_cameras\"]+new_df[\"front_cam_nu\"]).value_counts().plot(kind=\"pie\",autopct=\"%0.1f%%\")# most have 4 camera and still cmeras are increasing"
      ],
      "metadata": {
        "id": "R5pYYF8Wus88"
      },
      "execution_count": null,
      "outputs": []
    },
    {
      "cell_type": "code",
      "source": [
        "new_df[\"os\"].value_counts().plot(kind=\"pie\",autopct=\"%0.1f%%\") # android is dominant"
      ],
      "metadata": {
        "id": "x_o7MYBZvm8X"
      },
      "execution_count": null,
      "outputs": []
    },
    {
      "cell_type": "code",
      "source": [
        "new_df[\"extended_memory_available\"].value_counts().plot(kind=\"pie\",autopct=\"%0.1f%%\") # arroud 61 percent have extended memory"
      ],
      "metadata": {
        "id": "gjxD-Wk00q0Z"
      },
      "execution_count": null,
      "outputs": []
    },
    {
      "cell_type": "code",
      "source": [
        "new_df[\"extended_memory\"].value_counts().plot(kind=\"pie\",autopct=\"%0.1f%%\") # most phones have extednded memory of 1024 very less ahve 2048 gb"
      ],
      "metadata": {
        "id": "0N8R7PR_03GL"
      },
      "execution_count": null,
      "outputs": []
    },
    {
      "cell_type": "code",
      "source": [
        "new_df[\"extended_memory\"].value_counts()"
      ],
      "metadata": {
        "id": "GxvjLHWK1cJA"
      },
      "execution_count": null,
      "outputs": []
    },
    {
      "cell_type": "markdown",
      "source": [
        " # univariate analysis on Numerical columns"
      ],
      "metadata": {
        "id": "AElEZo9B2M3G"
      }
    },
    {
      "cell_type": "code",
      "source": [
        "def plot_graph(column_name):\n",
        "  sns.displot(kind=\"hist\",kde=True, data=new_df,x=column_name,label=column_name)\n",
        "  sns.catplot(kind=\"box\",data= new_df,x=column_name)\n"
      ],
      "metadata": {
        "id": "cnpgXMes1r8Q"
      },
      "execution_count": null,
      "outputs": []
    },
    {
      "cell_type": "code",
      "source": [
        "def box_plot(column_name):\n",
        "\n",
        "  sns.boxplot(df[column_name])"
      ],
      "metadata": {
        "id": "zDhEQeRy7YPy"
      },
      "execution_count": null,
      "outputs": []
    },
    {
      "cell_type": "code",
      "source": [
        "new_df.select_dtypes(include=[\"float64\",\"int64\"]).columns"
      ],
      "metadata": {
        "id": "njRkQyXF907T"
      },
      "execution_count": null,
      "outputs": []
    },
    {
      "cell_type": "code",
      "source": [
        "columns =new_df.select_dtypes(include=[\"float64\",\"int64\"]).iloc[:,[3,5,8,12,13,14]]"
      ],
      "metadata": {
        "id": "mB2PK1be3SGt"
      },
      "execution_count": null,
      "outputs": []
    },
    {
      "cell_type": "code",
      "source": [
        "numerical_col= columns.columns"
      ],
      "metadata": {
        "id": "7gFgx1GQ3iBU"
      },
      "execution_count": null,
      "outputs": []
    },
    {
      "cell_type": "code",
      "source": [
        "for i in numerical_col:\n",
        "  plot_graph(i)"
      ],
      "metadata": {
        "id": "-jBSULhK3kKc"
      },
      "execution_count": null,
      "outputs": []
    },
    {
      "cell_type": "code",
      "source": [
        "new_df.columns"
      ],
      "metadata": {
        "id": "dDCjDNDd6fmQ"
      },
      "execution_count": null,
      "outputs": []
    },
    {
      "cell_type": "markdown",
      "source": [
        "# Bivariate analysis"
      ],
      "metadata": {
        "id": "WKMwJ4Ph_Voc"
      }
    },
    {
      "cell_type": "code",
      "source": [
        "#Price with brand name\n",
        "import matplotlib.pyplot as plt\n",
        "\n",
        "plt.figure(figsize=(20,10))\n",
        "sns.barplot(data=new_df,x=\"brand_names\",y=\"price\")\n",
        "plt.xticks(rotation=\"vertical\")\n",
        "plt.show()"
      ],
      "metadata": {
        "id": "mfFcyCOE71Ru"
      },
      "execution_count": null,
      "outputs": []
    },
    {
      "cell_type": "code",
      "source": [
        "x=new_df.groupby(\"brand_names\").count()[\"model\"]"
      ],
      "metadata": {
        "id": "6KgKfbWkCLBa"
      },
      "execution_count": null,
      "outputs": []
    },
    {
      "cell_type": "code",
      "source": [
        "x[x>10] # brand that have ,more than 10 phones"
      ],
      "metadata": {
        "id": "YyfxB3EFDaWg"
      },
      "execution_count": null,
      "outputs": []
    },
    {
      "cell_type": "code",
      "source": [
        "temp_df=new_df[new_df[\"brand_names\"].isin(x[x>10].index)]"
      ],
      "metadata": {
        "id": "Q3tZuod_Dltw"
      },
      "execution_count": null,
      "outputs": []
    },
    {
      "cell_type": "code",
      "source": [
        "plt.figure(figsize=(7,5))\n",
        "sns.barplot(data=temp_df,x=\"brand_names\",y=\"price\")\n",
        "plt.xticks(rotation=\"vertical\")\n",
        "plt.show()         # apple is in range form 85 k to 1.1 lakh and then huawei is 2nd highest then google phone are on third   #black line is confidence interval"
      ],
      "metadata": {
        "id": "6A55r3s0D4fH"
      },
      "execution_count": null,
      "outputs": []
    },
    {
      "cell_type": "code",
      "source": [
        "new_df.head()"
      ],
      "metadata": {
        "id": "mONZ81C4EidW"
      },
      "execution_count": null,
      "outputs": []
    },
    {
      "cell_type": "code",
      "source": [
        "sns.scatterplot(data=new_df,x=\"rating\",y=\"price\") # some how  their isnt any pattern"
      ],
      "metadata": {
        "id": "efA3HOf2fwpF"
      },
      "execution_count": null,
      "outputs": []
    },
    {
      "cell_type": "code",
      "source": [
        "sns.barplot(data=new_df,x=\"has_5G\",y=\"price\")"
      ],
      "metadata": {
        "id": "ypQIFwTcf_EU"
      },
      "execution_count": null,
      "outputs": []
    },
    {
      "cell_type": "code",
      "source": [
        "sns.barplot(data=new_df,x=\"has_5G\",y=\"price\",estimator=np.median) # this is good indicator that 5g have impact on price"
      ],
      "metadata": {
        "id": "XMOh2VSqgdMF"
      },
      "execution_count": null,
      "outputs": []
    },
    {
      "cell_type": "code",
      "source": [
        "sns.barplot(data=new_df,x=\"has_nfc\",y=\"price\") # mostly costly phones have nfc so yea its affecting price"
      ],
      "metadata": {
        "id": "1rCLL7sWg_4s"
      },
      "execution_count": null,
      "outputs": []
    },
    {
      "cell_type": "code",
      "source": [
        "sns.pointplot(data=new_df,x=\"has_nfc\",y=\"price\")"
      ],
      "metadata": {
        "id": "Lft0t4zkhfaI"
      },
      "execution_count": null,
      "outputs": []
    },
    {
      "cell_type": "code",
      "source": [
        "sns.barplot(data=new_df,x=\"has_ir\",y=\"price\")"
      ],
      "metadata": {
        "id": "3RGHgowbhPs8"
      },
      "execution_count": null,
      "outputs": []
    },
    {
      "cell_type": "code",
      "source": [
        "sns.pointplot(data=new_df,x=\"has_ir\",y=\"price\")  # basically this ir_blaster have noaffect on price column"
      ],
      "metadata": {
        "id": "p-Dx-IB7hoiC"
      },
      "execution_count": null,
      "outputs": []
    },
    {
      "cell_type": "code",
      "source": [],
      "metadata": {
        "id": "od4NRS5Pkya9"
      },
      "execution_count": null,
      "outputs": []
    },
    {
      "cell_type": "code",
      "source": [
        "plt.figure(figsize=(20,7))\n",
        "sns.barplot(data=new_df,x=\"processor_brand\",y=\"price\") # bionic is high which i apple process\n",
        "# this column is affecting the price column\n"
      ],
      "metadata": {
        "id": "D62Qbt2shx86"
      },
      "execution_count": null,
      "outputs": []
    },
    {
      "cell_type": "code",
      "source": [
        "plt.figure(figsize=(4,4))\n",
        "sns.barplot(data=new_df,x=\"num_cores\",y=\"price\")"
      ],
      "metadata": {
        "id": "T5X8jP08iIXC"
      },
      "execution_count": null,
      "outputs": []
    },
    {
      "cell_type": "code",
      "source": [
        "pd.crosstab(new_df[\"num_cores\"],new_df[\"os\"])  # mosly all the devices of ios have hexacore processor thats why price is so up"
      ],
      "metadata": {
        "id": "boSKk55wqCQh"
      },
      "execution_count": null,
      "outputs": []
    },
    {
      "cell_type": "code",
      "source": [
        "sns.scatterplot(data=new_df,x=\"processor_speed\",y=\"price\")   # more the price column more the processor speed"
      ],
      "metadata": {
        "id": "ffyjKu6dqZOX"
      },
      "execution_count": null,
      "outputs": []
    },
    {
      "cell_type": "code",
      "source": [
        "sns.scatterplot(data=new_df,x=\"screen_size\",y=\"price\")# mostly phones are on the [6-7] more than 7 size are costly"
      ],
      "metadata": {
        "id": "bcR1IDdHrPML"
      },
      "execution_count": null,
      "outputs": []
    },
    {
      "cell_type": "code",
      "source": [
        "new_df.corr()"
      ],
      "metadata": {
        "id": "BVcnLx4zrwqP"
      },
      "execution_count": null,
      "outputs": []
    },
    {
      "cell_type": "code",
      "source": [
        "sns.heatmap(new_df.corr())"
      ],
      "metadata": {
        "id": "7hUFpPgMrw3k"
      },
      "execution_count": null,
      "outputs": []
    },
    {
      "cell_type": "code",
      "source": [
        "new_df.corr()[\"price\"]"
      ],
      "metadata": {
        "id": "PqyI96gzrxAN"
      },
      "execution_count": null,
      "outputs": []
    },
    {
      "cell_type": "code",
      "source": [
        "new_df.isnull().sum()"
      ],
      "metadata": {
        "id": "B7fpPWmWrxSI"
      },
      "execution_count": null,
      "outputs": []
    },
    {
      "cell_type": "code",
      "source": [
        "new_df.corr()[\"rating\"]"
      ],
      "metadata": {
        "id": "qKoKCecKucy3"
      },
      "execution_count": null,
      "outputs": []
    },
    {
      "cell_type": "code",
      "source": [],
      "metadata": {
        "id": "sWvrhwE0vJia"
      },
      "execution_count": null,
      "outputs": []
    },
    {
      "cell_type": "code",
      "source": [
        "# knn imputer  # wors on numerical cumns\n",
        "new_df.shape"
      ],
      "metadata": {
        "id": "P6sAQa7Luu3h"
      },
      "execution_count": null,
      "outputs": []
    },
    {
      "cell_type": "code",
      "source": [
        "x_df=new_df.select_dtypes(include=[\"int64\",\"float64\"]).drop(columns=\"price\")"
      ],
      "metadata": {
        "id": "SPcweHuIum76"
      },
      "execution_count": null,
      "outputs": []
    },
    {
      "cell_type": "code",
      "source": [
        "from sklearn.impute import KNNImputer"
      ],
      "metadata": {
        "id": "NWrPjwu0vZJ2"
      },
      "execution_count": null,
      "outputs": []
    },
    {
      "cell_type": "code",
      "source": [
        "imputer =KNNImputer(n_neighbors=5)"
      ],
      "metadata": {
        "id": "pF6DIXedwI1h"
      },
      "execution_count": null,
      "outputs": []
    },
    {
      "cell_type": "code",
      "source": [
        "x_df_values= imputer.fit_transform(x_df)"
      ],
      "metadata": {
        "id": "ec0sYDBIwUsl"
      },
      "execution_count": null,
      "outputs": []
    },
    {
      "cell_type": "code",
      "source": [
        "x__df= pd.DataFrame(x_df_values,columns=x_df.columns)"
      ],
      "metadata": {
        "id": "wsrahV0qwfBH"
      },
      "execution_count": null,
      "outputs": []
    },
    {
      "cell_type": "code",
      "source": [
        "x__df[\"price\"]=new_df[\"price\"]"
      ],
      "metadata": {
        "id": "zFHa-VZGwoyV"
      },
      "execution_count": null,
      "outputs": []
    },
    {
      "cell_type": "code",
      "source": [
        "a = x__df.corr()[\"price\"].reset_index()"
      ],
      "metadata": {
        "id": "_ECtNlXhxSJa"
      },
      "execution_count": null,
      "outputs": []
    },
    {
      "cell_type": "code",
      "source": [
        "b = new_df.corr()[\"price\"].reset_index()"
      ],
      "metadata": {
        "id": "EWveWPSDxYRP"
      },
      "execution_count": null,
      "outputs": []
    },
    {
      "cell_type": "code",
      "source": [
        "b.merge(a,on =\"index\")"
      ],
      "metadata": {
        "id": "08IQZVloxup2"
      },
      "execution_count": null,
      "outputs": []
    },
    {
      "cell_type": "code",
      "source": [
        "x__df.columns"
      ],
      "metadata": {
        "id": "QRlzGk7czgZG"
      },
      "execution_count": null,
      "outputs": []
    },
    {
      "cell_type": "code",
      "source": [
        "new_df.isnull().sum()"
      ],
      "metadata": {
        "id": "smhQTu0Yx7Qo"
      },
      "execution_count": null,
      "outputs": []
    },
    {
      "cell_type": "code",
      "source": [],
      "metadata": {
        "id": "u32PL465z5o0"
      },
      "execution_count": null,
      "outputs": []
    },
    {
      "cell_type": "code",
      "source": [
        "new_df.head()"
      ],
      "metadata": {
        "id": "s-_M6AR6CZ9S"
      },
      "execution_count": null,
      "outputs": []
    },
    {
      "cell_type": "code",
      "source": [
        "df.new= new_df.select_dtypes(include=[\"object\"])"
      ],
      "metadata": {
        "id": "g0KpOSf_DxlL"
      },
      "execution_count": null,
      "outputs": []
    },
    {
      "cell_type": "code",
      "source": [
        "new_df.select_dtypes(include=[\"object\"]).shape"
      ],
      "metadata": {
        "id": "OGxGeAwi2ffq"
      },
      "execution_count": null,
      "outputs": []
    },
    {
      "cell_type": "code",
      "source": [
        "new_df.update(x__df)"
      ],
      "metadata": {
        "id": "zUAVd0TiCsMr"
      },
      "execution_count": null,
      "outputs": []
    },
    {
      "cell_type": "code",
      "source": [
        "# Select columns with object dtype excluding \"price\"#itel S16 =Unisoc SC7731E   Unisoc   { MediaTek  Tecno Spark}\n",
        "cat =new_df.select_dtypes(include=[\"object\"])\n",
        "cat = cat[cat.isnull().any(axis=1)]"
      ],
      "metadata": {
        "id": "VqulvthV633h"
      },
      "execution_count": null,
      "outputs": []
    },
    {
      "cell_type": "code",
      "source": [
        "cat"
      ],
      "metadata": {
        "id": "VRZAASee7QnK"
      },
      "execution_count": null,
      "outputs": []
    },
    {
      "cell_type": "code",
      "source": [
        "values = [[\"Exynos 850\", \"exynos\"], [\"Exynos 850\", \"exynos\"], [\"Exynos 850\", \"exynos\"]]\n",
        "cat.loc[[587,309,201]][[\"processor_name\",\"processor_brand\"]]=values"
      ],
      "metadata": {
        "id": "1q33gnxoTXEn"
      },
      "execution_count": null,
      "outputs": []
    },
    {
      "cell_type": "code",
      "source": [],
      "metadata": {
        "id": "r6BQWF1rQ9Qu"
      },
      "execution_count": null,
      "outputs": []
    },
    {
      "cell_type": "code",
      "source": [
        "cat.loc[cat[\"brand_names\"].str.startswith(\"s\"),\"processor_brand\"] =\"exynos\"\n",
        "cat.loc[cat[\"brand_names\"].str.startswith(\"s\"),\"processor_name\"]= \"Exynos\""
      ],
      "metadata": {
        "id": "EfxxAHh8GUNa"
      },
      "execution_count": null,
      "outputs": []
    },
    {
      "cell_type": "code",
      "source": [
        "cat.loc[cat[\"brand_names\"].str.startswith(\"s\"),\"processor_name\"]= \"\""
      ],
      "metadata": {
        "id": "LdTQ1TgsHHo7"
      },
      "execution_count": null,
      "outputs": []
    },
    {
      "cell_type": "code",
      "source": [
        "cat.loc[cat[\"brand_names\"].str.startswith(\"it\"),\"processor_name\"] =\"Unisoc SC7731E\"\n",
        "cat.loc[cat[\"brand_names\"].str.startswith(\"it\"),\"processor_brand\"] =\"unisoc\"\n",
        "cat.loc[cat[\"brand_names\"].str.startswith(\"ik\"),\"processor_name\"] =\"Mediatek\"\n",
        "cat.loc[cat[\"brand_names\"].str.startswith(\"ik\"),\"processor_brand\"] =\"ediatek\""
      ],
      "metadata": {
        "id": "pznS-AE8Hj4z"
      },
      "execution_count": null,
      "outputs": []
    },
    {
      "cell_type": "code",
      "source": [
        "cat[\"brand_names\"].value_counts()"
      ],
      "metadata": {
        "id": "ACriiupZHrmI"
      },
      "execution_count": null,
      "outputs": []
    },
    {
      "cell_type": "code",
      "source": [
        "cat[cat.isnull().any(axis=1)]"
      ],
      "metadata": {
        "id": "ZFWpJ9COH8HI"
      },
      "execution_count": null,
      "outputs": []
    },
    {
      "cell_type": "code",
      "source": [
        "cat.loc[cat[\"brand_names\"].str.startswith(\"j\"),\"processor_name\"] = \"snapdragon\""
      ],
      "metadata": {
        "id": "_Fp1QHBXIYUA"
      },
      "execution_count": null,
      "outputs": []
    },
    {
      "cell_type": "code",
      "source": [
        "cat[\"brand_names\"].value_counts()"
      ],
      "metadata": {
        "id": "qUPutLfKKInT"
      },
      "execution_count": null,
      "outputs": []
    },
    {
      "cell_type": "code",
      "source": [
        "cat.loc[cat[\"brand_names\"].str.startswith(\"t\"),\"processor_name\"] = \"Helio A20\"\n",
        "cat.loc[cat[\"brand_names\"].str.startswith(\"t\"),\"processor_brand\"] = \"mediatek\""
      ],
      "metadata": {
        "id": "SjAc7L_pKK-T"
      },
      "execution_count": null,
      "outputs": []
    },
    {
      "cell_type": "code",
      "source": [
        "cat.loc[cat[\"brand_names\"].str.startswith(\"h\"),\"processor_name\"] = \"Kirin 710\"\n",
        "cat.loc[cat[\"brand_names\"].str.startswith(\"h\"),\"processor_brand\"] = \"kirin\""
      ],
      "metadata": {
        "id": "paghdy4fN2Jf"
      },
      "execution_count": null,
      "outputs": []
    },
    {
      "cell_type": "code",
      "source": [
        "cat[\"processor_name\"].value_counts()"
      ],
      "metadata": {
        "id": "kTQhZWPJMCKH"
      },
      "execution_count": null,
      "outputs": []
    },
    {
      "cell_type": "code",
      "source": [
        "cat[\"processor_name\"].values"
      ],
      "metadata": {
        "id": "P67iS3gCzPSZ"
      },
      "execution_count": null,
      "outputs": []
    },
    {
      "cell_type": "code",
      "source": [
        "new_df.loc[cat.index, 'processor_name']"
      ],
      "metadata": {
        "id": "XRN0Ff4yzelr"
      },
      "execution_count": null,
      "outputs": []
    },
    {
      "cell_type": "code",
      "source": [
        "#\n",
        "new_df.loc[cat.index, 'processor_name'] = cat['processor_name'].values\n",
        "new_df.loc[cat.index, 'processor_brand'] = cat['processor_name'].values"
      ],
      "metadata": {
        "id": "yxGjLu_uNEcs"
      },
      "execution_count": null,
      "outputs": []
    },
    {
      "cell_type": "code",
      "source": [
        "new_df[\"resolution\"].str.split(\"x\").str.get(0).astype(int)"
      ],
      "metadata": {
        "id": "FJQIq1AA042r"
      },
      "execution_count": null,
      "outputs": []
    },
    {
      "cell_type": "code",
      "source": [
        "new_df[\"resolution_width\"]= new_df[\"resolution\"].str.split(\"x\").str.get(0).astype(int)\n",
        "new_df[\"resolution_height\"] = new_df[\"resolution\"].str.split(\"x\").str.get(1).astype(int)"
      ],
      "metadata": {
        "id": "Udw-0q4zzqHA"
      },
      "execution_count": null,
      "outputs": []
    },
    {
      "cell_type": "code",
      "source": [
        "new_df=new_df.drop(columns=\"resolution\")"
      ],
      "metadata": {
        "id": "tS_KAEeozziO"
      },
      "execution_count": null,
      "outputs": []
    },
    {
      "cell_type": "code",
      "source": [
        "new_df.select_dtypes(include=[\"object\"]).head()"
      ],
      "metadata": {
        "id": "7Q-RSonb1ZSl"
      },
      "execution_count": null,
      "outputs": []
    },
    {
      "cell_type": "code",
      "source": [
        "!pip install category_encoders\n",
        "!pip install --upgrade scikit-learn"
      ],
      "metadata": {
        "id": "qvynrG3E7s-6"
      },
      "execution_count": null,
      "outputs": []
    },
    {
      "cell_type": "code",
      "source": [
        "from sklearn.preprocessing import OrdinalEncoder,OneHotEncoder,TargetEncoder\n",
        "\n",
        "from sklearn.model_selection import train_test_split\n",
        "from sklearn.compose import ColumnTransformer"
      ],
      "metadata": {
        "id": "9XietnUQ10Qd"
      },
      "execution_count": null,
      "outputs": []
    },
    {
      "cell_type": "code",
      "source": [
        "X_train, X_test, y_train, y_test = train_test_split(\n",
        "                                                      new_df.drop(columns=['price']),\n",
        "                                                      new_df['price'],\n",
        "                                                      test_size=0.2,\n",
        "                                                      random_state=42\n",
        "                                                    )"
      ],
      "metadata": {
        "id": "HKXAa_3F3_52"
      },
      "execution_count": null,
      "outputs": []
    },
    {
      "cell_type": "code",
      "source": [
        "X_train.head()"
      ],
      "metadata": {
        "id": "zCS0_Err-X9Q"
      },
      "execution_count": null,
      "outputs": []
    },
    {
      "cell_type": "code",
      "source": [
        "new_df.select_dtypes(include=[\"object\"]).head()"
      ],
      "metadata": {
        "id": "1NzScRwQ9Lo6"
      },
      "execution_count": null,
      "outputs": []
    },
    {
      "cell_type": "code",
      "source": [
        "transformer = ColumnTransformer(\n",
        "    [\n",
        "\n",
        "        (\"onehot\", OneHotEncoder(sparse_output=False),['brand_names', \"processor_brand\",\"os\"]),\n",
        "        (\"target\",TargetEncoder(),[\"model\",\"processor_name\"])\n",
        "    ],\n",
        "    remainder='passthrough'\n",
        ")\n",
        "\n",
        "# setting to get a pandas df\n",
        "transformer.set_output(transform='pandas')"
      ],
      "metadata": {
        "id": "5uSlefTK4auN"
      },
      "execution_count": null,
      "outputs": []
    },
    {
      "cell_type": "code",
      "source": [
        "X_train_transformed = transformer.fit_transform(X_train)\n",
        "X_test_transformed = transformer.transform(X_test)"
      ],
      "metadata": {
        "id": "RgmaLIiM_a6U"
      },
      "execution_count": null,
      "outputs": []
    },
    {
      "cell_type": "code",
      "source": [
        "new_df.head()"
      ],
      "metadata": {
        "id": "bFl_SzK-_7L0"
      },
      "execution_count": null,
      "outputs": []
    },
    {
      "cell_type": "code",
      "source": [],
      "metadata": {
        "id": "i8RKYmP3AmQr"
      },
      "execution_count": null,
      "outputs": []
    }
  ]
}