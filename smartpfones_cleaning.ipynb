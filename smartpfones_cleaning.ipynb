{
  "nbformat": 4,
  "nbformat_minor": 0,
  "metadata": {
    "colab": {
      "private_outputs": true,
      "provenance": [],
      "authorship_tag": "ABX9TyPGQ3EhFe3EA0Xz2Mfeee5O",
      "include_colab_link": true
    },
    "kernelspec": {
      "name": "python3",
      "display_name": "Python 3"
    },
    "language_info": {
      "name": "python"
    }
  },
  "cells": [
    {
      "cell_type": "markdown",
      "metadata": {
        "id": "view-in-github",
        "colab_type": "text"
      },
      "source": [
        "<a href=\"https://colab.research.google.com/github/OptimisedLEarning/assignments/blob/main/smartpfones_cleaning.ipynb\" target=\"_parent\"><img src=\"https://colab.research.google.com/assets/colab-badge.svg\" alt=\"Open In Colab\"/></a>"
      ]
    },
    {
      "cell_type": "code",
      "execution_count": null,
      "metadata": {
        "id": "BYywgFGmkgGQ"
      },
      "outputs": [],
      "source": [
        "import pandas as pd\n",
        "import numpy as np"
      ]
    },
    {
      "cell_type": "code",
      "source": [
        "df= pd.read_csv(\"/content/smartphones.csv\")"
      ],
      "metadata": {
        "id": "2D0eBBA4kvJ6"
      },
      "execution_count": null,
      "outputs": []
    },
    {
      "cell_type": "code",
      "source": [
        "df.head()"
      ],
      "metadata": {
        "id": "u7Iq_uD2k53r"
      },
      "execution_count": null,
      "outputs": []
    },
    {
      "cell_type": "markdown",
      "source": [
        "## Data Assessing\n",
        "\n",
        "### Quality Issues\n",
        "\n",
        "1. **model** - some brands are written diiferently like OPPO in model column `consistency`\n",
        "2. **price** - has unneccesary '₹' `validity`\n",
        "3. **price** - has ',' between numbers `validity`\n",
        "4. **price** - phone Namotel has a price of 99 `accuracy`\n",
        "5. **ratings** - missing values `completeness`\n",
        "6. **processor** - has some incorrect values for some samsung phones(row # -642,647,649,659,667,701,750,759,819,859,883,884,919,927,929,932,1002) `validity`\n",
        "7. There is ipod on row 756 `validity`\n",
        "8. **memory** - incorrect values in rows (441,485,534,553,584,610,613,642,647,649,659,667,701,750,759,819,859,884,919,927,929,932,990,1002) `validity`\n",
        "9. **battery** - incorrect values in rows(113,151,309,365,378,441,450,553,584,610,613,630,642,647,649,659,667,701,750,756,759,764,819,855,859,884,915,916,927,929,932,990,1002) `validity`\n",
        "10. **display** - sometimes frequency is not available `completeness`\n",
        "11. **display** - incorrect values in rows(378,441,450,553,584,610,613,630,642,647,649,659,667,701,750,759,764,819,859,884,915,916,927,929,932,990,1002) `validity`\n",
        "12. certain phones are foldable and the info is scattered `validity`\n",
        "13. **camera** - words like Dual, Triple and Quad are used to represent number of cameras and front and rear cameras are separated by '&'\n",
        "14. **camera** - problem with rows (100,113,151,157,161,238,273,308,309,323,324,365,367,378,394,441,450,484,506,534,553,571,572,575,584,610,613,615,630,642,647,649,659,667,684,687,705,711,723,728,750,756,759,764,792,819,846,854,855,858,883,884,896,915,916,927,929,932,945,956,990,995,1002,1016\n",
        ") `validity`\n",
        "15. **card** - sometimes contains info about os and camera `validity`\n",
        "16. **os** - sometimes contains info about bluetooth and fm radio `validity`\n",
        "17. **os** - issue with rows (324,378) `validity`\n",
        "18. **os** - sometimes contains os version name like lollipop `consistency`\n",
        "19. missing values in camera, card and os `completeness`\n",
        "20. datatype  of price and rating is incorrect `validity`\n",
        "\n",
        "\n",
        "\n",
        "### Tidiness Issues\n",
        "\n",
        "1. **sim** - can be split into 3 cols has_5g, has_NFC, has_IR_Blaster\n",
        "2. **ram** - can be split into 2 cols RAM and ROM\n",
        "3. **processor** - can be split into processor name, cores and cpu speed.\n",
        "4. **battery** - can be split into battery capacity, fast_charging_available\n",
        "5. **display** - can be split into size, resolution_width, resolution_height and frequency\n",
        "6. **camera** - can be split into front and rear camera\n",
        "7. **card** - can be split into supported, extended_upto"
      ],
      "metadata": {
        "id": "Ks-m59lplbuW"
      }
    },
    {
      "cell_type": "code",
      "source": [
        "df.describe()"
      ],
      "metadata": {
        "id": "dW7SJTpzlKjq"
      },
      "execution_count": null,
      "outputs": []
    },
    {
      "cell_type": "code",
      "source": [
        "df.describe()"
      ],
      "metadata": {
        "id": "HtXXBHhiPyif"
      },
      "execution_count": null,
      "outputs": []
    },
    {
      "cell_type": "code",
      "source": [
        "#Price clolumn\n",
        "df1=df.copy()"
      ],
      "metadata": {
        "id": "cMNG9-gfQHrQ"
      },
      "execution_count": null,
      "outputs": []
    },
    {
      "cell_type": "code",
      "source": [
        "df[\"price\"] =df[\"price\"].str.replace(\"₹\",\"\").str.replace(\",\",\"\").astype(\"int\")"
      ],
      "metadata": {
        "id": "g4AsZPRCQgMJ"
      },
      "execution_count": null,
      "outputs": []
    },
    {
      "cell_type": "code",
      "source": [
        "df=df.reset_index()"
      ],
      "metadata": {
        "id": "OpJFNDheQ6Ej"
      },
      "execution_count": null,
      "outputs": []
    },
    {
      "cell_type": "code",
      "source": [
        "df[\"index\"]=df[\"index\"]+2"
      ],
      "metadata": {
        "id": "lB8TT_yEReuh"
      },
      "execution_count": null,
      "outputs": []
    },
    {
      "cell_type": "code",
      "source": [
        "processor_rows=set((-642,647,649,659,667,701,750,759,819,859,883,884,919,927,929,932,1002))\n",
        "memory_rows=set((441,485,534,553,584,610,613,642,647,649,659,667,701,750,759,819,859,884,919,927,929,932,990,1002))\n",
        "battery_rows=set((113,151,309,365,378,441,450,553,584,610,613,630,642,647,649,659,667,701,750,756,759,764,819,855,859,884,915,916,927,929,932,990,1002))\n",
        "camera_rows=set((100,113,151,157,161,238,273,308,309,323,324,365,367,378,394,441,450,484,506,534,553,571,572,575,584,610,613,615,630,642,647,649,659,667,684,687,705,711,723,728,750,756,759,764,792,819,846,854,855,858,883,884,896,915,916,927,929,932,945,956,990,995,1002,1016 ))\n",
        "display_rows= set((378,441,450,553,584,610,613,630,642,647,649,659,667,701,750,759,764,819,859,884,915,916,927,929,932,990,1002))"
      ],
      "metadata": {
        "id": "t06yPgrzSUxy"
      },
      "execution_count": null,
      "outputs": []
    },
    {
      "cell_type": "code",
      "source": [
        "processor_rows| memory_rows | battery_rows| camera_rows|display_rows"
      ],
      "metadata": {
        "id": "hzkb0A67THp6"
      },
      "execution_count": null,
      "outputs": []
    },
    {
      "cell_type": "code",
      "source": [
        "df[df[\"index\"].isin(processor_rows| memory_rows | battery_rows| camera_rows|display_rows)]"
      ],
      "metadata": {
        "id": "eysUtFHVTvsP"
      },
      "execution_count": null,
      "outputs": []
    },
    {
      "cell_type": "code",
      "source": [
        "df[df[\"index\"].isin(processor_rows & memory_rows & battery_rows& camera_rows & display_rows)][[\"price\"]].mean()"
      ],
      "metadata": {
        "id": "SwwpT3wFT8JS"
      },
      "execution_count": null,
      "outputs": []
    },
    {
      "cell_type": "code",
      "source": [
        "#as i have concluded these are all keypad phones so im gonna remove all these\n",
        "\n",
        "df= df[df[\"price\"]>=3400]"
      ],
      "metadata": {
        "id": "uOIaIsjCUpQK"
      },
      "execution_count": null,
      "outputs": []
    },
    {
      "cell_type": "code",
      "source": [
        "#first I will deal with validity issue"
      ],
      "metadata": {
        "id": "iMsyXFr-VfDG"
      },
      "execution_count": null,
      "outputs": []
    },
    {
      "cell_type": "code",
      "source": [
        "df[df[\"index\"].isin(processor_rows)]"
      ],
      "metadata": {
        "id": "gYAvA2Pk6-3d"
      },
      "execution_count": null,
      "outputs": []
    },
    {
      "cell_type": "code",
      "source": [
        "df.drop([646,857,882,925],inplace=True)"
      ],
      "metadata": {
        "id": "aT11b7ZD7KLk"
      },
      "execution_count": null,
      "outputs": []
    },
    {
      "cell_type": "code",
      "source": [
        "df[df[\"index\"].isin(memory_rows)]"
      ],
      "metadata": {
        "id": "CW1623G78ZTK"
      },
      "execution_count": null,
      "outputs": []
    },
    {
      "cell_type": "code",
      "source": [
        "df.drop([582],inplace=True)"
      ],
      "metadata": {
        "id": "5Gh_X4ln8r8y"
      },
      "execution_count": null,
      "outputs": []
    },
    {
      "cell_type": "code",
      "source": [
        "df[df[\"index\"].isin(battery_rows)]"
      ],
      "metadata": {
        "id": "yYW9PQbO8614"
      },
      "execution_count": null,
      "outputs": []
    },
    {
      "cell_type": "code",
      "source": [
        "df.drop([376,754],inplace=True)"
      ],
      "metadata": {
        "id": "AoTseaIQ9Idh"
      },
      "execution_count": null,
      "outputs": []
    },
    {
      "cell_type": "code",
      "source": [
        "df[df[\"index\"].isin(battery_rows)]"
      ],
      "metadata": {
        "id": "Tp80bwZB9sWv"
      },
      "execution_count": null,
      "outputs": []
    },
    {
      "cell_type": "code",
      "source": [
        "df.head()"
      ],
      "metadata": {
        "id": "F9h48Ike_j1r"
      },
      "execution_count": null,
      "outputs": []
    },
    {
      "cell_type": "code",
      "source": [],
      "metadata": {
        "id": "96Sa4p2e_UD8"
      },
      "execution_count": null,
      "outputs": []
    },
    {
      "cell_type": "code",
      "source": [
        "temp_df=df[df[\"index\"].isin(battery_rows)]"
      ],
      "metadata": {
        "id": "_hwUsQ8O9u9f"
      },
      "execution_count": null,
      "outputs": []
    },
    {
      "cell_type": "code",
      "source": [],
      "metadata": {
        "id": "6LWkJrg0_1Xp"
      },
      "execution_count": null,
      "outputs": []
    },
    {
      "cell_type": "code",
      "source": [],
      "metadata": {
        "id": "MAWAu9kU_1qa"
      },
      "execution_count": null,
      "outputs": []
    },
    {
      "cell_type": "code",
      "source": [
        "temp_df.head()"
      ],
      "metadata": {
        "id": "8h14QeuW_WMP"
      },
      "execution_count": null,
      "outputs": []
    },
    {
      "cell_type": "code",
      "source": [
        "x= temp_df.iloc[:,7:].shift(1,axis=1).values"
      ],
      "metadata": {
        "id": "6Csa2YOL-IXe"
      },
      "execution_count": null,
      "outputs": []
    },
    {
      "cell_type": "code",
      "source": [
        "x_index = temp_df.index"
      ],
      "metadata": {
        "id": "3pKmN7sy-VeO"
      },
      "execution_count": null,
      "outputs": []
    },
    {
      "cell_type": "code",
      "source": [
        "df.loc[temp_df.index,temp_df.columns[7:]] = x"
      ],
      "metadata": {
        "id": "JdUIFtOXAd_0"
      },
      "execution_count": null,
      "outputs": []
    },
    {
      "cell_type": "code",
      "source": [
        "df[df[\"index\"].isin(battery_rows)]"
      ],
      "metadata": {
        "id": "UsCfZ1kJAi_k"
      },
      "execution_count": null,
      "outputs": []
    },
    {
      "cell_type": "code",
      "source": [
        "df[df['index'].isin(display_rows)]"
      ],
      "metadata": {
        "id": "oAgimzXTAjKC"
      },
      "execution_count": null,
      "outputs": []
    },
    {
      "cell_type": "code",
      "source": [
        "df[df['index'].isin(camera_rows)]"
      ],
      "metadata": {
        "id": "GDc0iWtnPmMT"
      },
      "execution_count": null,
      "outputs": []
    },
    {
      "cell_type": "code",
      "source": [
        "df.drop([155,271,645],inplace =True)"
      ],
      "metadata": {
        "id": "Oler5efdQXL-"
      },
      "execution_count": null,
      "outputs": []
    },
    {
      "cell_type": "code",
      "source": [
        "df[df['index'].isin(camera_rows)]"
      ],
      "metadata": {
        "id": "JnPpKrwBAjOW"
      },
      "execution_count": null,
      "outputs": []
    },
    {
      "cell_type": "code",
      "source": [
        "tcam=df[df[\"index\"].isin(camera_rows)]\n",
        "tcam"
      ],
      "metadata": {
        "id": "mY1rXauERgPW"
      },
      "execution_count": null,
      "outputs": []
    },
    {
      "cell_type": "code",
      "source": [
        "tcam.shape"
      ],
      "metadata": {
        "id": "2Iy8yY_fSuqV"
      },
      "execution_count": null,
      "outputs": []
    },
    {
      "cell_type": "code",
      "source": [
        "tcam[~tcam[\"camera\"].str.contains(\"MP\")]"
      ],
      "metadata": {
        "id": "ynZcAPMSS_4L"
      },
      "execution_count": null,
      "outputs": []
    },
    {
      "cell_type": "code",
      "source": [],
      "metadata": {
        "id": "OJ5dJ_mtmX4J"
      },
      "execution_count": null,
      "outputs": []
    },
    {
      "cell_type": "code",
      "source": [
        "tcam=tcam[~tcam[\"camera\"].str.contains(\"MP\")]"
      ],
      "metadata": {
        "id": "p3i_Md9QTS_k"
      },
      "execution_count": null,
      "outputs": []
    },
    {
      "cell_type": "code",
      "source": [
        "df.loc[tcam.index,\"camera\"]=tcam[\"card\"].values"
      ],
      "metadata": {
        "id": "xNZRACGWTi9n"
      },
      "execution_count": null,
      "outputs": []
    },
    {
      "cell_type": "code",
      "source": [
        "df[df[\"index\"].isin(camera_rows)]"
      ],
      "metadata": {
        "id": "yafZP0BDUYQ5"
      },
      "execution_count": null,
      "outputs": []
    },
    {
      "cell_type": "code",
      "source": [
        "df[\"card\"].value_counts()"
      ],
      "metadata": {
        "id": "wY79VnsQUefJ"
      },
      "execution_count": null,
      "outputs": []
    },
    {
      "cell_type": "code",
      "source": [
        "tcards=df[df[\"card\"].str.contains(\"MP\")]"
      ],
      "metadata": {
        "id": "_Hd7Ca3NVFgY"
      },
      "execution_count": null,
      "outputs": []
    },
    {
      "cell_type": "code",
      "source": [
        "df[\"card\"].value_counts()"
      ],
      "metadata": {
        "id": "dQQ_svssXbB0"
      },
      "execution_count": null,
      "outputs": []
    },
    {
      "cell_type": "code",
      "source": [
        "df.loc[tcards.index,\"card\"]=\"Memory Card Not Supported\""
      ],
      "metadata": {
        "id": "V27HpAM2X9oT"
      },
      "execution_count": null,
      "outputs": []
    },
    {
      "cell_type": "code",
      "source": [
        "df[\"card\"].value_counts()"
      ],
      "metadata": {
        "id": "-OuzeDGrYuvt"
      },
      "execution_count": null,
      "outputs": []
    },
    {
      "cell_type": "code",
      "source": [
        "df[~df[\"card\"].str.contains(\"Memory\")]"
      ],
      "metadata": {
        "id": "ZBfdKPAsY3XB"
      },
      "execution_count": null,
      "outputs": []
    },
    {
      "cell_type": "code",
      "source": [
        "tcards=df[~df[\"card\"].str.contains(\"Memory\")]"
      ],
      "metadata": {
        "id": "7KkJWQnUfcKk"
      },
      "execution_count": null,
      "outputs": []
    },
    {
      "cell_type": "code",
      "source": [
        "df.loc[tcards.index,\"os\"]=tcards[\"card\"].values   # im chanig all the os valuses thata rae present in cards"
      ],
      "metadata": {
        "id": "NUrxH2cFgUMb"
      },
      "execution_count": null,
      "outputs": []
    },
    {
      "cell_type": "code",
      "source": [
        "df.loc[tcards.index,\"card\"]=\"Memory Card Not Supported\"# i have changed all the values where os was prsent to not supported"
      ],
      "metadata": {
        "id": "evZi8yJ9gkUg"
      },
      "execution_count": null,
      "outputs": []
    },
    {
      "cell_type": "code",
      "source": [
        "df[\"card\"].value_counts()"
      ],
      "metadata": {
        "id": "uk3oBkBchHnv"
      },
      "execution_count": null,
      "outputs": []
    },
    {
      "cell_type": "code",
      "source": [
        "df[\"os\"].value_counts()"
      ],
      "metadata": {
        "id": "Wbz8ADYShXmH"
      },
      "execution_count": null,
      "outputs": []
    },
    {
      "cell_type": "code",
      "source": [
        "df[df[\"os\"].str.contains(\"Memory\")][[\"card\",\"os\"]]"
      ],
      "metadata": {
        "id": "3n_y5i28iUWQ"
      },
      "execution_count": null,
      "outputs": []
    },
    {
      "cell_type": "code",
      "source": [
        "df.to_csv(\"smartph.csv\")"
      ],
      "metadata": {
        "id": "ZzirKuPTi2ov"
      },
      "execution_count": null,
      "outputs": []
    },
    {
      "cell_type": "code",
      "source": [
        "tcam=df[df[\"index\"].isin(camera_rows)]\n",
        "tcam"
      ],
      "metadata": {
        "id": "bDKaSSnUkDB4"
      },
      "execution_count": null,
      "outputs": []
    },
    {
      "cell_type": "code",
      "source": [
        " tm = df[df[\"os\"].str.contains(\"Memory\")]"
      ],
      "metadata": {
        "id": "HwBVFKEmmZ0Q"
      },
      "execution_count": null,
      "outputs": []
    },
    {
      "cell_type": "code",
      "source": [
        "tm"
      ],
      "metadata": {
        "id": "4GJkHaC-nS3T"
      },
      "execution_count": null,
      "outputs": []
    },
    {
      "cell_type": "code",
      "source": [
        "df.loc[tm.index, 'card'] = tm['os'].values"
      ],
      "metadata": {
        "id": "FrHc78Z2mkxJ"
      },
      "execution_count": null,
      "outputs": []
    },
    {
      "cell_type": "code",
      "source": [
        "df[\"card\"].value_counts()   # we have entered the values of cards correctly now"
      ],
      "metadata": {
        "id": "BxR0BLNMmk1I"
      },
      "execution_count": null,
      "outputs": []
    },
    {
      "cell_type": "code",
      "source": [
        "# im going to cange the os values to nan == where bluetooth and memory card\n",
        "\n",
        "tm = df[df[\"os\"].str.contains(\"Memory\")]\n",
        "tm"
      ],
      "metadata": {
        "id": "wj-Vi8s2mlDG"
      },
      "execution_count": null,
      "outputs": []
    },
    {
      "cell_type": "code",
      "source": [
        "df.loc[tm.index,\"os\"]=np.nan   #memory card values got chnages"
      ],
      "metadata": {
        "id": "o6tEbQL2mlL6"
      },
      "execution_count": null,
      "outputs": []
    },
    {
      "cell_type": "code",
      "source": [
        "df[\"os\"].value_counts()"
      ],
      "metadata": {
        "id": "LG3V-tcxsupt"
      },
      "execution_count": null,
      "outputs": []
    },
    {
      "cell_type": "code",
      "source": [],
      "metadata": {
        "id": "q4oxmfvqmlQZ"
      },
      "execution_count": null,
      "outputs": []
    },
    {
      "cell_type": "code",
      "source": [
        "df[df[\"os\"].str.contains(\"Bluetooth\",na =False)]"
      ],
      "metadata": {
        "id": "jTee7E_WmlU3"
      },
      "execution_count": null,
      "outputs": []
    },
    {
      "cell_type": "markdown",
      "source": [
        "By default, `.str.contains()` does not handle values and thus fails when it encounters them.\n",
        "by setting na=False in the .str.contains() method, effectively avoids the error"
      ],
      "metadata": {
        "id": "bnwDZFcBqk3u"
      }
    },
    {
      "cell_type": "code",
      "source": [
        "# we can dirrectly search that particluar string\n",
        "tb=df[df[\"os\"]==\"Bluetooth\"]"
      ],
      "metadata": {
        "id": "__zQ7Xeuq2dM"
      },
      "execution_count": null,
      "outputs": []
    },
    {
      "cell_type": "code",
      "source": [
        "df.loc[tb.index,\"os\"]=np.nan"
      ],
      "metadata": {
        "id": "90r1fNDWrXUL"
      },
      "execution_count": null,
      "outputs": []
    },
    {
      "cell_type": "code",
      "source": [
        "df[\"os\"].value_counts()"
      ],
      "metadata": {
        "id": "ZuqoKV4DrLTm"
      },
      "execution_count": null,
      "outputs": []
    },
    {
      "cell_type": "code",
      "source": [
        "df.shape"
      ],
      "metadata": {
        "id": "p1SI0Nu5yaWE"
      },
      "execution_count": null,
      "outputs": []
    },
    {
      "cell_type": "code",
      "source": [
        "df[\"sim\"].value_counts()"
      ],
      "metadata": {
        "id": "j-jKMJQtzMWl"
      },
      "execution_count": null,
      "outputs": []
    },
    {
      "cell_type": "code",
      "source": [
        "df[\"processor\"].value_counts()"
      ],
      "metadata": {
        "id": "o8s7hySUzqJM"
      },
      "execution_count": null,
      "outputs": []
    },
    {
      "cell_type": "code",
      "source": [
        "df[\"ram\"].value_counts()"
      ],
      "metadata": {
        "id": "u3mkMW84zwQT"
      },
      "execution_count": null,
      "outputs": []
    },
    {
      "cell_type": "code",
      "source": [
        "df[\"battery\"].value_counts()"
      ],
      "metadata": {
        "id": "zevHY1eLz5Pp"
      },
      "execution_count": null,
      "outputs": []
    },
    {
      "cell_type": "code",
      "source": [
        "df[\"display\"].value_counts()"
      ],
      "metadata": {
        "id": "joFloZWfz9Fp"
      },
      "execution_count": null,
      "outputs": []
    },
    {
      "cell_type": "code",
      "source": [
        "# validity issues are resolved   now im gonna remove tidy ness isuues"
      ],
      "metadata": {
        "id": "QA0MsLLQ0AOx"
      },
      "execution_count": null,
      "outputs": []
    },
    {
      "cell_type": "code",
      "source": [
        "df.to_csv(\"Cleaned_smart.csv\")"
      ],
      "metadata": {
        "id": "Gm7QyVo70MgJ"
      },
      "execution_count": null,
      "outputs": []
    },
    {
      "cell_type": "code",
      "source": [
        "# doing modelcolumn  exactracting brand name and making a new column\n",
        "\n",
        "df[\"model\"].str.split(\" \")"
      ],
      "metadata": {
        "id": "tSUrv21n0p7o"
      },
      "execution_count": null,
      "outputs": []
    },
    {
      "cell_type": "code",
      "source": [
        "brand_names = df[\"model\"].str.split(\" \").str.get(0)"
      ],
      "metadata": {
        "id": "7ZH--yyL2MnP"
      },
      "execution_count": null,
      "outputs": []
    },
    {
      "cell_type": "code",
      "source": [
        "df.insert(1,\"brand_names\",brand_names)"
      ],
      "metadata": {
        "id": "DguGtfWs2YcF"
      },
      "execution_count": null,
      "outputs": []
    },
    {
      "cell_type": "code",
      "source": [
        "df.head()"
      ],
      "metadata": {
        "id": "3CISKFgJ21sk"
      },
      "execution_count": null,
      "outputs": []
    },
    {
      "cell_type": "code",
      "source": [
        "df[\"brand_names\"] =df[\"brand_names\"].str.lower()"
      ],
      "metadata": {
        "id": "lXKD-4TZ28xr"
      },
      "execution_count": null,
      "outputs": []
    },
    {
      "cell_type": "code",
      "source": [
        "has_5G=df[\"sim\"].str.contains(\"5G\")\n",
        "has_NFC=df[\"sim\"].str.contains(\"NFC\")\n",
        "has_Ir=df[\"sim\"].str.contains(\"IR\")"
      ],
      "metadata": {
        "id": "lEGTeOj03Vck"
      },
      "execution_count": null,
      "outputs": []
    },
    {
      "cell_type": "code",
      "source": [
        "df.insert(6,\"has_5G\",has_5G)\n",
        "df.insert(7,\"has_nfc\",has_NFC)\n",
        "df.insert(8,\"has_ir\",has_Ir)"
      ],
      "metadata": {
        "id": "hLcHbZVF3-PK"
      },
      "execution_count": null,
      "outputs": []
    },
    {
      "cell_type": "code",
      "source": [
        "df[\"processor\"]"
      ],
      "metadata": {
        "id": "frd5M37k5iWy"
      },
      "execution_count": null,
      "outputs": []
    },
    {
      "cell_type": "code",
      "source": [
        "df[\"processor\"].str.split(\",\")"
      ],
      "metadata": {
        "id": "P1i8h4mK5WFA"
      },
      "execution_count": null,
      "outputs": []
    },
    {
      "cell_type": "code",
      "source": [
        "processor_name = df[\"processor\"].str.split(\",\").str.get(0)"
      ],
      "metadata": {
        "id": "DtYEeT3S98yQ"
      },
      "execution_count": null,
      "outputs": []
    },
    {
      "cell_type": "code",
      "source": [
        "num_cores =df[\"processor\"].str.split(\",\").str.get(1)"
      ],
      "metadata": {
        "id": "r5a98arn-PNg"
      },
      "execution_count": null,
      "outputs": []
    },
    {
      "cell_type": "code",
      "source": [
        "processor_speed = df[\"processor\"].str.split(\",\").str.get(2)\n",
        "processor_speed"
      ],
      "metadata": {
        "id": "dgx7j4Fn-qpA"
      },
      "execution_count": null,
      "outputs": []
    },
    {
      "cell_type": "code",
      "source": [
        "df.insert(10,\"processor_name\",processor_name)\n",
        "df.insert(11,\"num_cores\",num_cores)\n",
        "df.insert(12,\"processor_speed\",processor_speed)"
      ],
      "metadata": {
        "id": "XxmJEAaR-5d3"
      },
      "execution_count": null,
      "outputs": []
    },
    {
      "cell_type": "code",
      "source": [
        "df.sample(5)"
      ],
      "metadata": {
        "id": "1vNA_Ofb_pH-"
      },
      "execution_count": null,
      "outputs": []
    },
    {
      "cell_type": "code",
      "source": [
        "pd.set_option('display.max_rows',len(df))"
      ],
      "metadata": {
        "id": "26s2rUwfANvu"
      },
      "execution_count": null,
      "outputs": []
    },
    {
      "cell_type": "code",
      "source": [
        "df['processor_name'].value_counts()  #Octa Core Processor , Quad Core,Octa Core,\"(28 nm)\""
      ],
      "metadata": {
        "id": "QSUJrjqW_rP0"
      },
      "execution_count": null,
      "outputs": []
    },
    {
      "cell_type": "code",
      "source": [
        "df[\"processor_name\"]=df[\"processor_name\"].str.strip()"
      ],
      "metadata": {
        "id": "9QxsCgB9__mD"
      },
      "execution_count": null,
      "outputs": []
    },
    {
      "cell_type": "code",
      "source": [
        "df[df[\"processor_name\"].str.contains(\"Core\")]"
      ],
      "metadata": {
        "id": "LhtSZAYQBfeK"
      },
      "execution_count": null,
      "outputs": []
    },
    {
      "cell_type": "code",
      "source": [
        "df[df[\"processor_name\"].str.contains(\"Core\")][[\"processor_name\",\"num_cores\",\"processor_speed\"]]"
      ],
      "metadata": {
        "id": "_JaDbiSKB0Qy"
      },
      "execution_count": null,
      "outputs": []
    },
    {
      "cell_type": "code",
      "source": [
        "#shiting by one\n",
        "temp_df=df[df[\"processor_name\"].str.contains(\"Core\")][[\"processor_name\",\"num_cores\",\"processor_speed\"]].shift(1,axis=1)"
      ],
      "metadata": {
        "id": "kkvnyqLzCq31"
      },
      "execution_count": null,
      "outputs": []
    },
    {
      "cell_type": "code",
      "source": [
        "df.loc[temp_df.index,[\"processor_name\",\"num_cores\",\"processor_speed\"]]=temp_df.values"
      ],
      "metadata": {
        "id": "wTC25mRpC6fP"
      },
      "execution_count": null,
      "outputs": []
    },
    {
      "cell_type": "code",
      "source": [
        "df[\"processor_name\"].value_counts()"
      ],
      "metadata": {
        "id": "L85q9m3PDBOL"
      },
      "execution_count": null,
      "outputs": []
    },
    {
      "cell_type": "code",
      "source": [
        "df[df[\"processor_name\"]==\"(28 nm)\"]"
      ],
      "metadata": {
        "id": "DTBYYxcdDBhG"
      },
      "execution_count": null,
      "outputs": []
    },
    {
      "cell_type": "code",
      "source": [
        "df.loc[856,\"processor_name\"]=\"Mediatek MT6739\""
      ],
      "metadata": {
        "id": "Bx_8iwkHEL1g"
      },
      "execution_count": null,
      "outputs": []
    },
    {
      "cell_type": "code",
      "source": [
        "df.loc[856]"
      ],
      "metadata": {
        "id": "LHs5F73tFC63"
      },
      "execution_count": null,
      "outputs": []
    },
    {
      "cell_type": "code",
      "source": [
        "# df[\"processor_name\"].value_counts()\n",
        "processor_brand = df[\"processor_name\"].str.split(\" \").str.get(0).str.lower()"
      ],
      "metadata": {
        "id": "f4eFSzyCFHSj"
      },
      "execution_count": null,
      "outputs": []
    },
    {
      "cell_type": "code",
      "source": [
        "df.insert(11,\"processor_brand\",processor_brand)"
      ],
      "metadata": {
        "id": "7RW-GLz_F2TS"
      },
      "execution_count": null,
      "outputs": []
    },
    {
      "cell_type": "code",
      "source": [
        "df[\"num_cores\"] = df[\"num_cores\"].str.strip()"
      ],
      "metadata": {
        "id": "JY9CP53RG8B4"
      },
      "execution_count": null,
      "outputs": []
    },
    {
      "cell_type": "code",
      "source": [
        "df[\"num_cores\"].value_counts()"
      ],
      "metadata": {
        "id": "-ytO6ohmHIaP"
      },
      "execution_count": null,
      "outputs": []
    },
    {
      "cell_type": "code",
      "source": [
        "df[\"num_cores\"].str.replace(\"Octa Core Processor\",\"Octa Core\")"
      ],
      "metadata": {
        "id": "aJ0AhoTQHa-f"
      },
      "execution_count": null,
      "outputs": []
    },
    {
      "cell_type": "code",
      "source": [
        "df[\"num_cores\"]= df[\"num_cores\"].str.replace(\"Octa Core Processor\",\"Octa Core\").str.replace(\"Hexa Core Processor\",\"Hexa Core\")"
      ],
      "metadata": {
        "id": "QvOD3XLPH4Rv"
      },
      "execution_count": null,
      "outputs": []
    },
    {
      "cell_type": "code",
      "source": [
        "df[\"num_cores\"].value_counts()"
      ],
      "metadata": {
        "id": "oQkl1xbfIdz-"
      },
      "execution_count": null,
      "outputs": []
    },
    {
      "cell_type": "code",
      "source": [
        "df[\"processor_speed\"]=df[\"processor_speed\"].str.strip().str.split().str.get(0).astype(float)"
      ],
      "metadata": {
        "id": "-Q26ePgLI0i9"
      },
      "execution_count": null,
      "outputs": []
    },
    {
      "cell_type": "code",
      "source": [
        "df.head()"
      ],
      "metadata": {
        "id": "px3HwDfkJGnk"
      },
      "execution_count": null,
      "outputs": []
    },
    {
      "cell_type": "code",
      "source": [],
      "metadata": {
        "id": "KXswmBDIKHRp"
      },
      "execution_count": null,
      "outputs": []
    }
  ]
}