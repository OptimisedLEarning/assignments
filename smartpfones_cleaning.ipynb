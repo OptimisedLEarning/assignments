{
  "nbformat": 4,
  "nbformat_minor": 0,
  "metadata": {
    "colab": {
      "private_outputs": true,
      "provenance": [],
      "authorship_tag": "ABX9TyMuBKR0jjr8AN/LLlTOO6ug",
      "include_colab_link": true
    },
    "kernelspec": {
      "name": "python3",
      "display_name": "Python 3"
    },
    "language_info": {
      "name": "python"
    }
  },
  "cells": [
    {
      "cell_type": "markdown",
      "metadata": {
        "id": "view-in-github",
        "colab_type": "text"
      },
      "source": [
        "<a href=\"https://colab.research.google.com/github/OptimisedLEarning/assignments/blob/main/smartpfones_cleaning.ipynb\" target=\"_parent\"><img src=\"https://colab.research.google.com/assets/colab-badge.svg\" alt=\"Open In Colab\"/></a>"
      ]
    },
    {
      "cell_type": "code",
      "execution_count": null,
      "metadata": {
        "id": "BYywgFGmkgGQ"
      },
      "outputs": [],
      "source": [
        "import pandas as pd\n",
        "import numpy as np"
      ]
    },
    {
      "cell_type": "code",
      "source": [
        "df= pd.read_csv(\"/content/smartphones.csv\")"
      ],
      "metadata": {
        "id": "2D0eBBA4kvJ6"
      },
      "execution_count": null,
      "outputs": []
    },
    {
      "cell_type": "code",
      "source": [
        "df.head()"
      ],
      "metadata": {
        "id": "u7Iq_uD2k53r"
      },
      "execution_count": null,
      "outputs": []
    },
    {
      "cell_type": "markdown",
      "source": [
        "## Data Assessing\n",
        "\n",
        "### Quality Issues\n",
        "\n",
        "1. **model** - some brands are written diiferently like OPPO in model column `consistency`\n",
        "2. **price** - has unneccesary '₹' `validity`\n",
        "3. **price** - has ',' between numbers `validity`\n",
        "4. **price** - phone Namotel has a price of 99 `accuracy`\n",
        "5. **ratings** - missing values `completeness`\n",
        "6. **processor** - has some incorrect values for some samsung phones(row # -642,647,649,659,667,701,750,759,819,859,883,884,919,927,929,932,1002) `validity`\n",
        "7. There is ipod on row 756 `validity`\n",
        "8. **memory** - incorrect values in rows (441,485,534,553,584,610,613,642,647,649,659,667,701,750,759,819,859,884,919,927,929,932,990,1002) `validity`\n",
        "9. **battery** - incorrect values in rows(113,151,309,365,378,441,450,553,584,610,613,630,642,647,649,659,667,701,750,756,759,764,819,855,859,884,915,916,927,929,932,990,1002) `validity`\n",
        "10. **display** - sometimes frequency is not available `completeness`\n",
        "11. **display** - incorrect values in rows(378,441,450,553,584,610,613,630,642,647,649,659,667,701,750,759,764,819,859,884,915,916,927,929,932,990,1002) `validity`\n",
        "12. certain phones are foldable and the info is scattered `validity`\n",
        "13. **camera** - words like Dual, Triple and Quad are used to represent number of cameras and front and rear cameras are separated by '&'\n",
        "14. **camera** - problem with rows (100,113,151,157,161,238,273,308,309,323,324,365,367,378,394,441,450,484,506,534,553,571,572,575,584,610,613,615,630,642,647,649,659,667,684,687,705,711,723,728,750,756,759,764,792,819,846,854,855,858,883,884,896,915,916,927,929,932,945,956,990,995,1002,1016\n",
        ") `validity`\n",
        "15. **card** - sometimes contains info about os and camera `validity`\n",
        "16. **os** - sometimes contains info about bluetooth and fm radio `validity`\n",
        "17. **os** - issue with rows (324,378) `validity`\n",
        "18. **os** - sometimes contains os version name like lollipop `consistency`\n",
        "19. missing values in camera, card and os `completeness`\n",
        "20. datatype  of price and rating is incorrect `validity`\n",
        "\n",
        "\n",
        "\n",
        "### Tidiness Issues\n",
        "\n",
        "1. **sim** - can be split into 3 cols has_5g, has_NFC, has_IR_Blaster\n",
        "2. **ram** - can be split into 2 cols RAM and ROM\n",
        "3. **processor** - can be split into processor name, cores and cpu speed.\n",
        "4. **battery** - can be split into battery capacity, fast_charging_available\n",
        "5. **display** - can be split into size, resolution_width, resolution_height and frequency\n",
        "6. **camera** - can be split into front and rear camera\n",
        "7. **card** - can be split into supported, extended_upto"
      ],
      "metadata": {
        "id": "Ks-m59lplbuW"
      }
    },
    {
      "cell_type": "code",
      "source": [
        "df.describe()"
      ],
      "metadata": {
        "id": "dW7SJTpzlKjq"
      },
      "execution_count": null,
      "outputs": []
    },
    {
      "cell_type": "code",
      "source": [
        "df.describe()"
      ],
      "metadata": {
        "id": "HtXXBHhiPyif"
      },
      "execution_count": null,
      "outputs": []
    },
    {
      "cell_type": "code",
      "source": [
        "#Price clolumn\n",
        "df1=df.copy()"
      ],
      "metadata": {
        "id": "cMNG9-gfQHrQ"
      },
      "execution_count": null,
      "outputs": []
    },
    {
      "cell_type": "code",
      "source": [
        "df[\"price\"] =df[\"price\"].str.replace(\"₹\",\"\").str.replace(\",\",\"\").astype(\"int\")"
      ],
      "metadata": {
        "id": "g4AsZPRCQgMJ"
      },
      "execution_count": null,
      "outputs": []
    },
    {
      "cell_type": "code",
      "source": [
        "df=df.reset_index()"
      ],
      "metadata": {
        "id": "OpJFNDheQ6Ej"
      },
      "execution_count": null,
      "outputs": []
    },
    {
      "cell_type": "code",
      "source": [
        "df[\"index\"]=df[\"index\"]+2"
      ],
      "metadata": {
        "id": "lB8TT_yEReuh"
      },
      "execution_count": null,
      "outputs": []
    },
    {
      "cell_type": "code",
      "source": [
        "processor_rows=set((-642,647,649,659,667,701,750,759,819,859,883,884,919,927,929,932,1002))\n",
        "memory_rows=set((441,485,534,553,584,610,613,642,647,649,659,667,701,750,759,819,859,884,919,927,929,932,990,1002))\n",
        "battery_rows=set((113,151,309,365,378,441,450,553,584,610,613,630,642,647,649,659,667,701,750,756,759,764,819,855,859,884,915,916,927,929,932,990,1002))\n",
        "camera_rows=set((100,113,151,157,161,238,273,308,309,323,324,365,367,378,394,441,450,484,506,534,553,571,572,575,584,610,613,615,630,642,647,649,659,667,684,687,705,711,723,728,750,756,759,764,792,819,846,854,855,858,883,884,896,915,916,927,929,932,945,956,990,995,1002,1016 ))\n",
        "display_rows= set((378,441,450,553,584,610,613,630,642,647,649,659,667,701,750,759,764,819,859,884,915,916,927,929,932,990,1002))"
      ],
      "metadata": {
        "id": "t06yPgrzSUxy"
      },
      "execution_count": null,
      "outputs": []
    },
    {
      "cell_type": "code",
      "source": [
        "processor_rows| memory_rows | battery_rows| camera_rows|display_rows"
      ],
      "metadata": {
        "id": "hzkb0A67THp6"
      },
      "execution_count": null,
      "outputs": []
    },
    {
      "cell_type": "code",
      "source": [
        "df[df[\"index\"].isin(processor_rows| memory_rows | battery_rows| camera_rows|display_rows)]"
      ],
      "metadata": {
        "id": "eysUtFHVTvsP"
      },
      "execution_count": null,
      "outputs": []
    },
    {
      "cell_type": "code",
      "source": [
        "df[df[\"index\"].isin(processor_rows & memory_rows & battery_rows& camera_rows & display_rows)][[\"price\"]].mean()"
      ],
      "metadata": {
        "id": "SwwpT3wFT8JS"
      },
      "execution_count": null,
      "outputs": []
    },
    {
      "cell_type": "code",
      "source": [
        "#as i have concluded these are all keypad phones so im gonna remove all these\n",
        "\n",
        "df= df[df[\"price\"]>=3400]"
      ],
      "metadata": {
        "id": "uOIaIsjCUpQK"
      },
      "execution_count": null,
      "outputs": []
    },
    {
      "cell_type": "code",
      "source": [
        "#first I will deal with validity issue"
      ],
      "metadata": {
        "id": "iMsyXFr-VfDG"
      },
      "execution_count": null,
      "outputs": []
    },
    {
      "cell_type": "code",
      "source": [
        "df[df[\"index\"].isin(processor_rows)]"
      ],
      "metadata": {
        "id": "gYAvA2Pk6-3d"
      },
      "execution_count": null,
      "outputs": []
    },
    {
      "cell_type": "code",
      "source": [
        "df.drop([646,857,882,925],inplace=True)"
      ],
      "metadata": {
        "id": "aT11b7ZD7KLk"
      },
      "execution_count": null,
      "outputs": []
    },
    {
      "cell_type": "code",
      "source": [
        "df[df[\"index\"].isin(memory_rows)]"
      ],
      "metadata": {
        "id": "CW1623G78ZTK"
      },
      "execution_count": null,
      "outputs": []
    },
    {
      "cell_type": "code",
      "source": [
        "df.drop([582],inplace=True)"
      ],
      "metadata": {
        "id": "5Gh_X4ln8r8y"
      },
      "execution_count": null,
      "outputs": []
    },
    {
      "cell_type": "code",
      "source": [
        "df[df[\"index\"].isin(battery_rows)]"
      ],
      "metadata": {
        "id": "yYW9PQbO8614"
      },
      "execution_count": null,
      "outputs": []
    },
    {
      "cell_type": "code",
      "source": [
        "df.drop([376,754],inplace=True)"
      ],
      "metadata": {
        "id": "AoTseaIQ9Idh"
      },
      "execution_count": null,
      "outputs": []
    },
    {
      "cell_type": "code",
      "source": [
        "df[df[\"index\"].isin(battery_rows)]"
      ],
      "metadata": {
        "id": "Tp80bwZB9sWv"
      },
      "execution_count": null,
      "outputs": []
    },
    {
      "cell_type": "code",
      "source": [
        "df.head()"
      ],
      "metadata": {
        "id": "F9h48Ike_j1r"
      },
      "execution_count": null,
      "outputs": []
    },
    {
      "cell_type": "code",
      "source": [],
      "metadata": {
        "id": "96Sa4p2e_UD8"
      },
      "execution_count": null,
      "outputs": []
    },
    {
      "cell_type": "code",
      "source": [
        "temp_df=df[df[\"index\"].isin(battery_rows)]"
      ],
      "metadata": {
        "id": "_hwUsQ8O9u9f"
      },
      "execution_count": null,
      "outputs": []
    },
    {
      "cell_type": "code",
      "source": [],
      "metadata": {
        "id": "6LWkJrg0_1Xp"
      },
      "execution_count": null,
      "outputs": []
    },
    {
      "cell_type": "code",
      "source": [],
      "metadata": {
        "id": "MAWAu9kU_1qa"
      },
      "execution_count": null,
      "outputs": []
    },
    {
      "cell_type": "code",
      "source": [
        "temp_df.head()"
      ],
      "metadata": {
        "id": "8h14QeuW_WMP"
      },
      "execution_count": null,
      "outputs": []
    },
    {
      "cell_type": "code",
      "source": [
        "x= temp_df.iloc[:,7:].shift(1,axis=1).values"
      ],
      "metadata": {
        "id": "6Csa2YOL-IXe"
      },
      "execution_count": null,
      "outputs": []
    },
    {
      "cell_type": "code",
      "source": [
        "x_index = temp_df.index"
      ],
      "metadata": {
        "id": "3pKmN7sy-VeO"
      },
      "execution_count": null,
      "outputs": []
    },
    {
      "cell_type": "code",
      "source": [
        "df.loc[temp_df.index,temp_df.columns[7:]] = x"
      ],
      "metadata": {
        "id": "JdUIFtOXAd_0"
      },
      "execution_count": null,
      "outputs": []
    },
    {
      "cell_type": "code",
      "source": [
        "df[df[\"index\"].isin(battery_rows)]"
      ],
      "metadata": {
        "id": "UsCfZ1kJAi_k"
      },
      "execution_count": null,
      "outputs": []
    },
    {
      "cell_type": "code",
      "source": [],
      "metadata": {
        "id": "oAgimzXTAjKC"
      },
      "execution_count": null,
      "outputs": []
    },
    {
      "cell_type": "code",
      "source": [],
      "metadata": {
        "id": "JnPpKrwBAjOW"
      },
      "execution_count": null,
      "outputs": []
    }
  ]
}