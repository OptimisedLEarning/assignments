{
 "cells": [
  {
   "cell_type": "code",
   "execution_count": 1,
   "id": "1d44352a",
   "metadata": {
    "_cell_guid": "b1076dfc-b9ad-4769-8c92-a6c4dae69d19",
    "_uuid": "8f2839f25d086af736a60e9eeb907d3b93b6e0e5",
    "execution": {
     "iopub.execute_input": "2024-03-21T06:00:32.438709Z",
     "iopub.status.busy": "2024-03-21T06:00:32.438263Z",
     "iopub.status.idle": "2024-03-21T06:00:33.518005Z",
     "shell.execute_reply": "2024-03-21T06:00:33.516644Z"
    },
    "papermill": {
     "duration": 1.102114,
     "end_time": "2024-03-21T06:00:33.520874",
     "exception": false,
     "start_time": "2024-03-21T06:00:32.418760",
     "status": "completed"
    },
    "tags": []
   },
   "outputs": [
    {
     "name": "stdout",
     "output_type": "stream",
     "text": [
      "/kaggle/input/time-series-analysis/deliveries.csv\n",
      "/kaggle/input/time-series-analysis/login.csv\n",
      "/kaggle/input/time-series-analysis/google.csv\n"
     ]
    }
   ],
   "source": [
    "# This Python 3 environment comes with many helpful analytics libraries installed\n",
    "# It is defined by the kaggle/python Docker image: https://github.com/kaggle/docker-python\n",
    "# For example, here's several helpful packages to load\n",
    "\n",
    "import numpy as np # linear algebra\n",
    "import pandas as pd # data processing, CSV file I/O (e.g. pd.read_csv)\n",
    "\n",
    "# Input data files are available in the read-only \"../input/\" directory\n",
    "# For example, running this (by clicking run or pressing Shift+Enter) will list all files under the input directory\n",
    "\n",
    "import os\n",
    "for dirname, _, filenames in os.walk('/kaggle/input'):\n",
    "    for filename in filenames:\n",
    "        print(os.path.join(dirname, filename))\n",
    "\n",
    "# You can write up to 20GB to the current directory (/kaggle/working/) that gets preserved as output when you create a version using \"Save & Run All\" \n",
    "# You can also write temporary files to /kaggle/temp/, but they won't be saved outside of the current session"
   ]
  },
  {
   "cell_type": "code",
   "execution_count": 2,
   "id": "b28091a6",
   "metadata": {
    "execution": {
     "iopub.execute_input": "2024-03-21T06:00:33.556360Z",
     "iopub.status.busy": "2024-03-21T06:00:33.555791Z",
     "iopub.status.idle": "2024-03-21T06:00:33.620177Z",
     "shell.execute_reply": "2024-03-21T06:00:33.618747Z"
    },
    "papermill": {
     "duration": 0.085016,
     "end_time": "2024-03-21T06:00:33.622663",
     "exception": false,
     "start_time": "2024-03-21T06:00:33.537647",
     "status": "completed"
    },
    "tags": []
   },
   "outputs": [
    {
     "data": {
      "text/html": [
       "<div>\n",
       "<style scoped>\n",
       "    .dataframe tbody tr th:only-of-type {\n",
       "        vertical-align: middle;\n",
       "    }\n",
       "\n",
       "    .dataframe tbody tr th {\n",
       "        vertical-align: top;\n",
       "    }\n",
       "\n",
       "    .dataframe thead th {\n",
       "        text-align: right;\n",
       "    }\n",
       "</style>\n",
       "<table border=\"1\" class=\"dataframe\">\n",
       "  <thead>\n",
       "    <tr style=\"text-align: right;\">\n",
       "      <th></th>\n",
       "      <th>Date</th>\n",
       "      <th>Open</th>\n",
       "      <th>High</th>\n",
       "      <th>Low</th>\n",
       "      <th>Close</th>\n",
       "      <th>Adj Close</th>\n",
       "      <th>Volume</th>\n",
       "    </tr>\n",
       "  </thead>\n",
       "  <tbody>\n",
       "    <tr>\n",
       "      <th>0</th>\n",
       "      <td>2004-08-19</td>\n",
       "      <td>49.813290</td>\n",
       "      <td>51.835709</td>\n",
       "      <td>47.800831</td>\n",
       "      <td>49.982655</td>\n",
       "      <td>49.982655</td>\n",
       "      <td>44871361</td>\n",
       "    </tr>\n",
       "    <tr>\n",
       "      <th>1</th>\n",
       "      <td>2004-08-20</td>\n",
       "      <td>50.316402</td>\n",
       "      <td>54.336334</td>\n",
       "      <td>50.062355</td>\n",
       "      <td>53.952770</td>\n",
       "      <td>53.952770</td>\n",
       "      <td>22942874</td>\n",
       "    </tr>\n",
       "    <tr>\n",
       "      <th>2</th>\n",
       "      <td>2004-08-23</td>\n",
       "      <td>55.168217</td>\n",
       "      <td>56.528118</td>\n",
       "      <td>54.321388</td>\n",
       "      <td>54.495735</td>\n",
       "      <td>54.495735</td>\n",
       "      <td>18342897</td>\n",
       "    </tr>\n",
       "    <tr>\n",
       "      <th>3</th>\n",
       "      <td>2004-08-24</td>\n",
       "      <td>55.412300</td>\n",
       "      <td>55.591629</td>\n",
       "      <td>51.591621</td>\n",
       "      <td>52.239197</td>\n",
       "      <td>52.239197</td>\n",
       "      <td>15319808</td>\n",
       "    </tr>\n",
       "    <tr>\n",
       "      <th>4</th>\n",
       "      <td>2004-08-25</td>\n",
       "      <td>52.284027</td>\n",
       "      <td>53.798351</td>\n",
       "      <td>51.746044</td>\n",
       "      <td>52.802086</td>\n",
       "      <td>52.802086</td>\n",
       "      <td>9232276</td>\n",
       "    </tr>\n",
       "    <tr>\n",
       "      <th>...</th>\n",
       "      <td>...</td>\n",
       "      <td>...</td>\n",
       "      <td>...</td>\n",
       "      <td>...</td>\n",
       "      <td>...</td>\n",
       "      <td>...</td>\n",
       "      <td>...</td>\n",
       "    </tr>\n",
       "    <tr>\n",
       "      <th>4466</th>\n",
       "      <td>2022-05-16</td>\n",
       "      <td>2307.679932</td>\n",
       "      <td>2332.149902</td>\n",
       "      <td>2286.699951</td>\n",
       "      <td>2295.850098</td>\n",
       "      <td>2295.850098</td>\n",
       "      <td>1164100</td>\n",
       "    </tr>\n",
       "    <tr>\n",
       "      <th>4467</th>\n",
       "      <td>2022-05-17</td>\n",
       "      <td>2344.550049</td>\n",
       "      <td>2344.550049</td>\n",
       "      <td>2306.750000</td>\n",
       "      <td>2334.030029</td>\n",
       "      <td>2334.030029</td>\n",
       "      <td>1078800</td>\n",
       "    </tr>\n",
       "    <tr>\n",
       "      <th>4468</th>\n",
       "      <td>2022-05-18</td>\n",
       "      <td>2304.750000</td>\n",
       "      <td>2313.913086</td>\n",
       "      <td>2242.840088</td>\n",
       "      <td>2248.020020</td>\n",
       "      <td>2248.020020</td>\n",
       "      <td>1399100</td>\n",
       "    </tr>\n",
       "    <tr>\n",
       "      <th>4469</th>\n",
       "      <td>2022-05-19</td>\n",
       "      <td>2236.820068</td>\n",
       "      <td>2271.750000</td>\n",
       "      <td>2209.360107</td>\n",
       "      <td>2214.909912</td>\n",
       "      <td>2214.909912</td>\n",
       "      <td>1459600</td>\n",
       "    </tr>\n",
       "    <tr>\n",
       "      <th>4470</th>\n",
       "      <td>2022-05-20</td>\n",
       "      <td>2241.709961</td>\n",
       "      <td>2251.000000</td>\n",
       "      <td>2127.459961</td>\n",
       "      <td>2186.260010</td>\n",
       "      <td>2186.260010</td>\n",
       "      <td>1878100</td>\n",
       "    </tr>\n",
       "  </tbody>\n",
       "</table>\n",
       "<p>4471 rows × 7 columns</p>\n",
       "</div>"
      ],
      "text/plain": [
       "            Date         Open         High          Low        Close  \\\n",
       "0     2004-08-19    49.813290    51.835709    47.800831    49.982655   \n",
       "1     2004-08-20    50.316402    54.336334    50.062355    53.952770   \n",
       "2     2004-08-23    55.168217    56.528118    54.321388    54.495735   \n",
       "3     2004-08-24    55.412300    55.591629    51.591621    52.239197   \n",
       "4     2004-08-25    52.284027    53.798351    51.746044    52.802086   \n",
       "...          ...          ...          ...          ...          ...   \n",
       "4466  2022-05-16  2307.679932  2332.149902  2286.699951  2295.850098   \n",
       "4467  2022-05-17  2344.550049  2344.550049  2306.750000  2334.030029   \n",
       "4468  2022-05-18  2304.750000  2313.913086  2242.840088  2248.020020   \n",
       "4469  2022-05-19  2236.820068  2271.750000  2209.360107  2214.909912   \n",
       "4470  2022-05-20  2241.709961  2251.000000  2127.459961  2186.260010   \n",
       "\n",
       "        Adj Close    Volume  \n",
       "0       49.982655  44871361  \n",
       "1       53.952770  22942874  \n",
       "2       54.495735  18342897  \n",
       "3       52.239197  15319808  \n",
       "4       52.802086   9232276  \n",
       "...           ...       ...  \n",
       "4466  2295.850098   1164100  \n",
       "4467  2334.030029   1078800  \n",
       "4468  2248.020020   1399100  \n",
       "4469  2214.909912   1459600  \n",
       "4470  2186.260010   1878100  \n",
       "\n",
       "[4471 rows x 7 columns]"
      ]
     },
     "execution_count": 2,
     "metadata": {},
     "output_type": "execute_result"
    }
   ],
   "source": [
    "pd.read_csv(\"/kaggle/input/time-series-analysis/google.csv\")"
   ]
  },
  {
   "cell_type": "code",
   "execution_count": 3,
   "id": "5177e3bb",
   "metadata": {
    "execution": {
     "iopub.execute_input": "2024-03-21T06:00:33.660973Z",
     "iopub.status.busy": "2024-03-21T06:00:33.660208Z",
     "iopub.status.idle": "2024-03-21T06:00:33.685142Z",
     "shell.execute_reply": "2024-03-21T06:00:33.684291Z"
    },
    "papermill": {
     "duration": 0.046607,
     "end_time": "2024-03-21T06:00:33.687419",
     "exception": false,
     "start_time": "2024-03-21T06:00:33.640812",
     "status": "completed"
    },
    "tags": []
   },
   "outputs": [
    {
     "data": {
      "text/plain": [
       "Index(['Saturday', 'Tuesday', 'Wednesday'], dtype='object')"
      ]
     },
     "execution_count": 3,
     "metadata": {},
     "output_type": "execute_result"
    }
   ],
   "source": [
    "#for  sigle time to store we use timestamp\n",
    "pd.Timestamp(\"20 mar 2024 13:33\").month\n",
    "# for muliple  we use DatetimeIndex  also we make this datetime index as index of out datefremes or series \n",
    "pd.DatetimeIndex([pd.Timestamp(\"20 mar 2024 13:33\"),pd.Timestamp(\"20 mar 2024 13:34\"),pd.Timestamp(\"20 mar 2024 13:36\")])\n",
    "#data_range()   is used to get all the dates from one range to another \n",
    "pd.date_range(start=\"2024-01-01\",end=\"2024-03-20\" ,freq=\"D\")\n",
    "#to_datetime()  convert it to tatetime object\n",
    "s=[\"2024/01/20\",\"2024/02/20\",\"2024/03/20\"]\n",
    "s# as its a sting we need to convert it to datetime \n",
    "pd.to_datetime(s)\n",
    "# to fech details form this \n",
    "# pd.to_datetime(s).dt.day_name() dt accesor dont work always \n",
    "pd.to_datetime(s).month_name()\n",
    "pd.to_datetime(s).day_name()"
   ]
  },
  {
   "cell_type": "code",
   "execution_count": 4,
   "id": "f0e0c38a",
   "metadata": {
    "execution": {
     "iopub.execute_input": "2024-03-21T06:00:33.726222Z",
     "iopub.status.busy": "2024-03-21T06:00:33.725251Z",
     "iopub.status.idle": "2024-03-21T06:00:33.733009Z",
     "shell.execute_reply": "2024-03-21T06:00:33.731888Z"
    },
    "papermill": {
     "duration": 0.029396,
     "end_time": "2024-03-21T06:00:33.735803",
     "exception": false,
     "start_time": "2024-03-21T06:00:33.706407",
     "status": "completed"
    },
    "tags": []
   },
   "outputs": [
    {
     "data": {
      "text/plain": [
       "Timedelta('0 days 03:00:00')"
      ]
     },
     "execution_count": 4,
     "metadata": {},
     "output_type": "execute_result"
    }
   ],
   "source": [
    "#Time Delta\n",
    "# represents a duration ,i.e diffrence between two dates or time\n",
    "\n",
    "t1= pd.Timestamp(\"20 mar 2024 13:33\")\n",
    "t2= pd.Timestamp(\"20 mar 2024 10:33\")\n",
    "\n",
    "t1-t2  \n",
    "\n"
   ]
  },
  {
   "cell_type": "markdown",
   "id": "1904e588",
   "metadata": {
    "papermill": {
     "duration": 0.017745,
     "end_time": "2024-03-21T06:00:33.771768",
     "exception": false,
     "start_time": "2024-03-21T06:00:33.754023",
     "status": "completed"
    },
    "tags": []
   },
   "source": [
    "# arithemetic "
   ]
  },
  {
   "cell_type": "code",
   "execution_count": 5,
   "id": "80173ce4",
   "metadata": {
    "execution": {
     "iopub.execute_input": "2024-03-21T06:00:33.810308Z",
     "iopub.status.busy": "2024-03-21T06:00:33.809576Z",
     "iopub.status.idle": "2024-03-21T06:00:33.816525Z",
     "shell.execute_reply": "2024-03-21T06:00:33.815442Z"
    },
    "papermill": {
     "duration": 0.028802,
     "end_time": "2024-03-21T06:00:33.819013",
     "exception": false,
     "start_time": "2024-03-21T06:00:33.790211",
     "status": "completed"
    },
    "tags": []
   },
   "outputs": [
    {
     "data": {
      "text/plain": [
       "Timedelta('2 days 10:35:00')"
      ]
     },
     "execution_count": 5,
     "metadata": {},
     "output_type": "execute_result"
    }
   ],
   "source": [
    "pd.Timedelta(days=2 ,hours =10,minutes=35)"
   ]
  },
  {
   "cell_type": "code",
   "execution_count": 6,
   "id": "ce446427",
   "metadata": {
    "execution": {
     "iopub.execute_input": "2024-03-21T06:00:33.856325Z",
     "iopub.status.busy": "2024-03-21T06:00:33.855907Z",
     "iopub.status.idle": "2024-03-21T06:00:33.863810Z",
     "shell.execute_reply": "2024-03-21T06:00:33.862704Z"
    },
    "papermill": {
     "duration": 0.02929,
     "end_time": "2024-03-21T06:00:33.866387",
     "exception": false,
     "start_time": "2024-03-21T06:00:33.837097",
     "status": "completed"
    },
    "tags": []
   },
   "outputs": [
    {
     "data": {
      "text/plain": [
       "Timestamp('2024-03-23 00:08:00')"
      ]
     },
     "execution_count": 6,
     "metadata": {},
     "output_type": "execute_result"
    }
   ],
   "source": [
    "pd.Timestamp(\"20 mar 2024 13:33\")+pd.Timedelta(days=2 ,hours =10,minutes=35)\n"
   ]
  },
  {
   "cell_type": "code",
   "execution_count": 7,
   "id": "cf3214e4",
   "metadata": {
    "execution": {
     "iopub.execute_input": "2024-03-21T06:00:33.904293Z",
     "iopub.status.busy": "2024-03-21T06:00:33.903644Z",
     "iopub.status.idle": "2024-03-21T06:00:33.916957Z",
     "shell.execute_reply": "2024-03-21T06:00:33.915777Z"
    },
    "papermill": {
     "duration": 0.035127,
     "end_time": "2024-03-21T06:00:33.919419",
     "exception": false,
     "start_time": "2024-03-21T06:00:33.884292",
     "status": "completed"
    },
    "tags": []
   },
   "outputs": [
    {
     "data": {
      "text/plain": [
       "DatetimeIndex(['2024-01-03 10:35:00', '2024-01-04 10:35:00',\n",
       "               '2024-01-05 10:35:00', '2024-01-06 10:35:00',\n",
       "               '2024-01-07 10:35:00', '2024-01-08 10:35:00',\n",
       "               '2024-01-09 10:35:00', '2024-01-10 10:35:00',\n",
       "               '2024-01-11 10:35:00', '2024-01-12 10:35:00',\n",
       "               '2024-01-13 10:35:00', '2024-01-14 10:35:00',\n",
       "               '2024-01-15 10:35:00', '2024-01-16 10:35:00',\n",
       "               '2024-01-17 10:35:00', '2024-01-18 10:35:00',\n",
       "               '2024-01-19 10:35:00', '2024-01-20 10:35:00',\n",
       "               '2024-01-21 10:35:00', '2024-01-22 10:35:00',\n",
       "               '2024-01-23 10:35:00', '2024-01-24 10:35:00',\n",
       "               '2024-01-25 10:35:00', '2024-01-26 10:35:00',\n",
       "               '2024-01-27 10:35:00', '2024-01-28 10:35:00',\n",
       "               '2024-01-29 10:35:00', '2024-01-30 10:35:00',\n",
       "               '2024-01-31 10:35:00', '2024-02-01 10:35:00',\n",
       "               '2024-02-02 10:35:00', '2024-02-03 10:35:00',\n",
       "               '2024-02-04 10:35:00', '2024-02-05 10:35:00',\n",
       "               '2024-02-06 10:35:00', '2024-02-07 10:35:00',\n",
       "               '2024-02-08 10:35:00', '2024-02-09 10:35:00',\n",
       "               '2024-02-10 10:35:00', '2024-02-11 10:35:00',\n",
       "               '2024-02-12 10:35:00', '2024-02-13 10:35:00',\n",
       "               '2024-02-14 10:35:00', '2024-02-15 10:35:00',\n",
       "               '2024-02-16 10:35:00', '2024-02-17 10:35:00',\n",
       "               '2024-02-18 10:35:00', '2024-02-19 10:35:00',\n",
       "               '2024-02-20 10:35:00', '2024-02-21 10:35:00',\n",
       "               '2024-02-22 10:35:00', '2024-02-23 10:35:00',\n",
       "               '2024-02-24 10:35:00', '2024-02-25 10:35:00',\n",
       "               '2024-02-26 10:35:00', '2024-02-27 10:35:00',\n",
       "               '2024-02-28 10:35:00', '2024-02-29 10:35:00',\n",
       "               '2024-03-01 10:35:00', '2024-03-02 10:35:00',\n",
       "               '2024-03-03 10:35:00', '2024-03-04 10:35:00',\n",
       "               '2024-03-05 10:35:00', '2024-03-06 10:35:00',\n",
       "               '2024-03-07 10:35:00', '2024-03-08 10:35:00',\n",
       "               '2024-03-09 10:35:00', '2024-03-10 10:35:00',\n",
       "               '2024-03-11 10:35:00', '2024-03-12 10:35:00',\n",
       "               '2024-03-13 10:35:00', '2024-03-14 10:35:00',\n",
       "               '2024-03-15 10:35:00', '2024-03-16 10:35:00',\n",
       "               '2024-03-17 10:35:00', '2024-03-18 10:35:00',\n",
       "               '2024-03-19 10:35:00', '2024-03-20 10:35:00',\n",
       "               '2024-03-21 10:35:00', '2024-03-22 10:35:00'],\n",
       "              dtype='datetime64[ns]', freq='D')"
      ]
     },
     "execution_count": 7,
     "metadata": {},
     "output_type": "execute_result"
    }
   ],
   "source": [
    "pd.date_range(start=\"2024-01-01\",end=\"2024-03-20\" ,freq=\"D\")+pd.Timedelta(days=2 ,hours =10,minutes=35)\n"
   ]
  },
  {
   "cell_type": "code",
   "execution_count": 8,
   "id": "90aa56e8",
   "metadata": {
    "execution": {
     "iopub.execute_input": "2024-03-21T06:00:33.957838Z",
     "iopub.status.busy": "2024-03-21T06:00:33.957418Z",
     "iopub.status.idle": "2024-03-21T06:00:33.975843Z",
     "shell.execute_reply": "2024-03-21T06:00:33.974583Z"
    },
    "papermill": {
     "duration": 0.040118,
     "end_time": "2024-03-21T06:00:33.978429",
     "exception": false,
     "start_time": "2024-03-21T06:00:33.938311",
     "status": "completed"
    },
    "tags": []
   },
   "outputs": [
    {
     "data": {
      "text/html": [
       "<div>\n",
       "<style scoped>\n",
       "    .dataframe tbody tr th:only-of-type {\n",
       "        vertical-align: middle;\n",
       "    }\n",
       "\n",
       "    .dataframe tbody tr th {\n",
       "        vertical-align: top;\n",
       "    }\n",
       "\n",
       "    .dataframe thead th {\n",
       "        text-align: right;\n",
       "    }\n",
       "</style>\n",
       "<table border=\"1\" class=\"dataframe\">\n",
       "  <thead>\n",
       "    <tr style=\"text-align: right;\">\n",
       "      <th></th>\n",
       "      <th>order_date</th>\n",
       "      <th>delivery_date</th>\n",
       "    </tr>\n",
       "  </thead>\n",
       "  <tbody>\n",
       "    <tr>\n",
       "      <th>0</th>\n",
       "      <td>5/24/98</td>\n",
       "      <td>2/5/99</td>\n",
       "    </tr>\n",
       "    <tr>\n",
       "      <th>1</th>\n",
       "      <td>4/22/92</td>\n",
       "      <td>3/6/98</td>\n",
       "    </tr>\n",
       "    <tr>\n",
       "      <th>2</th>\n",
       "      <td>2/10/91</td>\n",
       "      <td>8/26/92</td>\n",
       "    </tr>\n",
       "    <tr>\n",
       "      <th>3</th>\n",
       "      <td>7/21/92</td>\n",
       "      <td>11/20/97</td>\n",
       "    </tr>\n",
       "    <tr>\n",
       "      <th>4</th>\n",
       "      <td>9/2/93</td>\n",
       "      <td>6/10/98</td>\n",
       "    </tr>\n",
       "  </tbody>\n",
       "</table>\n",
       "</div>"
      ],
      "text/plain": [
       "  order_date delivery_date\n",
       "0    5/24/98        2/5/99\n",
       "1    4/22/92        3/6/98\n",
       "2    2/10/91       8/26/92\n",
       "3    7/21/92      11/20/97\n",
       "4     9/2/93       6/10/98"
      ]
     },
     "execution_count": 8,
     "metadata": {},
     "output_type": "execute_result"
    }
   ],
   "source": [
    "df= pd.read_csv(\"/kaggle/input/time-series-analysis/deliveries.csv\")\n",
    "df.head()"
   ]
  },
  {
   "cell_type": "code",
   "execution_count": 9,
   "id": "78bc63e6",
   "metadata": {
    "execution": {
     "iopub.execute_input": "2024-03-21T06:00:34.017022Z",
     "iopub.status.busy": "2024-03-21T06:00:34.016596Z",
     "iopub.status.idle": "2024-03-21T06:00:34.023541Z",
     "shell.execute_reply": "2024-03-21T06:00:34.022371Z"
    },
    "papermill": {
     "duration": 0.029142,
     "end_time": "2024-03-21T06:00:34.025949",
     "exception": false,
     "start_time": "2024-03-21T06:00:33.996807",
     "status": "completed"
    },
    "tags": []
   },
   "outputs": [
    {
     "data": {
      "text/plain": [
       "(501, 2)"
      ]
     },
     "execution_count": 9,
     "metadata": {},
     "output_type": "execute_result"
    }
   ],
   "source": [
    "# find the average time for the delivery time  \n",
    "\n",
    "\n",
    "df.shape"
   ]
  },
  {
   "cell_type": "code",
   "execution_count": 10,
   "id": "ddb0e028",
   "metadata": {
    "execution": {
     "iopub.execute_input": "2024-03-21T06:00:34.064084Z",
     "iopub.status.busy": "2024-03-21T06:00:34.063703Z",
     "iopub.status.idle": "2024-03-21T06:00:34.088192Z",
     "shell.execute_reply": "2024-03-21T06:00:34.087025Z"
    },
    "papermill": {
     "duration": 0.047634,
     "end_time": "2024-03-21T06:00:34.091594",
     "exception": false,
     "start_time": "2024-03-21T06:00:34.043960",
     "status": "completed"
    },
    "tags": []
   },
   "outputs": [
    {
     "name": "stdout",
     "output_type": "stream",
     "text": [
      "<class 'pandas.core.frame.DataFrame'>\n",
      "RangeIndex: 501 entries, 0 to 500\n",
      "Data columns (total 2 columns):\n",
      " #   Column         Non-Null Count  Dtype \n",
      "---  ------         --------------  ----- \n",
      " 0   order_date     501 non-null    object\n",
      " 1   delivery_date  501 non-null    object\n",
      "dtypes: object(2)\n",
      "memory usage: 8.0+ KB\n"
     ]
    }
   ],
   "source": [
    "df.info()"
   ]
  },
  {
   "cell_type": "code",
   "execution_count": 11,
   "id": "bd108611",
   "metadata": {
    "execution": {
     "iopub.execute_input": "2024-03-21T06:00:34.130453Z",
     "iopub.status.busy": "2024-03-21T06:00:34.130057Z",
     "iopub.status.idle": "2024-03-21T06:00:34.218262Z",
     "shell.execute_reply": "2024-03-21T06:00:34.217128Z"
    },
    "papermill": {
     "duration": 0.110759,
     "end_time": "2024-03-21T06:00:34.220934",
     "exception": false,
     "start_time": "2024-03-21T06:00:34.110175",
     "status": "completed"
    },
    "tags": []
   },
   "outputs": [
    {
     "name": "stderr",
     "output_type": "stream",
     "text": [
      "/tmp/ipykernel_18/1045838049.py:1: UserWarning: Could not infer format, so each element will be parsed individually, falling back to `dateutil`. To ensure parsing is consistent and as-expected, please specify a format.\n",
      "  df[\"order_date\"] = pd.to_datetime(df[\"order_date\"])\n",
      "/tmp/ipykernel_18/1045838049.py:2: UserWarning: Could not infer format, so each element will be parsed individually, falling back to `dateutil`. To ensure parsing is consistent and as-expected, please specify a format.\n",
      "  df[\"delivery_date\"] = pd.to_datetime(df[\"delivery_date\"])\n"
     ]
    }
   ],
   "source": [
    "df[\"order_date\"] = pd.to_datetime(df[\"order_date\"])\n",
    "df[\"delivery_date\"] = pd.to_datetime(df[\"delivery_date\"])"
   ]
  },
  {
   "cell_type": "code",
   "execution_count": 12,
   "id": "3e747bc4",
   "metadata": {
    "execution": {
     "iopub.execute_input": "2024-03-21T06:00:34.260212Z",
     "iopub.status.busy": "2024-03-21T06:00:34.259832Z",
     "iopub.status.idle": "2024-03-21T06:00:34.271136Z",
     "shell.execute_reply": "2024-03-21T06:00:34.269906Z"
    },
    "papermill": {
     "duration": 0.034511,
     "end_time": "2024-03-21T06:00:34.273913",
     "exception": false,
     "start_time": "2024-03-21T06:00:34.239402",
     "status": "completed"
    },
    "tags": []
   },
   "outputs": [
    {
     "data": {
      "text/plain": [
       "Timedelta('-1218 days +01:06:06.467065872')"
      ]
     },
     "execution_count": 12,
     "metadata": {},
     "output_type": "execute_result"
    }
   ],
   "source": [
    "#df[\"order_date\"]-df[\"delivery_date\"]  # evry item is time stamp so now im goint o store it in a variable \n",
    "df[\"delivery_time_period\"] = df[\"order_date\"] - df[\"delivery_date\"] \n",
    "df[\"delivery_time_period\"].mean()  #eaverage time for the delivery time  "
   ]
  },
  {
   "cell_type": "markdown",
   "id": "4134dcf4",
   "metadata": {
    "papermill": {
     "duration": 0.019491,
     "end_time": "2024-03-21T06:00:34.312172",
     "exception": false,
     "start_time": "2024-03-21T06:00:34.292681",
     "status": "completed"
    },
    "tags": []
   },
   "source": [
    "**Time series**\n",
    "A time series is a data set that tracks a sample over time. In particular, a time series allows one to see what factors influence certain variables from period to period. Time series analysis can be useful to see how a given asset, security, or economic variable changes over time.\n",
    "\n",
    "Examples\n",
    "\n",
    "* Financial Data (Company stocks)\n",
    "* Natural Data (Rainfall measurement)\n",
    "* Event Data (Covid)\n",
    "* Medical Data (Heart rate monitoring)\n",
    "\n",
    "**Types of Operations done on Time Series\n",
    "**\n",
    "* Time Series Analysis\n",
    "* Time Series Forecasting"
   ]
  },
  {
   "cell_type": "code",
   "execution_count": 13,
   "id": "27a21993",
   "metadata": {
    "execution": {
     "iopub.execute_input": "2024-03-21T06:00:34.351683Z",
     "iopub.status.busy": "2024-03-21T06:00:34.351272Z",
     "iopub.status.idle": "2024-03-21T06:00:34.372011Z",
     "shell.execute_reply": "2024-03-21T06:00:34.370529Z"
    },
    "papermill": {
     "duration": 0.043817,
     "end_time": "2024-03-21T06:00:34.374837",
     "exception": false,
     "start_time": "2024-03-21T06:00:34.331020",
     "status": "completed"
    },
    "tags": []
   },
   "outputs": [],
   "source": [
    "df = pd.read_csv(\"/kaggle/input/time-series-analysis/google.csv\")"
   ]
  },
  {
   "cell_type": "code",
   "execution_count": 14,
   "id": "52ad18f6",
   "metadata": {
    "execution": {
     "iopub.execute_input": "2024-03-21T06:00:34.414738Z",
     "iopub.status.busy": "2024-03-21T06:00:34.414296Z",
     "iopub.status.idle": "2024-03-21T06:00:34.428338Z",
     "shell.execute_reply": "2024-03-21T06:00:34.427536Z"
    },
    "papermill": {
     "duration": 0.036612,
     "end_time": "2024-03-21T06:00:34.430544",
     "exception": false,
     "start_time": "2024-03-21T06:00:34.393932",
     "status": "completed"
    },
    "tags": []
   },
   "outputs": [
    {
     "data": {
      "text/html": [
       "<div>\n",
       "<style scoped>\n",
       "    .dataframe tbody tr th:only-of-type {\n",
       "        vertical-align: middle;\n",
       "    }\n",
       "\n",
       "    .dataframe tbody tr th {\n",
       "        vertical-align: top;\n",
       "    }\n",
       "\n",
       "    .dataframe thead th {\n",
       "        text-align: right;\n",
       "    }\n",
       "</style>\n",
       "<table border=\"1\" class=\"dataframe\">\n",
       "  <thead>\n",
       "    <tr style=\"text-align: right;\">\n",
       "      <th></th>\n",
       "      <th>Date</th>\n",
       "      <th>Open</th>\n",
       "      <th>High</th>\n",
       "      <th>Low</th>\n",
       "      <th>Close</th>\n",
       "      <th>Adj Close</th>\n",
       "      <th>Volume</th>\n",
       "    </tr>\n",
       "  </thead>\n",
       "  <tbody>\n",
       "    <tr>\n",
       "      <th>4466</th>\n",
       "      <td>2022-05-16</td>\n",
       "      <td>2307.679932</td>\n",
       "      <td>2332.149902</td>\n",
       "      <td>2286.699951</td>\n",
       "      <td>2295.850098</td>\n",
       "      <td>2295.850098</td>\n",
       "      <td>1164100</td>\n",
       "    </tr>\n",
       "    <tr>\n",
       "      <th>4467</th>\n",
       "      <td>2022-05-17</td>\n",
       "      <td>2344.550049</td>\n",
       "      <td>2344.550049</td>\n",
       "      <td>2306.750000</td>\n",
       "      <td>2334.030029</td>\n",
       "      <td>2334.030029</td>\n",
       "      <td>1078800</td>\n",
       "    </tr>\n",
       "    <tr>\n",
       "      <th>4468</th>\n",
       "      <td>2022-05-18</td>\n",
       "      <td>2304.750000</td>\n",
       "      <td>2313.913086</td>\n",
       "      <td>2242.840088</td>\n",
       "      <td>2248.020020</td>\n",
       "      <td>2248.020020</td>\n",
       "      <td>1399100</td>\n",
       "    </tr>\n",
       "    <tr>\n",
       "      <th>4469</th>\n",
       "      <td>2022-05-19</td>\n",
       "      <td>2236.820068</td>\n",
       "      <td>2271.750000</td>\n",
       "      <td>2209.360107</td>\n",
       "      <td>2214.909912</td>\n",
       "      <td>2214.909912</td>\n",
       "      <td>1459600</td>\n",
       "    </tr>\n",
       "    <tr>\n",
       "      <th>4470</th>\n",
       "      <td>2022-05-20</td>\n",
       "      <td>2241.709961</td>\n",
       "      <td>2251.000000</td>\n",
       "      <td>2127.459961</td>\n",
       "      <td>2186.260010</td>\n",
       "      <td>2186.260010</td>\n",
       "      <td>1878100</td>\n",
       "    </tr>\n",
       "  </tbody>\n",
       "</table>\n",
       "</div>"
      ],
      "text/plain": [
       "            Date         Open         High          Low        Close  \\\n",
       "4466  2022-05-16  2307.679932  2332.149902  2286.699951  2295.850098   \n",
       "4467  2022-05-17  2344.550049  2344.550049  2306.750000  2334.030029   \n",
       "4468  2022-05-18  2304.750000  2313.913086  2242.840088  2248.020020   \n",
       "4469  2022-05-19  2236.820068  2271.750000  2209.360107  2214.909912   \n",
       "4470  2022-05-20  2241.709961  2251.000000  2127.459961  2186.260010   \n",
       "\n",
       "        Adj Close   Volume  \n",
       "4466  2295.850098  1164100  \n",
       "4467  2334.030029  1078800  \n",
       "4468  2248.020020  1399100  \n",
       "4469  2214.909912  1459600  \n",
       "4470  2186.260010  1878100  "
      ]
     },
     "execution_count": 14,
     "metadata": {},
     "output_type": "execute_result"
    }
   ],
   "source": [
    "df.tail()"
   ]
  },
  {
   "cell_type": "code",
   "execution_count": 15,
   "id": "5cac335a",
   "metadata": {
    "execution": {
     "iopub.execute_input": "2024-03-21T06:00:34.471633Z",
     "iopub.status.busy": "2024-03-21T06:00:34.471247Z",
     "iopub.status.idle": "2024-03-21T06:00:34.483585Z",
     "shell.execute_reply": "2024-03-21T06:00:34.482424Z"
    },
    "papermill": {
     "duration": 0.035704,
     "end_time": "2024-03-21T06:00:34.486017",
     "exception": false,
     "start_time": "2024-03-21T06:00:34.450313",
     "status": "completed"
    },
    "tags": []
   },
   "outputs": [
    {
     "name": "stdout",
     "output_type": "stream",
     "text": [
      "<class 'pandas.core.frame.DataFrame'>\n",
      "RangeIndex: 4471 entries, 0 to 4470\n",
      "Data columns (total 7 columns):\n",
      " #   Column     Non-Null Count  Dtype  \n",
      "---  ------     --------------  -----  \n",
      " 0   Date       4471 non-null   object \n",
      " 1   Open       4471 non-null   float64\n",
      " 2   High       4471 non-null   float64\n",
      " 3   Low        4471 non-null   float64\n",
      " 4   Close      4471 non-null   float64\n",
      " 5   Adj Close  4471 non-null   float64\n",
      " 6   Volume     4471 non-null   int64  \n",
      "dtypes: float64(5), int64(1), object(1)\n",
      "memory usage: 244.6+ KB\n"
     ]
    }
   ],
   "source": [
    "df.info()"
   ]
  },
  {
   "cell_type": "code",
   "execution_count": 16,
   "id": "3f54d2e5",
   "metadata": {
    "execution": {
     "iopub.execute_input": "2024-03-21T06:00:34.525371Z",
     "iopub.status.busy": "2024-03-21T06:00:34.524993Z",
     "iopub.status.idle": "2024-03-21T06:00:34.540133Z",
     "shell.execute_reply": "2024-03-21T06:00:34.539006Z"
    },
    "papermill": {
     "duration": 0.038073,
     "end_time": "2024-03-21T06:00:34.542855",
     "exception": false,
     "start_time": "2024-03-21T06:00:34.504782",
     "status": "completed"
    },
    "tags": []
   },
   "outputs": [
    {
     "name": "stdout",
     "output_type": "stream",
     "text": [
      "<class 'pandas.core.frame.DataFrame'>\n",
      "RangeIndex: 4471 entries, 0 to 4470\n",
      "Data columns (total 7 columns):\n",
      " #   Column     Non-Null Count  Dtype         \n",
      "---  ------     --------------  -----         \n",
      " 0   Date       4471 non-null   datetime64[ns]\n",
      " 1   Open       4471 non-null   float64       \n",
      " 2   High       4471 non-null   float64       \n",
      " 3   Low        4471 non-null   float64       \n",
      " 4   Close      4471 non-null   float64       \n",
      " 5   Adj Close  4471 non-null   float64       \n",
      " 6   Volume     4471 non-null   int64         \n",
      "dtypes: datetime64[ns](1), float64(5), int64(1)\n",
      "memory usage: 244.6 KB\n"
     ]
    }
   ],
   "source": [
    "# Date   is   object  we need to convert it to date time \n",
    "df[\"Date\"]=pd.to_datetime(df[\"Date\"])\n",
    "df.info()"
   ]
  },
  {
   "cell_type": "code",
   "execution_count": 17,
   "id": "da67d356",
   "metadata": {
    "execution": {
     "iopub.execute_input": "2024-03-21T06:00:34.582527Z",
     "iopub.status.busy": "2024-03-21T06:00:34.582121Z",
     "iopub.status.idle": "2024-03-21T06:00:34.589241Z",
     "shell.execute_reply": "2024-03-21T06:00:34.588212Z"
    },
    "papermill": {
     "duration": 0.029627,
     "end_time": "2024-03-21T06:00:34.591473",
     "exception": false,
     "start_time": "2024-03-21T06:00:34.561846",
     "status": "completed"
    },
    "tags": []
   },
   "outputs": [],
   "source": [
    "df.set_index(\"Date\",inplace=True)\n"
   ]
  },
  {
   "cell_type": "code",
   "execution_count": 18,
   "id": "e30442fb",
   "metadata": {
    "execution": {
     "iopub.execute_input": "2024-03-21T06:00:34.631775Z",
     "iopub.status.busy": "2024-03-21T06:00:34.631332Z",
     "iopub.status.idle": "2024-03-21T06:00:34.646275Z",
     "shell.execute_reply": "2024-03-21T06:00:34.645389Z"
    },
    "papermill": {
     "duration": 0.038377,
     "end_time": "2024-03-21T06:00:34.648751",
     "exception": false,
     "start_time": "2024-03-21T06:00:34.610374",
     "status": "completed"
    },
    "tags": []
   },
   "outputs": [
    {
     "data": {
      "text/html": [
       "<div>\n",
       "<style scoped>\n",
       "    .dataframe tbody tr th:only-of-type {\n",
       "        vertical-align: middle;\n",
       "    }\n",
       "\n",
       "    .dataframe tbody tr th {\n",
       "        vertical-align: top;\n",
       "    }\n",
       "\n",
       "    .dataframe thead th {\n",
       "        text-align: right;\n",
       "    }\n",
       "</style>\n",
       "<table border=\"1\" class=\"dataframe\">\n",
       "  <thead>\n",
       "    <tr style=\"text-align: right;\">\n",
       "      <th></th>\n",
       "      <th>Open</th>\n",
       "      <th>High</th>\n",
       "      <th>Low</th>\n",
       "      <th>Close</th>\n",
       "      <th>Adj Close</th>\n",
       "      <th>Volume</th>\n",
       "    </tr>\n",
       "    <tr>\n",
       "      <th>Date</th>\n",
       "      <th></th>\n",
       "      <th></th>\n",
       "      <th></th>\n",
       "      <th></th>\n",
       "      <th></th>\n",
       "      <th></th>\n",
       "    </tr>\n",
       "  </thead>\n",
       "  <tbody>\n",
       "    <tr>\n",
       "      <th>2004-08-19</th>\n",
       "      <td>49.813290</td>\n",
       "      <td>51.835709</td>\n",
       "      <td>47.800831</td>\n",
       "      <td>49.982655</td>\n",
       "      <td>49.982655</td>\n",
       "      <td>44871361</td>\n",
       "    </tr>\n",
       "    <tr>\n",
       "      <th>2004-08-20</th>\n",
       "      <td>50.316402</td>\n",
       "      <td>54.336334</td>\n",
       "      <td>50.062355</td>\n",
       "      <td>53.952770</td>\n",
       "      <td>53.952770</td>\n",
       "      <td>22942874</td>\n",
       "    </tr>\n",
       "    <tr>\n",
       "      <th>2004-08-23</th>\n",
       "      <td>55.168217</td>\n",
       "      <td>56.528118</td>\n",
       "      <td>54.321388</td>\n",
       "      <td>54.495735</td>\n",
       "      <td>54.495735</td>\n",
       "      <td>18342897</td>\n",
       "    </tr>\n",
       "    <tr>\n",
       "      <th>2004-08-24</th>\n",
       "      <td>55.412300</td>\n",
       "      <td>55.591629</td>\n",
       "      <td>51.591621</td>\n",
       "      <td>52.239197</td>\n",
       "      <td>52.239197</td>\n",
       "      <td>15319808</td>\n",
       "    </tr>\n",
       "    <tr>\n",
       "      <th>2004-08-25</th>\n",
       "      <td>52.284027</td>\n",
       "      <td>53.798351</td>\n",
       "      <td>51.746044</td>\n",
       "      <td>52.802086</td>\n",
       "      <td>52.802086</td>\n",
       "      <td>9232276</td>\n",
       "    </tr>\n",
       "  </tbody>\n",
       "</table>\n",
       "</div>"
      ],
      "text/plain": [
       "                 Open       High        Low      Close  Adj Close    Volume\n",
       "Date                                                                       \n",
       "2004-08-19  49.813290  51.835709  47.800831  49.982655  49.982655  44871361\n",
       "2004-08-20  50.316402  54.336334  50.062355  53.952770  53.952770  22942874\n",
       "2004-08-23  55.168217  56.528118  54.321388  54.495735  54.495735  18342897\n",
       "2004-08-24  55.412300  55.591629  51.591621  52.239197  52.239197  15319808\n",
       "2004-08-25  52.284027  53.798351  51.746044  52.802086  52.802086   9232276"
      ]
     },
     "execution_count": 18,
     "metadata": {},
     "output_type": "execute_result"
    }
   ],
   "source": [
    "df.head()"
   ]
  },
  {
   "cell_type": "code",
   "execution_count": 19,
   "id": "6d3e7773",
   "metadata": {
    "execution": {
     "iopub.execute_input": "2024-03-21T06:00:34.689639Z",
     "iopub.status.busy": "2024-03-21T06:00:34.689195Z",
     "iopub.status.idle": "2024-03-21T06:00:34.698489Z",
     "shell.execute_reply": "2024-03-21T06:00:34.697380Z"
    },
    "papermill": {
     "duration": 0.032563,
     "end_time": "2024-03-21T06:00:34.700670",
     "exception": false,
     "start_time": "2024-03-21T06:00:34.668107",
     "status": "completed"
    },
    "tags": []
   },
   "outputs": [
    {
     "data": {
      "text/plain": [
       "Open           2910.879883\n",
       "High           2927.300049\n",
       "Low            2893.550049\n",
       "Close          2893.590088\n",
       "Adj Close      2893.590088\n",
       "Volume       864900.000000\n",
       "Name: 2021-12-31 00:00:00, dtype: float64"
      ]
     },
     "execution_count": 19,
     "metadata": {},
     "output_type": "execute_result"
    }
   ],
   "source": [
    "#Fects a data on specific date \n",
    "\n",
    "df.loc[\"2021-12-31\"]"
   ]
  },
  {
   "cell_type": "code",
   "execution_count": 20,
   "id": "ab74e52b",
   "metadata": {
    "execution": {
     "iopub.execute_input": "2024-03-21T06:00:34.805087Z",
     "iopub.status.busy": "2024-03-21T06:00:34.804708Z",
     "iopub.status.idle": "2024-03-21T06:00:34.828762Z",
     "shell.execute_reply": "2024-03-21T06:00:34.827491Z"
    },
    "papermill": {
     "duration": 0.111559,
     "end_time": "2024-03-21T06:00:34.831643",
     "exception": false,
     "start_time": "2024-03-21T06:00:34.720084",
     "status": "completed"
    },
    "tags": []
   },
   "outputs": [
    {
     "data": {
      "text/html": [
       "<div>\n",
       "<style scoped>\n",
       "    .dataframe tbody tr th:only-of-type {\n",
       "        vertical-align: middle;\n",
       "    }\n",
       "\n",
       "    .dataframe tbody tr th {\n",
       "        vertical-align: top;\n",
       "    }\n",
       "\n",
       "    .dataframe thead th {\n",
       "        text-align: right;\n",
       "    }\n",
       "</style>\n",
       "<table border=\"1\" class=\"dataframe\">\n",
       "  <thead>\n",
       "    <tr style=\"text-align: right;\">\n",
       "      <th></th>\n",
       "      <th>Open</th>\n",
       "      <th>High</th>\n",
       "      <th>Low</th>\n",
       "      <th>Close</th>\n",
       "      <th>Adj Close</th>\n",
       "      <th>Volume</th>\n",
       "    </tr>\n",
       "    <tr>\n",
       "      <th>Date</th>\n",
       "      <th></th>\n",
       "      <th></th>\n",
       "      <th></th>\n",
       "      <th></th>\n",
       "      <th></th>\n",
       "      <th></th>\n",
       "    </tr>\n",
       "  </thead>\n",
       "  <tbody>\n",
       "    <tr>\n",
       "      <th>2022-01-03</th>\n",
       "      <td>2889.510010</td>\n",
       "      <td>2911.000000</td>\n",
       "      <td>2870.050049</td>\n",
       "      <td>2901.489990</td>\n",
       "      <td>2901.489990</td>\n",
       "      <td>1260700</td>\n",
       "    </tr>\n",
       "    <tr>\n",
       "      <th>2022-01-04</th>\n",
       "      <td>2911.010010</td>\n",
       "      <td>2932.199951</td>\n",
       "      <td>2876.322998</td>\n",
       "      <td>2888.330078</td>\n",
       "      <td>2888.330078</td>\n",
       "      <td>1146400</td>\n",
       "    </tr>\n",
       "    <tr>\n",
       "      <th>2022-01-05</th>\n",
       "      <td>2883.620117</td>\n",
       "      <td>2885.959961</td>\n",
       "      <td>2750.469971</td>\n",
       "      <td>2753.070068</td>\n",
       "      <td>2753.070068</td>\n",
       "      <td>2482100</td>\n",
       "    </tr>\n",
       "    <tr>\n",
       "      <th>2022-01-06</th>\n",
       "      <td>2749.949951</td>\n",
       "      <td>2793.719971</td>\n",
       "      <td>2735.270020</td>\n",
       "      <td>2751.020020</td>\n",
       "      <td>2751.020020</td>\n",
       "      <td>1452500</td>\n",
       "    </tr>\n",
       "    <tr>\n",
       "      <th>2022-01-07</th>\n",
       "      <td>2758.100098</td>\n",
       "      <td>2765.094971</td>\n",
       "      <td>2715.780029</td>\n",
       "      <td>2740.090088</td>\n",
       "      <td>2740.090088</td>\n",
       "      <td>970400</td>\n",
       "    </tr>\n",
       "    <tr>\n",
       "      <th>...</th>\n",
       "      <td>...</td>\n",
       "      <td>...</td>\n",
       "      <td>...</td>\n",
       "      <td>...</td>\n",
       "      <td>...</td>\n",
       "      <td>...</td>\n",
       "    </tr>\n",
       "    <tr>\n",
       "      <th>2022-05-16</th>\n",
       "      <td>2307.679932</td>\n",
       "      <td>2332.149902</td>\n",
       "      <td>2286.699951</td>\n",
       "      <td>2295.850098</td>\n",
       "      <td>2295.850098</td>\n",
       "      <td>1164100</td>\n",
       "    </tr>\n",
       "    <tr>\n",
       "      <th>2022-05-17</th>\n",
       "      <td>2344.550049</td>\n",
       "      <td>2344.550049</td>\n",
       "      <td>2306.750000</td>\n",
       "      <td>2334.030029</td>\n",
       "      <td>2334.030029</td>\n",
       "      <td>1078800</td>\n",
       "    </tr>\n",
       "    <tr>\n",
       "      <th>2022-05-18</th>\n",
       "      <td>2304.750000</td>\n",
       "      <td>2313.913086</td>\n",
       "      <td>2242.840088</td>\n",
       "      <td>2248.020020</td>\n",
       "      <td>2248.020020</td>\n",
       "      <td>1399100</td>\n",
       "    </tr>\n",
       "    <tr>\n",
       "      <th>2022-05-19</th>\n",
       "      <td>2236.820068</td>\n",
       "      <td>2271.750000</td>\n",
       "      <td>2209.360107</td>\n",
       "      <td>2214.909912</td>\n",
       "      <td>2214.909912</td>\n",
       "      <td>1459600</td>\n",
       "    </tr>\n",
       "    <tr>\n",
       "      <th>2022-05-20</th>\n",
       "      <td>2241.709961</td>\n",
       "      <td>2251.000000</td>\n",
       "      <td>2127.459961</td>\n",
       "      <td>2186.260010</td>\n",
       "      <td>2186.260010</td>\n",
       "      <td>1878100</td>\n",
       "    </tr>\n",
       "  </tbody>\n",
       "</table>\n",
       "<p>97 rows × 6 columns</p>\n",
       "</div>"
      ],
      "text/plain": [
       "                   Open         High          Low        Close    Adj Close  \\\n",
       "Date                                                                          \n",
       "2022-01-03  2889.510010  2911.000000  2870.050049  2901.489990  2901.489990   \n",
       "2022-01-04  2911.010010  2932.199951  2876.322998  2888.330078  2888.330078   \n",
       "2022-01-05  2883.620117  2885.959961  2750.469971  2753.070068  2753.070068   \n",
       "2022-01-06  2749.949951  2793.719971  2735.270020  2751.020020  2751.020020   \n",
       "2022-01-07  2758.100098  2765.094971  2715.780029  2740.090088  2740.090088   \n",
       "...                 ...          ...          ...          ...          ...   \n",
       "2022-05-16  2307.679932  2332.149902  2286.699951  2295.850098  2295.850098   \n",
       "2022-05-17  2344.550049  2344.550049  2306.750000  2334.030029  2334.030029   \n",
       "2022-05-18  2304.750000  2313.913086  2242.840088  2248.020020  2248.020020   \n",
       "2022-05-19  2236.820068  2271.750000  2209.360107  2214.909912  2214.909912   \n",
       "2022-05-20  2241.709961  2251.000000  2127.459961  2186.260010  2186.260010   \n",
       "\n",
       "             Volume  \n",
       "Date                 \n",
       "2022-01-03  1260700  \n",
       "2022-01-04  1146400  \n",
       "2022-01-05  2482100  \n",
       "2022-01-06  1452500  \n",
       "2022-01-07   970400  \n",
       "...             ...  \n",
       "2022-05-16  1164100  \n",
       "2022-05-17  1078800  \n",
       "2022-05-18  1399100  \n",
       "2022-05-19  1459600  \n",
       "2022-05-20  1878100  \n",
       "\n",
       "[97 rows x 6 columns]"
      ]
     },
     "execution_count": 20,
     "metadata": {},
     "output_type": "execute_result"
    }
   ],
   "source": [
    "#partial indexing -> select a particualr year or motnh\n",
    "df.loc[\"2020-12\"]  # 12 is month we got data untill 12 th month\n",
    "df.loc[\"2022\"]   # basicalyy FILTERING"
   ]
  },
  {
   "cell_type": "code",
   "execution_count": 21,
   "id": "462549ed",
   "metadata": {
    "execution": {
     "iopub.execute_input": "2024-03-21T06:00:34.874843Z",
     "iopub.status.busy": "2024-03-21T06:00:34.873460Z",
     "iopub.status.idle": "2024-03-21T06:00:34.898341Z",
     "shell.execute_reply": "2024-03-21T06:00:34.897123Z"
    },
    "papermill": {
     "duration": 0.049094,
     "end_time": "2024-03-21T06:00:34.901156",
     "exception": false,
     "start_time": "2024-03-21T06:00:34.852062",
     "status": "completed"
    },
    "tags": []
   },
   "outputs": [
    {
     "data": {
      "text/html": [
       "<div>\n",
       "<style scoped>\n",
       "    .dataframe tbody tr th:only-of-type {\n",
       "        vertical-align: middle;\n",
       "    }\n",
       "\n",
       "    .dataframe tbody tr th {\n",
       "        vertical-align: top;\n",
       "    }\n",
       "\n",
       "    .dataframe thead th {\n",
       "        text-align: right;\n",
       "    }\n",
       "</style>\n",
       "<table border=\"1\" class=\"dataframe\">\n",
       "  <thead>\n",
       "    <tr style=\"text-align: right;\">\n",
       "      <th></th>\n",
       "      <th>Open</th>\n",
       "      <th>High</th>\n",
       "      <th>Low</th>\n",
       "      <th>Close</th>\n",
       "      <th>Adj Close</th>\n",
       "      <th>Volume</th>\n",
       "      <th>monthname</th>\n",
       "      <th>dayname</th>\n",
       "      <th>quarter</th>\n",
       "    </tr>\n",
       "    <tr>\n",
       "      <th>Date</th>\n",
       "      <th></th>\n",
       "      <th></th>\n",
       "      <th></th>\n",
       "      <th></th>\n",
       "      <th></th>\n",
       "      <th></th>\n",
       "      <th></th>\n",
       "      <th></th>\n",
       "      <th></th>\n",
       "    </tr>\n",
       "  </thead>\n",
       "  <tbody>\n",
       "    <tr>\n",
       "      <th>2022-05-16</th>\n",
       "      <td>2307.679932</td>\n",
       "      <td>2332.149902</td>\n",
       "      <td>2286.699951</td>\n",
       "      <td>2295.850098</td>\n",
       "      <td>2295.850098</td>\n",
       "      <td>1164100</td>\n",
       "      <td>May</td>\n",
       "      <td>Monday</td>\n",
       "      <td>2</td>\n",
       "    </tr>\n",
       "    <tr>\n",
       "      <th>2022-05-17</th>\n",
       "      <td>2344.550049</td>\n",
       "      <td>2344.550049</td>\n",
       "      <td>2306.750000</td>\n",
       "      <td>2334.030029</td>\n",
       "      <td>2334.030029</td>\n",
       "      <td>1078800</td>\n",
       "      <td>May</td>\n",
       "      <td>Tuesday</td>\n",
       "      <td>2</td>\n",
       "    </tr>\n",
       "    <tr>\n",
       "      <th>2022-05-18</th>\n",
       "      <td>2304.750000</td>\n",
       "      <td>2313.913086</td>\n",
       "      <td>2242.840088</td>\n",
       "      <td>2248.020020</td>\n",
       "      <td>2248.020020</td>\n",
       "      <td>1399100</td>\n",
       "      <td>May</td>\n",
       "      <td>Wednesday</td>\n",
       "      <td>2</td>\n",
       "    </tr>\n",
       "    <tr>\n",
       "      <th>2022-05-19</th>\n",
       "      <td>2236.820068</td>\n",
       "      <td>2271.750000</td>\n",
       "      <td>2209.360107</td>\n",
       "      <td>2214.909912</td>\n",
       "      <td>2214.909912</td>\n",
       "      <td>1459600</td>\n",
       "      <td>May</td>\n",
       "      <td>Thursday</td>\n",
       "      <td>2</td>\n",
       "    </tr>\n",
       "    <tr>\n",
       "      <th>2022-05-20</th>\n",
       "      <td>2241.709961</td>\n",
       "      <td>2251.000000</td>\n",
       "      <td>2127.459961</td>\n",
       "      <td>2186.260010</td>\n",
       "      <td>2186.260010</td>\n",
       "      <td>1878100</td>\n",
       "      <td>May</td>\n",
       "      <td>Friday</td>\n",
       "      <td>2</td>\n",
       "    </tr>\n",
       "  </tbody>\n",
       "</table>\n",
       "</div>"
      ],
      "text/plain": [
       "                   Open         High          Low        Close    Adj Close  \\\n",
       "Date                                                                          \n",
       "2022-05-16  2307.679932  2332.149902  2286.699951  2295.850098  2295.850098   \n",
       "2022-05-17  2344.550049  2344.550049  2306.750000  2334.030029  2334.030029   \n",
       "2022-05-18  2304.750000  2313.913086  2242.840088  2248.020020  2248.020020   \n",
       "2022-05-19  2236.820068  2271.750000  2209.360107  2214.909912  2214.909912   \n",
       "2022-05-20  2241.709961  2251.000000  2127.459961  2186.260010  2186.260010   \n",
       "\n",
       "             Volume monthname    dayname  quarter  \n",
       "Date                                               \n",
       "2022-05-16  1164100       May     Monday        2  \n",
       "2022-05-17  1078800       May    Tuesday        2  \n",
       "2022-05-18  1399100       May  Wednesday        2  \n",
       "2022-05-19  1459600       May   Thursday        2  \n",
       "2022-05-20  1878100       May     Friday        2  "
      ]
     },
     "execution_count": 21,
     "metadata": {},
     "output_type": "execute_result"
    }
   ],
   "source": [
    "# creating columns from my  date index -motnh name and dayname\n",
    "\n",
    "df.index.month_name()\n",
    "df[\"monthname\"] = df.index.month_name()\n",
    "df[\"dayname\"]   = df.index.day_name()\n",
    "df[\"quarter\"]   =     df.index.quarter\n",
    "df.tail()"
   ]
  },
  {
   "cell_type": "code",
   "execution_count": 22,
   "id": "06cbde0e",
   "metadata": {
    "execution": {
     "iopub.execute_input": "2024-03-21T06:00:34.944123Z",
     "iopub.status.busy": "2024-03-21T06:00:34.943734Z",
     "iopub.status.idle": "2024-03-21T06:00:34.968050Z",
     "shell.execute_reply": "2024-03-21T06:00:34.966929Z"
    },
    "papermill": {
     "duration": 0.0492,
     "end_time": "2024-03-21T06:00:34.970804",
     "exception": false,
     "start_time": "2024-03-21T06:00:34.921604",
     "status": "completed"
    },
    "tags": []
   },
   "outputs": [
    {
     "data": {
      "text/html": [
       "<div>\n",
       "<style scoped>\n",
       "    .dataframe tbody tr th:only-of-type {\n",
       "        vertical-align: middle;\n",
       "    }\n",
       "\n",
       "    .dataframe tbody tr th {\n",
       "        vertical-align: top;\n",
       "    }\n",
       "\n",
       "    .dataframe thead th {\n",
       "        text-align: right;\n",
       "    }\n",
       "</style>\n",
       "<table border=\"1\" class=\"dataframe\">\n",
       "  <thead>\n",
       "    <tr style=\"text-align: right;\">\n",
       "      <th></th>\n",
       "      <th>Open</th>\n",
       "      <th>High</th>\n",
       "      <th>Low</th>\n",
       "      <th>Close</th>\n",
       "      <th>Adj Close</th>\n",
       "      <th>Volume</th>\n",
       "      <th>monthname</th>\n",
       "      <th>dayname</th>\n",
       "      <th>quarter</th>\n",
       "    </tr>\n",
       "    <tr>\n",
       "      <th>Date</th>\n",
       "      <th></th>\n",
       "      <th></th>\n",
       "      <th></th>\n",
       "      <th></th>\n",
       "      <th></th>\n",
       "      <th></th>\n",
       "      <th></th>\n",
       "      <th></th>\n",
       "      <th></th>\n",
       "    </tr>\n",
       "  </thead>\n",
       "  <tbody>\n",
       "    <tr>\n",
       "      <th>2022-01-03</th>\n",
       "      <td>2889.510010</td>\n",
       "      <td>2911.000000</td>\n",
       "      <td>2870.050049</td>\n",
       "      <td>2901.489990</td>\n",
       "      <td>2901.489990</td>\n",
       "      <td>1260700</td>\n",
       "      <td>January</td>\n",
       "      <td>Monday</td>\n",
       "      <td>1</td>\n",
       "    </tr>\n",
       "    <tr>\n",
       "      <th>2022-01-10</th>\n",
       "      <td>2701.979980</td>\n",
       "      <td>2772.800049</td>\n",
       "      <td>2662.810059</td>\n",
       "      <td>2771.479980</td>\n",
       "      <td>2771.479980</td>\n",
       "      <td>1704800</td>\n",
       "      <td>January</td>\n",
       "      <td>Monday</td>\n",
       "      <td>1</td>\n",
       "    </tr>\n",
       "    <tr>\n",
       "      <th>2022-01-18</th>\n",
       "      <td>2732.000000</td>\n",
       "      <td>2747.830078</td>\n",
       "      <td>2712.340088</td>\n",
       "      <td>2725.810059</td>\n",
       "      <td>2725.810059</td>\n",
       "      <td>1369100</td>\n",
       "      <td>January</td>\n",
       "      <td>Tuesday</td>\n",
       "      <td>1</td>\n",
       "    </tr>\n",
       "    <tr>\n",
       "      <th>2022-01-25</th>\n",
       "      <td>2568.709961</td>\n",
       "      <td>2586.770020</td>\n",
       "      <td>2527.560059</td>\n",
       "      <td>2534.709961</td>\n",
       "      <td>2534.709961</td>\n",
       "      <td>1800400</td>\n",
       "      <td>January</td>\n",
       "      <td>Tuesday</td>\n",
       "      <td>1</td>\n",
       "    </tr>\n",
       "    <tr>\n",
       "      <th>2022-02-01</th>\n",
       "      <td>2756.699951</td>\n",
       "      <td>2764.000000</td>\n",
       "      <td>2691.364990</td>\n",
       "      <td>2757.570068</td>\n",
       "      <td>2757.570068</td>\n",
       "      <td>2560200</td>\n",
       "      <td>February</td>\n",
       "      <td>Tuesday</td>\n",
       "      <td>1</td>\n",
       "    </tr>\n",
       "    <tr>\n",
       "      <th>2022-02-08</th>\n",
       "      <td>2779.824951</td>\n",
       "      <td>2796.741943</td>\n",
       "      <td>2737.459961</td>\n",
       "      <td>2784.260010</td>\n",
       "      <td>2784.260010</td>\n",
       "      <td>1712800</td>\n",
       "      <td>February</td>\n",
       "      <td>Tuesday</td>\n",
       "      <td>1</td>\n",
       "    </tr>\n",
       "    <tr>\n",
       "      <th>2022-02-15</th>\n",
       "      <td>2749.429932</td>\n",
       "      <td>2758.000000</td>\n",
       "      <td>2710.790039</td>\n",
       "      <td>2728.510010</td>\n",
       "      <td>2728.510010</td>\n",
       "      <td>1328900</td>\n",
       "      <td>February</td>\n",
       "      <td>Tuesday</td>\n",
       "      <td>1</td>\n",
       "    </tr>\n",
       "    <tr>\n",
       "      <th>2022-02-23</th>\n",
       "      <td>2621.570068</td>\n",
       "      <td>2634.979980</td>\n",
       "      <td>2550.070068</td>\n",
       "      <td>2551.699951</td>\n",
       "      <td>2551.699951</td>\n",
       "      <td>1321600</td>\n",
       "      <td>February</td>\n",
       "      <td>Wednesday</td>\n",
       "      <td>1</td>\n",
       "    </tr>\n",
       "    <tr>\n",
       "      <th>2022-03-02</th>\n",
       "      <td>2692.165039</td>\n",
       "      <td>2712.310059</td>\n",
       "      <td>2668.649902</td>\n",
       "      <td>2695.030029</td>\n",
       "      <td>2695.030029</td>\n",
       "      <td>1198300</td>\n",
       "      <td>March</td>\n",
       "      <td>Wednesday</td>\n",
       "      <td>1</td>\n",
       "    </tr>\n",
       "    <tr>\n",
       "      <th>2022-03-09</th>\n",
       "      <td>2628.000000</td>\n",
       "      <td>2683.969971</td>\n",
       "      <td>2601.760010</td>\n",
       "      <td>2677.320068</td>\n",
       "      <td>2677.320068</td>\n",
       "      <td>1612900</td>\n",
       "      <td>March</td>\n",
       "      <td>Wednesday</td>\n",
       "      <td>1</td>\n",
       "    </tr>\n",
       "    <tr>\n",
       "      <th>2022-03-16</th>\n",
       "      <td>2620.000000</td>\n",
       "      <td>2675.419922</td>\n",
       "      <td>2584.020020</td>\n",
       "      <td>2673.810059</td>\n",
       "      <td>2673.810059</td>\n",
       "      <td>1602900</td>\n",
       "      <td>March</td>\n",
       "      <td>Wednesday</td>\n",
       "      <td>1</td>\n",
       "    </tr>\n",
       "    <tr>\n",
       "      <th>2022-03-23</th>\n",
       "      <td>2782.770020</td>\n",
       "      <td>2800.500000</td>\n",
       "      <td>2763.330078</td>\n",
       "      <td>2770.070068</td>\n",
       "      <td>2770.070068</td>\n",
       "      <td>1265100</td>\n",
       "      <td>March</td>\n",
       "      <td>Wednesday</td>\n",
       "      <td>1</td>\n",
       "    </tr>\n",
       "    <tr>\n",
       "      <th>2022-03-30</th>\n",
       "      <td>2857.399902</td>\n",
       "      <td>2869.610107</td>\n",
       "      <td>2843.360107</td>\n",
       "      <td>2852.889893</td>\n",
       "      <td>2852.889893</td>\n",
       "      <td>1052300</td>\n",
       "      <td>March</td>\n",
       "      <td>Wednesday</td>\n",
       "      <td>1</td>\n",
       "    </tr>\n",
       "    <tr>\n",
       "      <th>2022-04-06</th>\n",
       "      <td>2783.229980</td>\n",
       "      <td>2796.969971</td>\n",
       "      <td>2728.362061</td>\n",
       "      <td>2743.520020</td>\n",
       "      <td>2743.520020</td>\n",
       "      <td>1178700</td>\n",
       "      <td>April</td>\n",
       "      <td>Wednesday</td>\n",
       "      <td>2</td>\n",
       "    </tr>\n",
       "    <tr>\n",
       "      <th>2022-04-13</th>\n",
       "      <td>2572.530029</td>\n",
       "      <td>2613.114990</td>\n",
       "      <td>2568.771973</td>\n",
       "      <td>2605.719971</td>\n",
       "      <td>2605.719971</td>\n",
       "      <td>977100</td>\n",
       "      <td>April</td>\n",
       "      <td>Wednesday</td>\n",
       "      <td>2</td>\n",
       "    </tr>\n",
       "    <tr>\n",
       "      <th>2022-04-21</th>\n",
       "      <td>2587.000000</td>\n",
       "      <td>2606.149902</td>\n",
       "      <td>2493.000000</td>\n",
       "      <td>2498.750000</td>\n",
       "      <td>2498.750000</td>\n",
       "      <td>1507900</td>\n",
       "      <td>April</td>\n",
       "      <td>Thursday</td>\n",
       "      <td>2</td>\n",
       "    </tr>\n",
       "    <tr>\n",
       "      <th>2022-04-28</th>\n",
       "      <td>2342.300049</td>\n",
       "      <td>2408.770020</td>\n",
       "      <td>2302.877930</td>\n",
       "      <td>2388.229980</td>\n",
       "      <td>2388.229980</td>\n",
       "      <td>1839500</td>\n",
       "      <td>April</td>\n",
       "      <td>Thursday</td>\n",
       "      <td>2</td>\n",
       "    </tr>\n",
       "    <tr>\n",
       "      <th>2022-05-05</th>\n",
       "      <td>2404.409912</td>\n",
       "      <td>2424.665039</td>\n",
       "      <td>2303.649902</td>\n",
       "      <td>2334.929932</td>\n",
       "      <td>2334.929932</td>\n",
       "      <td>2154500</td>\n",
       "      <td>May</td>\n",
       "      <td>Thursday</td>\n",
       "      <td>2</td>\n",
       "    </tr>\n",
       "    <tr>\n",
       "      <th>2022-05-12</th>\n",
       "      <td>2238.760010</td>\n",
       "      <td>2297.129883</td>\n",
       "      <td>2202.270020</td>\n",
       "      <td>2263.219971</td>\n",
       "      <td>2263.219971</td>\n",
       "      <td>2073200</td>\n",
       "      <td>May</td>\n",
       "      <td>Thursday</td>\n",
       "      <td>2</td>\n",
       "    </tr>\n",
       "    <tr>\n",
       "      <th>2022-05-19</th>\n",
       "      <td>2236.820068</td>\n",
       "      <td>2271.750000</td>\n",
       "      <td>2209.360107</td>\n",
       "      <td>2214.909912</td>\n",
       "      <td>2214.909912</td>\n",
       "      <td>1459600</td>\n",
       "      <td>May</td>\n",
       "      <td>Thursday</td>\n",
       "      <td>2</td>\n",
       "    </tr>\n",
       "  </tbody>\n",
       "</table>\n",
       "</div>"
      ],
      "text/plain": [
       "                   Open         High          Low        Close    Adj Close  \\\n",
       "Date                                                                          \n",
       "2022-01-03  2889.510010  2911.000000  2870.050049  2901.489990  2901.489990   \n",
       "2022-01-10  2701.979980  2772.800049  2662.810059  2771.479980  2771.479980   \n",
       "2022-01-18  2732.000000  2747.830078  2712.340088  2725.810059  2725.810059   \n",
       "2022-01-25  2568.709961  2586.770020  2527.560059  2534.709961  2534.709961   \n",
       "2022-02-01  2756.699951  2764.000000  2691.364990  2757.570068  2757.570068   \n",
       "2022-02-08  2779.824951  2796.741943  2737.459961  2784.260010  2784.260010   \n",
       "2022-02-15  2749.429932  2758.000000  2710.790039  2728.510010  2728.510010   \n",
       "2022-02-23  2621.570068  2634.979980  2550.070068  2551.699951  2551.699951   \n",
       "2022-03-02  2692.165039  2712.310059  2668.649902  2695.030029  2695.030029   \n",
       "2022-03-09  2628.000000  2683.969971  2601.760010  2677.320068  2677.320068   \n",
       "2022-03-16  2620.000000  2675.419922  2584.020020  2673.810059  2673.810059   \n",
       "2022-03-23  2782.770020  2800.500000  2763.330078  2770.070068  2770.070068   \n",
       "2022-03-30  2857.399902  2869.610107  2843.360107  2852.889893  2852.889893   \n",
       "2022-04-06  2783.229980  2796.969971  2728.362061  2743.520020  2743.520020   \n",
       "2022-04-13  2572.530029  2613.114990  2568.771973  2605.719971  2605.719971   \n",
       "2022-04-21  2587.000000  2606.149902  2493.000000  2498.750000  2498.750000   \n",
       "2022-04-28  2342.300049  2408.770020  2302.877930  2388.229980  2388.229980   \n",
       "2022-05-05  2404.409912  2424.665039  2303.649902  2334.929932  2334.929932   \n",
       "2022-05-12  2238.760010  2297.129883  2202.270020  2263.219971  2263.219971   \n",
       "2022-05-19  2236.820068  2271.750000  2209.360107  2214.909912  2214.909912   \n",
       "\n",
       "             Volume monthname    dayname  quarter  \n",
       "Date                                               \n",
       "2022-01-03  1260700   January     Monday        1  \n",
       "2022-01-10  1704800   January     Monday        1  \n",
       "2022-01-18  1369100   January    Tuesday        1  \n",
       "2022-01-25  1800400   January    Tuesday        1  \n",
       "2022-02-01  2560200  February    Tuesday        1  \n",
       "2022-02-08  1712800  February    Tuesday        1  \n",
       "2022-02-15  1328900  February    Tuesday        1  \n",
       "2022-02-23  1321600  February  Wednesday        1  \n",
       "2022-03-02  1198300     March  Wednesday        1  \n",
       "2022-03-09  1612900     March  Wednesday        1  \n",
       "2022-03-16  1602900     March  Wednesday        1  \n",
       "2022-03-23  1265100     March  Wednesday        1  \n",
       "2022-03-30  1052300     March  Wednesday        1  \n",
       "2022-04-06  1178700     April  Wednesday        2  \n",
       "2022-04-13   977100     April  Wednesday        2  \n",
       "2022-04-21  1507900     April   Thursday        2  \n",
       "2022-04-28  1839500     April   Thursday        2  \n",
       "2022-05-05  2154500       May   Thursday        2  \n",
       "2022-05-12  2073200       May   Thursday        2  \n",
       "2022-05-19  1459600       May   Thursday        2  "
      ]
     },
     "execution_count": 22,
     "metadata": {},
     "output_type": "execute_result"
    }
   ],
   "source": [
    "df.loc[\"2022-01-01\":\"2022-05-20\":5]"
   ]
  },
  {
   "cell_type": "code",
   "execution_count": 23,
   "id": "f03f6b01",
   "metadata": {
    "execution": {
     "iopub.execute_input": "2024-03-21T06:00:35.014918Z",
     "iopub.status.busy": "2024-03-21T06:00:35.014249Z",
     "iopub.status.idle": "2024-03-21T06:00:35.037324Z",
     "shell.execute_reply": "2024-03-21T06:00:35.036182Z"
    },
    "papermill": {
     "duration": 0.04814,
     "end_time": "2024-03-21T06:00:35.039778",
     "exception": false,
     "start_time": "2024-03-21T06:00:34.991638",
     "status": "completed"
    },
    "tags": []
   },
   "outputs": [
    {
     "data": {
      "text/html": [
       "<div>\n",
       "<style scoped>\n",
       "    .dataframe tbody tr th:only-of-type {\n",
       "        vertical-align: middle;\n",
       "    }\n",
       "\n",
       "    .dataframe tbody tr th {\n",
       "        vertical-align: top;\n",
       "    }\n",
       "\n",
       "    .dataframe thead th {\n",
       "        text-align: right;\n",
       "    }\n",
       "</style>\n",
       "<table border=\"1\" class=\"dataframe\">\n",
       "  <thead>\n",
       "    <tr style=\"text-align: right;\">\n",
       "      <th></th>\n",
       "      <th>Open</th>\n",
       "      <th>High</th>\n",
       "      <th>Low</th>\n",
       "      <th>Close</th>\n",
       "      <th>Adj Close</th>\n",
       "      <th>Volume</th>\n",
       "      <th>monthname</th>\n",
       "      <th>dayname</th>\n",
       "      <th>quarter</th>\n",
       "    </tr>\n",
       "    <tr>\n",
       "      <th>Date</th>\n",
       "      <th></th>\n",
       "      <th></th>\n",
       "      <th></th>\n",
       "      <th></th>\n",
       "      <th></th>\n",
       "      <th></th>\n",
       "      <th></th>\n",
       "      <th></th>\n",
       "      <th></th>\n",
       "    </tr>\n",
       "  </thead>\n",
       "  <tbody>\n",
       "    <tr>\n",
       "      <th>2005-03-31</th>\n",
       "      <td>88.642746</td>\n",
       "      <td>90.356323</td>\n",
       "      <td>88.488327</td>\n",
       "      <td>89.917969</td>\n",
       "      <td>89.917969</td>\n",
       "      <td>13587941</td>\n",
       "      <td>March</td>\n",
       "      <td>Thursday</td>\n",
       "      <td>1</td>\n",
       "    </tr>\n",
       "    <tr>\n",
       "      <th>2006-03-31</th>\n",
       "      <td>193.644180</td>\n",
       "      <td>195.203323</td>\n",
       "      <td>191.297974</td>\n",
       "      <td>194.271820</td>\n",
       "      <td>194.271820</td>\n",
       "      <td>73316582</td>\n",
       "      <td>March</td>\n",
       "      <td>Friday</td>\n",
       "      <td>1</td>\n",
       "    </tr>\n",
       "    <tr>\n",
       "      <th>2008-03-31</th>\n",
       "      <td>217.006607</td>\n",
       "      <td>220.518448</td>\n",
       "      <td>215.198380</td>\n",
       "      <td>219.412582</td>\n",
       "      <td>219.412582</td>\n",
       "      <td>8926132</td>\n",
       "      <td>March</td>\n",
       "      <td>Monday</td>\n",
       "      <td>1</td>\n",
       "    </tr>\n",
       "    <tr>\n",
       "      <th>2009-03-31</th>\n",
       "      <td>173.813507</td>\n",
       "      <td>176.094955</td>\n",
       "      <td>172.443634</td>\n",
       "      <td>173.380127</td>\n",
       "      <td>173.380127</td>\n",
       "      <td>7338002</td>\n",
       "      <td>March</td>\n",
       "      <td>Tuesday</td>\n",
       "      <td>1</td>\n",
       "    </tr>\n",
       "    <tr>\n",
       "      <th>2010-03-31</th>\n",
       "      <td>281.469971</td>\n",
       "      <td>283.806213</td>\n",
       "      <td>280.354156</td>\n",
       "      <td>282.501129</td>\n",
       "      <td>282.501129</td>\n",
       "      <td>6084320</td>\n",
       "      <td>March</td>\n",
       "      <td>Wednesday</td>\n",
       "      <td>1</td>\n",
       "    </tr>\n",
       "    <tr>\n",
       "      <th>2011-03-31</th>\n",
       "      <td>290.411469</td>\n",
       "      <td>292.981842</td>\n",
       "      <td>289.783813</td>\n",
       "      <td>292.284454</td>\n",
       "      <td>292.284454</td>\n",
       "      <td>4074013</td>\n",
       "      <td>March</td>\n",
       "      <td>Thursday</td>\n",
       "      <td>1</td>\n",
       "    </tr>\n",
       "    <tr>\n",
       "      <th>2014-03-31</th>\n",
       "      <td>565.337891</td>\n",
       "      <td>565.447571</td>\n",
       "      <td>555.405151</td>\n",
       "      <td>555.445007</td>\n",
       "      <td>555.445007</td>\n",
       "      <td>10830</td>\n",
       "      <td>March</td>\n",
       "      <td>Monday</td>\n",
       "      <td>1</td>\n",
       "    </tr>\n",
       "    <tr>\n",
       "      <th>2015-03-31</th>\n",
       "      <td>548.494080</td>\n",
       "      <td>553.191223</td>\n",
       "      <td>545.223083</td>\n",
       "      <td>546.499573</td>\n",
       "      <td>546.499573</td>\n",
       "      <td>1588048</td>\n",
       "      <td>March</td>\n",
       "      <td>Tuesday</td>\n",
       "      <td>1</td>\n",
       "    </tr>\n",
       "    <tr>\n",
       "      <th>2016-03-31</th>\n",
       "      <td>749.250000</td>\n",
       "      <td>750.849976</td>\n",
       "      <td>740.940002</td>\n",
       "      <td>744.950012</td>\n",
       "      <td>744.950012</td>\n",
       "      <td>1718800</td>\n",
       "      <td>March</td>\n",
       "      <td>Thursday</td>\n",
       "      <td>1</td>\n",
       "    </tr>\n",
       "    <tr>\n",
       "      <th>2017-03-31</th>\n",
       "      <td>828.969971</td>\n",
       "      <td>831.640015</td>\n",
       "      <td>827.390015</td>\n",
       "      <td>829.559998</td>\n",
       "      <td>829.559998</td>\n",
       "      <td>1401900</td>\n",
       "      <td>March</td>\n",
       "      <td>Friday</td>\n",
       "      <td>1</td>\n",
       "    </tr>\n",
       "    <tr>\n",
       "      <th>2020-03-31</th>\n",
       "      <td>1147.300049</td>\n",
       "      <td>1175.310059</td>\n",
       "      <td>1138.140015</td>\n",
       "      <td>1162.810059</td>\n",
       "      <td>1162.810059</td>\n",
       "      <td>2486400</td>\n",
       "      <td>March</td>\n",
       "      <td>Tuesday</td>\n",
       "      <td>1</td>\n",
       "    </tr>\n",
       "    <tr>\n",
       "      <th>2021-03-31</th>\n",
       "      <td>2059.120117</td>\n",
       "      <td>2093.326904</td>\n",
       "      <td>2056.745117</td>\n",
       "      <td>2068.629883</td>\n",
       "      <td>2068.629883</td>\n",
       "      <td>1459900</td>\n",
       "      <td>March</td>\n",
       "      <td>Wednesday</td>\n",
       "      <td>1</td>\n",
       "    </tr>\n",
       "    <tr>\n",
       "      <th>2022-03-31</th>\n",
       "      <td>2848.969971</td>\n",
       "      <td>2852.889893</td>\n",
       "      <td>2792.379883</td>\n",
       "      <td>2792.989990</td>\n",
       "      <td>2792.989990</td>\n",
       "      <td>1475800</td>\n",
       "      <td>March</td>\n",
       "      <td>Thursday</td>\n",
       "      <td>1</td>\n",
       "    </tr>\n",
       "  </tbody>\n",
       "</table>\n",
       "</div>"
      ],
      "text/plain": [
       "                   Open         High          Low        Close    Adj Close  \\\n",
       "Date                                                                          \n",
       "2005-03-31    88.642746    90.356323    88.488327    89.917969    89.917969   \n",
       "2006-03-31   193.644180   195.203323   191.297974   194.271820   194.271820   \n",
       "2008-03-31   217.006607   220.518448   215.198380   219.412582   219.412582   \n",
       "2009-03-31   173.813507   176.094955   172.443634   173.380127   173.380127   \n",
       "2010-03-31   281.469971   283.806213   280.354156   282.501129   282.501129   \n",
       "2011-03-31   290.411469   292.981842   289.783813   292.284454   292.284454   \n",
       "2014-03-31   565.337891   565.447571   555.405151   555.445007   555.445007   \n",
       "2015-03-31   548.494080   553.191223   545.223083   546.499573   546.499573   \n",
       "2016-03-31   749.250000   750.849976   740.940002   744.950012   744.950012   \n",
       "2017-03-31   828.969971   831.640015   827.390015   829.559998   829.559998   \n",
       "2020-03-31  1147.300049  1175.310059  1138.140015  1162.810059  1162.810059   \n",
       "2021-03-31  2059.120117  2093.326904  2056.745117  2068.629883  2068.629883   \n",
       "2022-03-31  2848.969971  2852.889893  2792.379883  2792.989990  2792.989990   \n",
       "\n",
       "              Volume monthname    dayname  quarter  \n",
       "Date                                                \n",
       "2005-03-31  13587941     March   Thursday        1  \n",
       "2006-03-31  73316582     March     Friday        1  \n",
       "2008-03-31   8926132     March     Monday        1  \n",
       "2009-03-31   7338002     March    Tuesday        1  \n",
       "2010-03-31   6084320     March  Wednesday        1  \n",
       "2011-03-31   4074013     March   Thursday        1  \n",
       "2014-03-31     10830     March     Monday        1  \n",
       "2015-03-31   1588048     March    Tuesday        1  \n",
       "2016-03-31   1718800     March   Thursday        1  \n",
       "2017-03-31   1401900     March     Friday        1  \n",
       "2020-03-31   2486400     March    Tuesday        1  \n",
       "2021-03-31   1459900     March  Wednesday        1  \n",
       "2022-03-31   1475800     March   Thursday        1  "
      ]
     },
     "execution_count": 23,
     "metadata": {},
     "output_type": "execute_result"
    }
   ],
   "source": [
    "# fetch info for a particular date  of every year   limitation time delta\n",
    "rnge = pd.date_range(start='2004-03-31',end=\"2022-03-31\",freq= pd.DateOffset(years=1))\n",
    "\n",
    "fincial_year_end =df[df.index.isin(rnge)]\n",
    "\n",
    "fincial_year_end"
   ]
  },
  {
   "cell_type": "code",
   "execution_count": 24,
   "id": "14b23f99",
   "metadata": {
    "execution": {
     "iopub.execute_input": "2024-03-21T06:00:35.085803Z",
     "iopub.status.busy": "2024-03-21T06:00:35.084656Z",
     "iopub.status.idle": "2024-03-21T06:00:35.648848Z",
     "shell.execute_reply": "2024-03-21T06:00:35.647418Z"
    },
    "papermill": {
     "duration": 0.589922,
     "end_time": "2024-03-21T06:00:35.651500",
     "exception": false,
     "start_time": "2024-03-21T06:00:35.061578",
     "status": "completed"
    },
    "tags": []
   },
   "outputs": [
    {
     "data": {
      "text/plain": [
       "<Axes: xlabel='Date'>"
      ]
     },
     "execution_count": 24,
     "metadata": {},
     "output_type": "execute_result"
    },
    {
     "data": {
      "image/png": "[encoded data removed]",
      "text/plain": [
       "<Figure size 640x480 with 1 Axes>"
      ]
     },
     "metadata": {},
     "output_type": "display_data"
    }
   ],
   "source": [
    "#vizualization on a single column\n",
    "\n",
    "df[\"Close\"].plot()          # we can simply see how its increasing and decreasing over the year "
   ]
  },
  {
   "cell_type": "code",
   "execution_count": 25,
   "id": "9ffbdf96",
   "metadata": {
    "execution": {
     "iopub.execute_input": "2024-03-21T06:00:35.699514Z",
     "iopub.status.busy": "2024-03-21T06:00:35.699120Z",
     "iopub.status.idle": "2024-03-21T06:00:35.707697Z",
     "shell.execute_reply": "2024-03-21T06:00:35.706423Z"
    },
    "papermill": {
     "duration": 0.035484,
     "end_time": "2024-03-21T06:00:35.710143",
     "exception": false,
     "start_time": "2024-03-21T06:00:35.674659",
     "status": "completed"
    },
    "tags": []
   },
   "outputs": [
    {
     "data": {
      "text/plain": [
       "\"subset_yt = fincial_year_end[['Open', 'High', 'Low', 'Close', 'Adj Close', 'Volume', 'monthname',\\n       'dayname', 'quarter']]\\nax = subset_yt.plot(subplots=True,\\n                    layout=(3, 3),\\n                     sharex=False,\\n                     sharey=False,\\n                     linewidth=0.7,\\n                     fontsize=10,\\n                     legend=False,\\n                      figsize=(20,10),\\n                      title=['Open', 'High', 'Low', 'Close', 'Adj Close', 'Volume', 'monthname',\\n       'dayname', 'quarter'])\""
      ]
     },
     "execution_count": 25,
     "metadata": {},
     "output_type": "execute_result"
    }
   ],
   "source": [
    "# viz all cols together\n",
    "\"\"\"subset_yt = fincial_year_end[['Open', 'High', 'Low', 'Close', 'Adj Close', 'Volume', 'monthname',\n",
    "       'dayname', 'quarter']]\n",
    "ax = subset_yt.plot(subplots=True,\n",
    "                    layout=(3, 3),\n",
    "                     sharex=False,\n",
    "                     sharey=False,\n",
    "                     linewidth=0.7,\n",
    "                     fontsize=10,\n",
    "                     legend=False,\n",
    "                      figsize=(20,10),\n",
    "                      title=['Open', 'High', 'Low', 'Close', 'Adj Close', 'Volume', 'monthname',\n",
    "       'dayname', 'quarter'])\"\"\""
   ]
  },
  {
   "cell_type": "code",
   "execution_count": 26,
   "id": "f1604a45",
   "metadata": {
    "execution": {
     "iopub.execute_input": "2024-03-21T06:00:35.758088Z",
     "iopub.status.busy": "2024-03-21T06:00:35.757701Z",
     "iopub.status.idle": "2024-03-21T06:00:36.232834Z",
     "shell.execute_reply": "2024-03-21T06:00:36.231578Z"
    },
    "papermill": {
     "duration": 0.504086,
     "end_time": "2024-03-21T06:00:36.237278",
     "exception": false,
     "start_time": "2024-03-21T06:00:35.733192",
     "status": "completed"
    },
    "tags": []
   },
   "outputs": [
    {
     "data": {
      "text/plain": [
       "<Axes: xlabel='Date'>"
      ]
     },
     "execution_count": 26,
     "metadata": {},
     "output_type": "execute_result"
    },
    {
     "data": {
      "image/png": "[encoded data removed]",
      "text/plain": [
       "<Figure size 640x480 with 1 Axes>"
      ]
     },
     "metadata": {},
     "output_type": "display_data"
    }
   ],
   "source": [
    "# yearly trend \n",
    "df.loc[\"2022\"][\"Close\"].plot()\n"
   ]
  },
  {
   "cell_type": "code",
   "execution_count": null,
   "id": "caba60a6",
   "metadata": {
    "papermill": {
     "duration": 0.030668,
     "end_time": "2024-03-21T06:00:36.293572",
     "exception": false,
     "start_time": "2024-03-21T06:00:36.262904",
     "status": "completed"
    },
    "tags": []
   },
   "outputs": [],
   "source": []
  },
  {
   "cell_type": "code",
   "execution_count": 27,
   "id": "e2d9d294",
   "metadata": {
    "execution": {
     "iopub.execute_input": "2024-03-21T06:00:36.346335Z",
     "iopub.status.busy": "2024-03-21T06:00:36.345955Z",
     "iopub.status.idle": "2024-03-21T06:00:36.944577Z",
     "shell.execute_reply": "2024-03-21T06:00:36.943636Z"
    },
    "papermill": {
     "duration": 0.627397,
     "end_time": "2024-03-21T06:00:36.948140",
     "exception": false,
     "start_time": "2024-03-21T06:00:36.320743",
     "status": "completed"
    },
    "tags": []
   },
   "outputs": [
    {
     "data": {
      "text/plain": [
       "<Axes: xlabel='Date'>"
      ]
     },
     "execution_count": 27,
     "metadata": {},
     "output_type": "execute_result"
    },
    {
     "data": {
      "image/png": "[encoded data removed]",
      "text/plain": [
       "<Figure size 640x480 with 1 Axes>"
      ]
     },
     "metadata": {},
     "output_type": "display_data"
    }
   ],
   "source": [
    "#monthly trend\n",
    "df.loc[\"2022-3\"][\"Close\"].plot() "
   ]
  },
  {
   "cell_type": "code",
   "execution_count": 28,
   "id": "5ecd6d61",
   "metadata": {
    "execution": {
     "iopub.execute_input": "2024-03-21T06:00:37.003483Z",
     "iopub.status.busy": "2024-03-21T06:00:37.003074Z",
     "iopub.status.idle": "2024-03-21T06:00:37.656175Z",
     "shell.execute_reply": "2024-03-21T06:00:37.654947Z"
    },
    "papermill": {
     "duration": 0.682067,
     "end_time": "2024-03-21T06:00:37.658838",
     "exception": false,
     "start_time": "2024-03-21T06:00:36.976771",
     "status": "completed"
    },
    "tags": []
   },
   "outputs": [
    {
     "data": {
      "text/plain": [
       "<Axes: xlabel='Date'>"
      ]
     },
     "execution_count": 28,
     "metadata": {},
     "output_type": "execute_result"
    },
    {
     "data": {
      "image/png": "[encoded data removed]",
      "text/plain": [
       "<Figure size 640x480 with 1 Axes>"
      ]
     },
     "metadata": {},
     "output_type": "display_data"
    }
   ],
   "source": [
    "df.loc[\"2020-3\"][\"Close\"].plot()   # covid time "
   ]
  },
  {
   "cell_type": "code",
   "execution_count": 29,
   "id": "71eaef21",
   "metadata": {
    "execution": {
     "iopub.execute_input": "2024-03-21T06:00:37.713581Z",
     "iopub.status.busy": "2024-03-21T06:00:37.713191Z",
     "iopub.status.idle": "2024-03-21T06:00:38.059529Z",
     "shell.execute_reply": "2024-03-21T06:00:38.058658Z"
    },
    "papermill": {
     "duration": 0.376262,
     "end_time": "2024-03-21T06:00:38.061949",
     "exception": false,
     "start_time": "2024-03-21T06:00:37.685687",
     "status": "completed"
    },
    "tags": []
   },
   "outputs": [
    {
     "data": {
      "text/plain": [
       "<Axes: xlabel='monthname'>"
      ]
     },
     "execution_count": 29,
     "metadata": {},
     "output_type": "execute_result"
    },
    {
     "data": {
      "image/png": "[encoded data removed]",
      "text/plain": [
       "<Figure size 640x480 with 1 Axes>"
      ]
     },
     "metadata": {},
     "output_type": "display_data"
    }
   ],
   "source": [
    "\"month by moont trend\"\n",
    "df.groupby('monthname')['Close'].mean().plot(kind='bar')"
   ]
  },
  {
   "cell_type": "code",
   "execution_count": 30,
   "id": "d0a08d22",
   "metadata": {
    "execution": {
     "iopub.execute_input": "2024-03-21T06:00:38.116955Z",
     "iopub.status.busy": "2024-03-21T06:00:38.116540Z",
     "iopub.status.idle": "2024-03-21T06:00:38.417667Z",
     "shell.execute_reply": "2024-03-21T06:00:38.416046Z"
    },
    "papermill": {
     "duration": 0.332485,
     "end_time": "2024-03-21T06:00:38.420469",
     "exception": false,
     "start_time": "2024-03-21T06:00:38.087984",
     "status": "completed"
    },
    "tags": []
   },
   "outputs": [
    {
     "data": {
      "text/plain": [
       "<Axes: xlabel='dayname'>"
      ]
     },
     "execution_count": 30,
     "metadata": {},
     "output_type": "execute_result"
    },
    {
     "data": {
      "image/png": "[encoded data removed]",
      "text/plain": [
       "<Figure size 640x480 with 1 Axes>"
      ]
     },
     "metadata": {},
     "output_type": "display_data"
    }
   ],
   "source": [
    "# weeks days yearly trend\n",
    "df.groupby('dayname')['Close'].mean().plot()"
   ]
  },
  {
   "cell_type": "code",
   "execution_count": 31,
   "id": "8fb90c6e",
   "metadata": {
    "execution": {
     "iopub.execute_input": "2024-03-21T06:00:38.478166Z",
     "iopub.status.busy": "2024-03-21T06:00:38.477756Z",
     "iopub.status.idle": "2024-03-21T06:00:38.759022Z",
     "shell.execute_reply": "2024-03-21T06:00:38.757692Z"
    },
    "papermill": {
     "duration": 0.312847,
     "end_time": "2024-03-21T06:00:38.761603",
     "exception": false,
     "start_time": "2024-03-21T06:00:38.448756",
     "status": "completed"
    },
    "tags": []
   },
   "outputs": [
    {
     "data": {
      "text/plain": [
       "<Axes: xlabel='quarter'>"
      ]
     },
     "execution_count": 31,
     "metadata": {},
     "output_type": "execute_result"
    },
    {
     "data": {
      "image/png": "[encoded data removed]",
      "text/plain": [
       "<Figure size 640x480 with 1 Axes>"
      ]
     },
     "metadata": {},
     "output_type": "display_data"
    }
   ],
   "source": [
    "df.groupby('quarter')['Close'].mean().plot()"
   ]
  },
  {
   "cell_type": "markdown",
   "id": "a5620200",
   "metadata": {
    "papermill": {
     "duration": 0.027828,
     "end_time": "2024-03-21T06:00:38.817067",
     "exception": false,
     "start_time": "2024-03-21T06:00:38.789239",
     "status": "completed"
    },
    "tags": []
   },
   "source": [
    "**Resampling**\n",
    "Resampling involves changing the frequency of your time series observations.\n",
    "\n",
    "*Two types of resampling are:*\n",
    "\n",
    "* Upsampling: Where you increase the frequency of the samples, such as from minutes to seconds.\n",
    "* Downsampling: Where you decrease the frequency of the samples, such as from days to months."
   ]
  },
  {
   "cell_type": "code",
   "execution_count": 32,
   "id": "5ac0b240",
   "metadata": {
    "execution": {
     "iopub.execute_input": "2024-03-21T06:00:38.875599Z",
     "iopub.status.busy": "2024-03-21T06:00:38.874830Z",
     "iopub.status.idle": "2024-03-21T06:00:38.882152Z",
     "shell.execute_reply": "2024-03-21T06:00:38.881241Z"
    },
    "papermill": {
     "duration": 0.039097,
     "end_time": "2024-03-21T06:00:38.884478",
     "exception": false,
     "start_time": "2024-03-21T06:00:38.845381",
     "status": "completed"
    },
    "tags": []
   },
   "outputs": [
    {
     "data": {
      "text/plain": [
       "DatetimeIndex(['2004-08-19', '2004-08-20', '2004-08-23', '2004-08-24',\n",
       "               '2004-08-25', '2004-08-26', '2004-08-27', '2004-08-30',\n",
       "               '2004-08-31', '2004-09-01',\n",
       "               ...\n",
       "               '2022-05-09', '2022-05-10', '2022-05-11', '2022-05-12',\n",
       "               '2022-05-13', '2022-05-16', '2022-05-17', '2022-05-18',\n",
       "               '2022-05-19', '2022-05-20'],\n",
       "              dtype='datetime64[ns]', name='Date', length=4471, freq=None)"
      ]
     },
     "execution_count": 32,
     "metadata": {},
     "output_type": "execute_result"
    }
   ],
   "source": [
    "#frequency\n",
    "df.index\n",
    "#see the pandas count i dentify the frequency when convering to datetime dats why freq=None"
   ]
  },
  {
   "cell_type": "code",
   "execution_count": 33,
   "id": "49f98f8a",
   "metadata": {
    "execution": {
     "iopub.execute_input": "2024-03-21T06:00:38.942401Z",
     "iopub.status.busy": "2024-03-21T06:00:38.942009Z",
     "iopub.status.idle": "2024-03-21T06:00:39.062502Z",
     "shell.execute_reply": "2024-03-21T06:00:39.061542Z"
    },
    "papermill": {
     "duration": 0.152598,
     "end_time": "2024-03-21T06:00:39.065059",
     "exception": false,
     "start_time": "2024-03-21T06:00:38.912461",
     "status": "completed"
    },
    "tags": []
   },
   "outputs": [
    {
     "data": {
      "text/plain": [
       "DatetimeIndex(['2004-08-19', '2004-08-20', '2004-08-23', '2004-08-24',\n",
       "               '2004-08-25', '2004-08-26', '2004-08-27', '2004-08-30',\n",
       "               '2004-08-31', '2004-09-01',\n",
       "               ...\n",
       "               '2022-05-09', '2022-05-10', '2022-05-11', '2022-05-12',\n",
       "               '2022-05-13', '2022-05-16', '2022-05-17', '2022-05-18',\n",
       "               '2022-05-19', '2022-05-20'],\n",
       "              dtype='datetime64[ns]', name='Date', length=4632, freq='B')"
      ]
     },
     "execution_count": 33,
     "metadata": {},
     "output_type": "execute_result"
    }
   ],
   "source": [
    "df =df.asfreq(\"B\")# \"B\"= bissness days and \"D\"=days for normal days \n",
    "df.index"
   ]
  },
  {
   "cell_type": "code",
   "execution_count": 34,
   "id": "e4e9b9c3",
   "metadata": {
    "execution": {
     "iopub.execute_input": "2024-03-21T06:00:39.126976Z",
     "iopub.status.busy": "2024-03-21T06:00:39.126513Z",
     "iopub.status.idle": "2024-03-21T06:00:39.152345Z",
     "shell.execute_reply": "2024-03-21T06:00:39.151376Z"
    },
    "papermill": {
     "duration": 0.061472,
     "end_time": "2024-03-21T06:00:39.155336",
     "exception": false,
     "start_time": "2024-03-21T06:00:39.093864",
     "status": "completed"
    },
    "tags": []
   },
   "outputs": [
    {
     "name": "stderr",
     "output_type": "stream",
     "text": [
      "/tmp/ipykernel_18/4244637636.py:2: FutureWarning: 'Q' is deprecated and will be removed in a future version, please use 'QE' instead.\n",
      "  df_quater=df.asfreq(\"Q\")\n"
     ]
    },
    {
     "data": {
      "text/html": [
       "<div>\n",
       "<style scoped>\n",
       "    .dataframe tbody tr th:only-of-type {\n",
       "        vertical-align: middle;\n",
       "    }\n",
       "\n",
       "    .dataframe tbody tr th {\n",
       "        vertical-align: top;\n",
       "    }\n",
       "\n",
       "    .dataframe thead th {\n",
       "        text-align: right;\n",
       "    }\n",
       "</style>\n",
       "<table border=\"1\" class=\"dataframe\">\n",
       "  <thead>\n",
       "    <tr style=\"text-align: right;\">\n",
       "      <th></th>\n",
       "      <th>Open</th>\n",
       "      <th>High</th>\n",
       "      <th>Low</th>\n",
       "      <th>Close</th>\n",
       "      <th>Adj Close</th>\n",
       "      <th>Volume</th>\n",
       "      <th>monthname</th>\n",
       "      <th>dayname</th>\n",
       "      <th>quarter</th>\n",
       "    </tr>\n",
       "    <tr>\n",
       "      <th>Date</th>\n",
       "      <th></th>\n",
       "      <th></th>\n",
       "      <th></th>\n",
       "      <th></th>\n",
       "      <th></th>\n",
       "      <th></th>\n",
       "      <th></th>\n",
       "      <th></th>\n",
       "      <th></th>\n",
       "    </tr>\n",
       "  </thead>\n",
       "  <tbody>\n",
       "    <tr>\n",
       "      <th>2004-09-30</th>\n",
       "      <td>64.707458</td>\n",
       "      <td>65.902977</td>\n",
       "      <td>64.259140</td>\n",
       "      <td>64.558022</td>\n",
       "      <td>64.558022</td>\n",
       "      <td>13823420.0</td>\n",
       "      <td>September</td>\n",
       "      <td>Thursday</td>\n",
       "      <td>3.0</td>\n",
       "    </tr>\n",
       "    <tr>\n",
       "      <th>2004-12-31</th>\n",
       "      <td>99.243011</td>\n",
       "      <td>99.566795</td>\n",
       "      <td>95.920464</td>\n",
       "      <td>96.035034</td>\n",
       "      <td>96.035034</td>\n",
       "      <td>15394487.0</td>\n",
       "      <td>December</td>\n",
       "      <td>Friday</td>\n",
       "      <td>4.0</td>\n",
       "    </tr>\n",
       "    <tr>\n",
       "      <th>2005-03-31</th>\n",
       "      <td>88.642746</td>\n",
       "      <td>90.356323</td>\n",
       "      <td>88.488327</td>\n",
       "      <td>89.917969</td>\n",
       "      <td>89.917969</td>\n",
       "      <td>13587941.0</td>\n",
       "      <td>March</td>\n",
       "      <td>Thursday</td>\n",
       "      <td>1.0</td>\n",
       "    </tr>\n",
       "    <tr>\n",
       "      <th>2005-06-30</th>\n",
       "      <td>146.620438</td>\n",
       "      <td>148.906860</td>\n",
       "      <td>144.976593</td>\n",
       "      <td>146.525787</td>\n",
       "      <td>146.525787</td>\n",
       "      <td>30301955.0</td>\n",
       "      <td>June</td>\n",
       "      <td>Thursday</td>\n",
       "      <td>2.0</td>\n",
       "    </tr>\n",
       "    <tr>\n",
       "      <th>2005-09-30</th>\n",
       "      <td>156.523315</td>\n",
       "      <td>158.157181</td>\n",
       "      <td>155.561920</td>\n",
       "      <td>157.639130</td>\n",
       "      <td>157.639130</td>\n",
       "      <td>18371203.0</td>\n",
       "      <td>September</td>\n",
       "      <td>Friday</td>\n",
       "      <td>3.0</td>\n",
       "    </tr>\n",
       "    <tr>\n",
       "      <th>...</th>\n",
       "      <td>...</td>\n",
       "      <td>...</td>\n",
       "      <td>...</td>\n",
       "      <td>...</td>\n",
       "      <td>...</td>\n",
       "      <td>...</td>\n",
       "      <td>...</td>\n",
       "      <td>...</td>\n",
       "      <td>...</td>\n",
       "    </tr>\n",
       "    <tr>\n",
       "      <th>2021-03-31</th>\n",
       "      <td>2059.120117</td>\n",
       "      <td>2093.326904</td>\n",
       "      <td>2056.745117</td>\n",
       "      <td>2068.629883</td>\n",
       "      <td>2068.629883</td>\n",
       "      <td>1459900.0</td>\n",
       "      <td>March</td>\n",
       "      <td>Wednesday</td>\n",
       "      <td>1.0</td>\n",
       "    </tr>\n",
       "    <tr>\n",
       "      <th>2021-06-30</th>\n",
       "      <td>2513.071045</td>\n",
       "      <td>2516.000000</td>\n",
       "      <td>2495.149902</td>\n",
       "      <td>2506.320068</td>\n",
       "      <td>2506.320068</td>\n",
       "      <td>1200300.0</td>\n",
       "      <td>June</td>\n",
       "      <td>Wednesday</td>\n",
       "      <td>2.0</td>\n",
       "    </tr>\n",
       "    <tr>\n",
       "      <th>2021-09-30</th>\n",
       "      <td>2686.500000</td>\n",
       "      <td>2711.800049</td>\n",
       "      <td>2660.000000</td>\n",
       "      <td>2665.310059</td>\n",
       "      <td>2665.310059</td>\n",
       "      <td>1764700.0</td>\n",
       "      <td>September</td>\n",
       "      <td>Thursday</td>\n",
       "      <td>3.0</td>\n",
       "    </tr>\n",
       "    <tr>\n",
       "      <th>2021-12-31</th>\n",
       "      <td>2910.879883</td>\n",
       "      <td>2927.300049</td>\n",
       "      <td>2893.550049</td>\n",
       "      <td>2893.590088</td>\n",
       "      <td>2893.590088</td>\n",
       "      <td>864900.0</td>\n",
       "      <td>December</td>\n",
       "      <td>Friday</td>\n",
       "      <td>4.0</td>\n",
       "    </tr>\n",
       "    <tr>\n",
       "      <th>2022-03-31</th>\n",
       "      <td>2848.969971</td>\n",
       "      <td>2852.889893</td>\n",
       "      <td>2792.379883</td>\n",
       "      <td>2792.989990</td>\n",
       "      <td>2792.989990</td>\n",
       "      <td>1475800.0</td>\n",
       "      <td>March</td>\n",
       "      <td>Thursday</td>\n",
       "      <td>1.0</td>\n",
       "    </tr>\n",
       "  </tbody>\n",
       "</table>\n",
       "<p>71 rows × 9 columns</p>\n",
       "</div>"
      ],
      "text/plain": [
       "                   Open         High          Low        Close    Adj Close  \\\n",
       "Date                                                                          \n",
       "2004-09-30    64.707458    65.902977    64.259140    64.558022    64.558022   \n",
       "2004-12-31    99.243011    99.566795    95.920464    96.035034    96.035034   \n",
       "2005-03-31    88.642746    90.356323    88.488327    89.917969    89.917969   \n",
       "2005-06-30   146.620438   148.906860   144.976593   146.525787   146.525787   \n",
       "2005-09-30   156.523315   158.157181   155.561920   157.639130   157.639130   \n",
       "...                 ...          ...          ...          ...          ...   \n",
       "2021-03-31  2059.120117  2093.326904  2056.745117  2068.629883  2068.629883   \n",
       "2021-06-30  2513.071045  2516.000000  2495.149902  2506.320068  2506.320068   \n",
       "2021-09-30  2686.500000  2711.800049  2660.000000  2665.310059  2665.310059   \n",
       "2021-12-31  2910.879883  2927.300049  2893.550049  2893.590088  2893.590088   \n",
       "2022-03-31  2848.969971  2852.889893  2792.379883  2792.989990  2792.989990   \n",
       "\n",
       "                Volume  monthname    dayname  quarter  \n",
       "Date                                                   \n",
       "2004-09-30  13823420.0  September   Thursday      3.0  \n",
       "2004-12-31  15394487.0   December     Friday      4.0  \n",
       "2005-03-31  13587941.0      March   Thursday      1.0  \n",
       "2005-06-30  30301955.0       June   Thursday      2.0  \n",
       "2005-09-30  18371203.0  September     Friday      3.0  \n",
       "...                ...        ...        ...      ...  \n",
       "2021-03-31   1459900.0      March  Wednesday      1.0  \n",
       "2021-06-30   1200300.0       June  Wednesday      2.0  \n",
       "2021-09-30   1764700.0  September   Thursday      3.0  \n",
       "2021-12-31    864900.0   December     Friday      4.0  \n",
       "2022-03-31   1475800.0      March   Thursday      1.0  \n",
       "\n",
       "[71 rows x 9 columns]"
      ]
     },
     "execution_count": 34,
     "metadata": {},
     "output_type": "execute_result"
    }
   ],
   "source": [
    "#  \"Q\" for quater \n",
    "df_quater=df.asfreq(\"Q\")\n",
    "df_quater"
   ]
  },
  {
   "cell_type": "code",
   "execution_count": 35,
   "id": "f01115f8",
   "metadata": {
    "execution": {
     "iopub.execute_input": "2024-03-21T06:00:39.216154Z",
     "iopub.status.busy": "2024-03-21T06:00:39.215031Z",
     "iopub.status.idle": "2024-03-21T06:00:39.243004Z",
     "shell.execute_reply": "2024-03-21T06:00:39.241708Z"
    },
    "papermill": {
     "duration": 0.062501,
     "end_time": "2024-03-21T06:00:39.246530",
     "exception": false,
     "start_time": "2024-03-21T06:00:39.184029",
     "status": "completed"
    },
    "tags": []
   },
   "outputs": [
    {
     "name": "stderr",
     "output_type": "stream",
     "text": [
      "/tmp/ipykernel_18/3663842671.py:1: FutureWarning: 'Y' is deprecated and will be removed in a future version, please use 'YE' instead.\n",
      "  df_year=df.asfreq(\"Y\")\n"
     ]
    },
    {
     "data": {
      "text/html": [
       "<div>\n",
       "<style scoped>\n",
       "    .dataframe tbody tr th:only-of-type {\n",
       "        vertical-align: middle;\n",
       "    }\n",
       "\n",
       "    .dataframe tbody tr th {\n",
       "        vertical-align: top;\n",
       "    }\n",
       "\n",
       "    .dataframe thead th {\n",
       "        text-align: right;\n",
       "    }\n",
       "</style>\n",
       "<table border=\"1\" class=\"dataframe\">\n",
       "  <thead>\n",
       "    <tr style=\"text-align: right;\">\n",
       "      <th></th>\n",
       "      <th>Open</th>\n",
       "      <th>High</th>\n",
       "      <th>Low</th>\n",
       "      <th>Close</th>\n",
       "      <th>Adj Close</th>\n",
       "      <th>Volume</th>\n",
       "      <th>monthname</th>\n",
       "      <th>dayname</th>\n",
       "      <th>quarter</th>\n",
       "    </tr>\n",
       "    <tr>\n",
       "      <th>Date</th>\n",
       "      <th></th>\n",
       "      <th></th>\n",
       "      <th></th>\n",
       "      <th></th>\n",
       "      <th></th>\n",
       "      <th></th>\n",
       "      <th></th>\n",
       "      <th></th>\n",
       "      <th></th>\n",
       "    </tr>\n",
       "  </thead>\n",
       "  <tbody>\n",
       "    <tr>\n",
       "      <th>2004-12-31</th>\n",
       "      <td>99.243011</td>\n",
       "      <td>99.566795</td>\n",
       "      <td>95.920464</td>\n",
       "      <td>96.035034</td>\n",
       "      <td>96.035034</td>\n",
       "      <td>15394487.0</td>\n",
       "      <td>December</td>\n",
       "      <td>Friday</td>\n",
       "      <td>4.0</td>\n",
       "    </tr>\n",
       "    <tr>\n",
       "      <th>2005-12-31</th>\n",
       "      <td>NaN</td>\n",
       "      <td>NaN</td>\n",
       "      <td>NaN</td>\n",
       "      <td>NaN</td>\n",
       "      <td>NaN</td>\n",
       "      <td>NaN</td>\n",
       "      <td>NaN</td>\n",
       "      <td>NaN</td>\n",
       "      <td>NaN</td>\n",
       "    </tr>\n",
       "    <tr>\n",
       "      <th>2006-12-31</th>\n",
       "      <td>NaN</td>\n",
       "      <td>NaN</td>\n",
       "      <td>NaN</td>\n",
       "      <td>NaN</td>\n",
       "      <td>NaN</td>\n",
       "      <td>NaN</td>\n",
       "      <td>NaN</td>\n",
       "      <td>NaN</td>\n",
       "      <td>NaN</td>\n",
       "    </tr>\n",
       "    <tr>\n",
       "      <th>2007-12-31</th>\n",
       "      <td>347.980682</td>\n",
       "      <td>349.933350</td>\n",
       "      <td>344.000610</td>\n",
       "      <td>344.448914</td>\n",
       "      <td>344.448914</td>\n",
       "      <td>4770213.0</td>\n",
       "      <td>December</td>\n",
       "      <td>Monday</td>\n",
       "      <td>4.0</td>\n",
       "    </tr>\n",
       "    <tr>\n",
       "      <th>2008-12-31</th>\n",
       "      <td>151.532028</td>\n",
       "      <td>154.919327</td>\n",
       "      <td>150.739990</td>\n",
       "      <td>153.250580</td>\n",
       "      <td>153.250580</td>\n",
       "      <td>5795241.0</td>\n",
       "      <td>December</td>\n",
       "      <td>Wednesday</td>\n",
       "      <td>4.0</td>\n",
       "    </tr>\n",
       "    <tr>\n",
       "      <th>2009-12-31</th>\n",
       "      <td>311.208527</td>\n",
       "      <td>311.532288</td>\n",
       "      <td>308.832428</td>\n",
       "      <td>308.832428</td>\n",
       "      <td>308.832428</td>\n",
       "      <td>2448744.0</td>\n",
       "      <td>December</td>\n",
       "      <td>Thursday</td>\n",
       "      <td>4.0</td>\n",
       "    </tr>\n",
       "    <tr>\n",
       "      <th>2010-12-31</th>\n",
       "      <td>297.255798</td>\n",
       "      <td>298.092682</td>\n",
       "      <td>294.909607</td>\n",
       "      <td>295.875977</td>\n",
       "      <td>295.875977</td>\n",
       "      <td>3090139.0</td>\n",
       "      <td>December</td>\n",
       "      <td>Friday</td>\n",
       "      <td>4.0</td>\n",
       "    </tr>\n",
       "    <tr>\n",
       "      <th>2011-12-31</th>\n",
       "      <td>NaN</td>\n",
       "      <td>NaN</td>\n",
       "      <td>NaN</td>\n",
       "      <td>NaN</td>\n",
       "      <td>NaN</td>\n",
       "      <td>NaN</td>\n",
       "      <td>NaN</td>\n",
       "      <td>NaN</td>\n",
       "      <td>NaN</td>\n",
       "    </tr>\n",
       "    <tr>\n",
       "      <th>2012-12-31</th>\n",
       "      <td>348.693024</td>\n",
       "      <td>353.958282</td>\n",
       "      <td>346.700470</td>\n",
       "      <td>352.369232</td>\n",
       "      <td>352.369232</td>\n",
       "      <td>4009773.0</td>\n",
       "      <td>December</td>\n",
       "      <td>Monday</td>\n",
       "      <td>4.0</td>\n",
       "    </tr>\n",
       "    <tr>\n",
       "      <th>2013-12-31</th>\n",
       "      <td>554.043335</td>\n",
       "      <td>558.406982</td>\n",
       "      <td>551.064453</td>\n",
       "      <td>558.262512</td>\n",
       "      <td>558.262512</td>\n",
       "      <td>2725979.0</td>\n",
       "      <td>December</td>\n",
       "      <td>Tuesday</td>\n",
       "      <td>4.0</td>\n",
       "    </tr>\n",
       "    <tr>\n",
       "      <th>2014-12-31</th>\n",
       "      <td>529.795471</td>\n",
       "      <td>531.141724</td>\n",
       "      <td>524.360352</td>\n",
       "      <td>524.958740</td>\n",
       "      <td>524.958740</td>\n",
       "      <td>1368246.0</td>\n",
       "      <td>December</td>\n",
       "      <td>Wednesday</td>\n",
       "      <td>4.0</td>\n",
       "    </tr>\n",
       "    <tr>\n",
       "      <th>2015-12-31</th>\n",
       "      <td>769.500000</td>\n",
       "      <td>769.500000</td>\n",
       "      <td>758.340027</td>\n",
       "      <td>758.880005</td>\n",
       "      <td>758.880005</td>\n",
       "      <td>1500900.0</td>\n",
       "      <td>December</td>\n",
       "      <td>Thursday</td>\n",
       "      <td>4.0</td>\n",
       "    </tr>\n",
       "    <tr>\n",
       "      <th>2016-12-31</th>\n",
       "      <td>NaN</td>\n",
       "      <td>NaN</td>\n",
       "      <td>NaN</td>\n",
       "      <td>NaN</td>\n",
       "      <td>NaN</td>\n",
       "      <td>NaN</td>\n",
       "      <td>NaN</td>\n",
       "      <td>NaN</td>\n",
       "      <td>NaN</td>\n",
       "    </tr>\n",
       "    <tr>\n",
       "      <th>2017-12-31</th>\n",
       "      <td>NaN</td>\n",
       "      <td>NaN</td>\n",
       "      <td>NaN</td>\n",
       "      <td>NaN</td>\n",
       "      <td>NaN</td>\n",
       "      <td>NaN</td>\n",
       "      <td>NaN</td>\n",
       "      <td>NaN</td>\n",
       "      <td>NaN</td>\n",
       "    </tr>\n",
       "    <tr>\n",
       "      <th>2018-12-31</th>\n",
       "      <td>1050.959961</td>\n",
       "      <td>1052.699951</td>\n",
       "      <td>1023.590027</td>\n",
       "      <td>1035.609985</td>\n",
       "      <td>1035.609985</td>\n",
       "      <td>1493300.0</td>\n",
       "      <td>December</td>\n",
       "      <td>Monday</td>\n",
       "      <td>4.0</td>\n",
       "    </tr>\n",
       "    <tr>\n",
       "      <th>2019-12-31</th>\n",
       "      <td>1330.109985</td>\n",
       "      <td>1338.000000</td>\n",
       "      <td>1329.084961</td>\n",
       "      <td>1337.020020</td>\n",
       "      <td>1337.020020</td>\n",
       "      <td>961800.0</td>\n",
       "      <td>December</td>\n",
       "      <td>Tuesday</td>\n",
       "      <td>4.0</td>\n",
       "    </tr>\n",
       "    <tr>\n",
       "      <th>2020-12-31</th>\n",
       "      <td>1735.420044</td>\n",
       "      <td>1758.930054</td>\n",
       "      <td>1735.420044</td>\n",
       "      <td>1751.880005</td>\n",
       "      <td>1751.880005</td>\n",
       "      <td>1011900.0</td>\n",
       "      <td>December</td>\n",
       "      <td>Thursday</td>\n",
       "      <td>4.0</td>\n",
       "    </tr>\n",
       "    <tr>\n",
       "      <th>2021-12-31</th>\n",
       "      <td>2910.879883</td>\n",
       "      <td>2927.300049</td>\n",
       "      <td>2893.550049</td>\n",
       "      <td>2893.590088</td>\n",
       "      <td>2893.590088</td>\n",
       "      <td>864900.0</td>\n",
       "      <td>December</td>\n",
       "      <td>Friday</td>\n",
       "      <td>4.0</td>\n",
       "    </tr>\n",
       "  </tbody>\n",
       "</table>\n",
       "</div>"
      ],
      "text/plain": [
       "                   Open         High          Low        Close    Adj Close  \\\n",
       "Date                                                                          \n",
       "2004-12-31    99.243011    99.566795    95.920464    96.035034    96.035034   \n",
       "2005-12-31          NaN          NaN          NaN          NaN          NaN   \n",
       "2006-12-31          NaN          NaN          NaN          NaN          NaN   \n",
       "2007-12-31   347.980682   349.933350   344.000610   344.448914   344.448914   \n",
       "2008-12-31   151.532028   154.919327   150.739990   153.250580   153.250580   \n",
       "2009-12-31   311.208527   311.532288   308.832428   308.832428   308.832428   \n",
       "2010-12-31   297.255798   298.092682   294.909607   295.875977   295.875977   \n",
       "2011-12-31          NaN          NaN          NaN          NaN          NaN   \n",
       "2012-12-31   348.693024   353.958282   346.700470   352.369232   352.369232   \n",
       "2013-12-31   554.043335   558.406982   551.064453   558.262512   558.262512   \n",
       "2014-12-31   529.795471   531.141724   524.360352   524.958740   524.958740   \n",
       "2015-12-31   769.500000   769.500000   758.340027   758.880005   758.880005   \n",
       "2016-12-31          NaN          NaN          NaN          NaN          NaN   \n",
       "2017-12-31          NaN          NaN          NaN          NaN          NaN   \n",
       "2018-12-31  1050.959961  1052.699951  1023.590027  1035.609985  1035.609985   \n",
       "2019-12-31  1330.109985  1338.000000  1329.084961  1337.020020  1337.020020   \n",
       "2020-12-31  1735.420044  1758.930054  1735.420044  1751.880005  1751.880005   \n",
       "2021-12-31  2910.879883  2927.300049  2893.550049  2893.590088  2893.590088   \n",
       "\n",
       "                Volume monthname    dayname  quarter  \n",
       "Date                                                  \n",
       "2004-12-31  15394487.0  December     Friday      4.0  \n",
       "2005-12-31         NaN       NaN        NaN      NaN  \n",
       "2006-12-31         NaN       NaN        NaN      NaN  \n",
       "2007-12-31   4770213.0  December     Monday      4.0  \n",
       "2008-12-31   5795241.0  December  Wednesday      4.0  \n",
       "2009-12-31   2448744.0  December   Thursday      4.0  \n",
       "2010-12-31   3090139.0  December     Friday      4.0  \n",
       "2011-12-31         NaN       NaN        NaN      NaN  \n",
       "2012-12-31   4009773.0  December     Monday      4.0  \n",
       "2013-12-31   2725979.0  December    Tuesday      4.0  \n",
       "2014-12-31   1368246.0  December  Wednesday      4.0  \n",
       "2015-12-31   1500900.0  December   Thursday      4.0  \n",
       "2016-12-31         NaN       NaN        NaN      NaN  \n",
       "2017-12-31         NaN       NaN        NaN      NaN  \n",
       "2018-12-31   1493300.0  December     Monday      4.0  \n",
       "2019-12-31    961800.0  December    Tuesday      4.0  \n",
       "2020-12-31   1011900.0  December   Thursday      4.0  \n",
       "2021-12-31    864900.0  December     Friday      4.0  "
      ]
     },
     "execution_count": 35,
     "metadata": {},
     "output_type": "execute_result"
    }
   ],
   "source": [
    "df_year=df.asfreq(\"Y\")\n",
    "df_year"
   ]
  },
  {
   "cell_type": "code",
   "execution_count": 36,
   "id": "7ea72798",
   "metadata": {
    "execution": {
     "iopub.execute_input": "2024-03-21T06:00:39.308358Z",
     "iopub.status.busy": "2024-03-21T06:00:39.307484Z",
     "iopub.status.idle": "2024-03-21T06:00:39.335349Z",
     "shell.execute_reply": "2024-03-21T06:00:39.333898Z"
    },
    "papermill": {
     "duration": 0.062823,
     "end_time": "2024-03-21T06:00:39.338633",
     "exception": false,
     "start_time": "2024-03-21T06:00:39.275810",
     "status": "completed"
    },
    "tags": []
   },
   "outputs": [
    {
     "name": "stderr",
     "output_type": "stream",
     "text": [
      "/tmp/ipykernel_18/1069848098.py:1: FutureWarning: 'M' is deprecated and will be removed in a future version, please use 'ME' instead.\n",
      "  df_monthly=df.asfreq(\"M\")\n"
     ]
    },
    {
     "data": {
      "text/html": [
       "<div>\n",
       "<style scoped>\n",
       "    .dataframe tbody tr th:only-of-type {\n",
       "        vertical-align: middle;\n",
       "    }\n",
       "\n",
       "    .dataframe tbody tr th {\n",
       "        vertical-align: top;\n",
       "    }\n",
       "\n",
       "    .dataframe thead th {\n",
       "        text-align: right;\n",
       "    }\n",
       "</style>\n",
       "<table border=\"1\" class=\"dataframe\">\n",
       "  <thead>\n",
       "    <tr style=\"text-align: right;\">\n",
       "      <th></th>\n",
       "      <th>Open</th>\n",
       "      <th>High</th>\n",
       "      <th>Low</th>\n",
       "      <th>Close</th>\n",
       "      <th>Adj Close</th>\n",
       "      <th>Volume</th>\n",
       "      <th>monthname</th>\n",
       "      <th>dayname</th>\n",
       "      <th>quarter</th>\n",
       "    </tr>\n",
       "    <tr>\n",
       "      <th>Date</th>\n",
       "      <th></th>\n",
       "      <th></th>\n",
       "      <th></th>\n",
       "      <th></th>\n",
       "      <th></th>\n",
       "      <th></th>\n",
       "      <th></th>\n",
       "      <th></th>\n",
       "      <th></th>\n",
       "    </tr>\n",
       "  </thead>\n",
       "  <tbody>\n",
       "    <tr>\n",
       "      <th>2004-08-31</th>\n",
       "      <td>50.958992</td>\n",
       "      <td>51.661362</td>\n",
       "      <td>50.889256</td>\n",
       "      <td>50.993862</td>\n",
       "      <td>50.993862</td>\n",
       "      <td>4941252.0</td>\n",
       "      <td>August</td>\n",
       "      <td>Tuesday</td>\n",
       "      <td>3.0</td>\n",
       "    </tr>\n",
       "    <tr>\n",
       "      <th>2004-09-30</th>\n",
       "      <td>64.707458</td>\n",
       "      <td>65.902977</td>\n",
       "      <td>64.259140</td>\n",
       "      <td>64.558022</td>\n",
       "      <td>64.558022</td>\n",
       "      <td>13823420.0</td>\n",
       "      <td>September</td>\n",
       "      <td>Thursday</td>\n",
       "      <td>3.0</td>\n",
       "    </tr>\n",
       "    <tr>\n",
       "      <th>2004-10-31</th>\n",
       "      <td>NaN</td>\n",
       "      <td>NaN</td>\n",
       "      <td>NaN</td>\n",
       "      <td>NaN</td>\n",
       "      <td>NaN</td>\n",
       "      <td>NaN</td>\n",
       "      <td>NaN</td>\n",
       "      <td>NaN</td>\n",
       "      <td>NaN</td>\n",
       "    </tr>\n",
       "    <tr>\n",
       "      <th>2004-11-30</th>\n",
       "      <td>90.017593</td>\n",
       "      <td>91.158318</td>\n",
       "      <td>89.788452</td>\n",
       "      <td>90.650223</td>\n",
       "      <td>90.650223</td>\n",
       "      <td>15457723.0</td>\n",
       "      <td>November</td>\n",
       "      <td>Tuesday</td>\n",
       "      <td>4.0</td>\n",
       "    </tr>\n",
       "    <tr>\n",
       "      <th>2004-12-31</th>\n",
       "      <td>99.243011</td>\n",
       "      <td>99.566795</td>\n",
       "      <td>95.920464</td>\n",
       "      <td>96.035034</td>\n",
       "      <td>96.035034</td>\n",
       "      <td>15394487.0</td>\n",
       "      <td>December</td>\n",
       "      <td>Friday</td>\n",
       "      <td>4.0</td>\n",
       "    </tr>\n",
       "    <tr>\n",
       "      <th>...</th>\n",
       "      <td>...</td>\n",
       "      <td>...</td>\n",
       "      <td>...</td>\n",
       "      <td>...</td>\n",
       "      <td>...</td>\n",
       "      <td>...</td>\n",
       "      <td>...</td>\n",
       "      <td>...</td>\n",
       "      <td>...</td>\n",
       "    </tr>\n",
       "    <tr>\n",
       "      <th>2021-12-31</th>\n",
       "      <td>2910.879883</td>\n",
       "      <td>2927.300049</td>\n",
       "      <td>2893.550049</td>\n",
       "      <td>2893.590088</td>\n",
       "      <td>2893.590088</td>\n",
       "      <td>864900.0</td>\n",
       "      <td>December</td>\n",
       "      <td>Friday</td>\n",
       "      <td>4.0</td>\n",
       "    </tr>\n",
       "    <tr>\n",
       "      <th>2022-01-31</th>\n",
       "      <td>2683.959961</td>\n",
       "      <td>2716.870117</td>\n",
       "      <td>2645.479980</td>\n",
       "      <td>2713.969971</td>\n",
       "      <td>2713.969971</td>\n",
       "      <td>1702800.0</td>\n",
       "      <td>January</td>\n",
       "      <td>Monday</td>\n",
       "      <td>1.0</td>\n",
       "    </tr>\n",
       "    <tr>\n",
       "      <th>2022-02-28</th>\n",
       "      <td>2665.689941</td>\n",
       "      <td>2712.810059</td>\n",
       "      <td>2656.504883</td>\n",
       "      <td>2697.820068</td>\n",
       "      <td>2697.820068</td>\n",
       "      <td>1483800.0</td>\n",
       "      <td>February</td>\n",
       "      <td>Monday</td>\n",
       "      <td>1.0</td>\n",
       "    </tr>\n",
       "    <tr>\n",
       "      <th>2022-03-31</th>\n",
       "      <td>2848.969971</td>\n",
       "      <td>2852.889893</td>\n",
       "      <td>2792.379883</td>\n",
       "      <td>2792.989990</td>\n",
       "      <td>2792.989990</td>\n",
       "      <td>1475800.0</td>\n",
       "      <td>March</td>\n",
       "      <td>Thursday</td>\n",
       "      <td>1.0</td>\n",
       "    </tr>\n",
       "    <tr>\n",
       "      <th>2022-04-30</th>\n",
       "      <td>NaN</td>\n",
       "      <td>NaN</td>\n",
       "      <td>NaN</td>\n",
       "      <td>NaN</td>\n",
       "      <td>NaN</td>\n",
       "      <td>NaN</td>\n",
       "      <td>NaN</td>\n",
       "      <td>NaN</td>\n",
       "      <td>NaN</td>\n",
       "    </tr>\n",
       "  </tbody>\n",
       "</table>\n",
       "<p>213 rows × 9 columns</p>\n",
       "</div>"
      ],
      "text/plain": [
       "                   Open         High          Low        Close    Adj Close  \\\n",
       "Date                                                                          \n",
       "2004-08-31    50.958992    51.661362    50.889256    50.993862    50.993862   \n",
       "2004-09-30    64.707458    65.902977    64.259140    64.558022    64.558022   \n",
       "2004-10-31          NaN          NaN          NaN          NaN          NaN   \n",
       "2004-11-30    90.017593    91.158318    89.788452    90.650223    90.650223   \n",
       "2004-12-31    99.243011    99.566795    95.920464    96.035034    96.035034   \n",
       "...                 ...          ...          ...          ...          ...   \n",
       "2021-12-31  2910.879883  2927.300049  2893.550049  2893.590088  2893.590088   \n",
       "2022-01-31  2683.959961  2716.870117  2645.479980  2713.969971  2713.969971   \n",
       "2022-02-28  2665.689941  2712.810059  2656.504883  2697.820068  2697.820068   \n",
       "2022-03-31  2848.969971  2852.889893  2792.379883  2792.989990  2792.989990   \n",
       "2022-04-30          NaN          NaN          NaN          NaN          NaN   \n",
       "\n",
       "                Volume  monthname   dayname  quarter  \n",
       "Date                                                  \n",
       "2004-08-31   4941252.0     August   Tuesday      3.0  \n",
       "2004-09-30  13823420.0  September  Thursday      3.0  \n",
       "2004-10-31         NaN        NaN       NaN      NaN  \n",
       "2004-11-30  15457723.0   November   Tuesday      4.0  \n",
       "2004-12-31  15394487.0   December    Friday      4.0  \n",
       "...                ...        ...       ...      ...  \n",
       "2021-12-31    864900.0   December    Friday      4.0  \n",
       "2022-01-31   1702800.0    January    Monday      1.0  \n",
       "2022-02-28   1483800.0   February    Monday      1.0  \n",
       "2022-03-31   1475800.0      March  Thursday      1.0  \n",
       "2022-04-30         NaN        NaN       NaN      NaN  \n",
       "\n",
       "[213 rows x 9 columns]"
      ]
     },
     "execution_count": 36,
     "metadata": {},
     "output_type": "execute_result"
    }
   ],
   "source": [
    "df_monthly=df.asfreq(\"M\")\n",
    "df_monthly"
   ]
  },
  {
   "cell_type": "code",
   "execution_count": 37,
   "id": "b06d3ed7",
   "metadata": {
    "execution": {
     "iopub.execute_input": "2024-03-21T06:00:39.403238Z",
     "iopub.status.busy": "2024-03-21T06:00:39.402833Z",
     "iopub.status.idle": "2024-03-21T06:00:39.447198Z",
     "shell.execute_reply": "2024-03-21T06:00:39.445458Z"
    },
    "papermill": {
     "duration": 0.078385,
     "end_time": "2024-03-21T06:00:39.450066",
     "exception": false,
     "start_time": "2024-03-21T06:00:39.371681",
     "status": "completed"
    },
    "tags": []
   },
   "outputs": [
    {
     "name": "stderr",
     "output_type": "stream",
     "text": [
      "/tmp/ipykernel_18/2036963289.py:1: FutureWarning: 'H' is deprecated and will be removed in a future version, please use 'h' instead.\n",
      "  df_hourly=df.asfreq(\"H\")\n"
     ]
    },
    {
     "data": {
      "text/html": [
       "<div>\n",
       "<style scoped>\n",
       "    .dataframe tbody tr th:only-of-type {\n",
       "        vertical-align: middle;\n",
       "    }\n",
       "\n",
       "    .dataframe tbody tr th {\n",
       "        vertical-align: top;\n",
       "    }\n",
       "\n",
       "    .dataframe thead th {\n",
       "        text-align: right;\n",
       "    }\n",
       "</style>\n",
       "<table border=\"1\" class=\"dataframe\">\n",
       "  <thead>\n",
       "    <tr style=\"text-align: right;\">\n",
       "      <th></th>\n",
       "      <th>Open</th>\n",
       "      <th>High</th>\n",
       "      <th>Low</th>\n",
       "      <th>Close</th>\n",
       "      <th>Adj Close</th>\n",
       "      <th>Volume</th>\n",
       "      <th>monthname</th>\n",
       "      <th>dayname</th>\n",
       "      <th>quarter</th>\n",
       "    </tr>\n",
       "    <tr>\n",
       "      <th>Date</th>\n",
       "      <th></th>\n",
       "      <th></th>\n",
       "      <th></th>\n",
       "      <th></th>\n",
       "      <th></th>\n",
       "      <th></th>\n",
       "      <th></th>\n",
       "      <th></th>\n",
       "      <th></th>\n",
       "    </tr>\n",
       "  </thead>\n",
       "  <tbody>\n",
       "    <tr>\n",
       "      <th>2004-08-19 00:00:00</th>\n",
       "      <td>49.813290</td>\n",
       "      <td>51.835709</td>\n",
       "      <td>47.800831</td>\n",
       "      <td>49.982655</td>\n",
       "      <td>49.982655</td>\n",
       "      <td>44871361.0</td>\n",
       "      <td>August</td>\n",
       "      <td>Thursday</td>\n",
       "      <td>3.0</td>\n",
       "    </tr>\n",
       "    <tr>\n",
       "      <th>2004-08-19 01:00:00</th>\n",
       "      <td>NaN</td>\n",
       "      <td>NaN</td>\n",
       "      <td>NaN</td>\n",
       "      <td>NaN</td>\n",
       "      <td>NaN</td>\n",
       "      <td>NaN</td>\n",
       "      <td>NaN</td>\n",
       "      <td>NaN</td>\n",
       "      <td>NaN</td>\n",
       "    </tr>\n",
       "    <tr>\n",
       "      <th>2004-08-19 02:00:00</th>\n",
       "      <td>NaN</td>\n",
       "      <td>NaN</td>\n",
       "      <td>NaN</td>\n",
       "      <td>NaN</td>\n",
       "      <td>NaN</td>\n",
       "      <td>NaN</td>\n",
       "      <td>NaN</td>\n",
       "      <td>NaN</td>\n",
       "      <td>NaN</td>\n",
       "    </tr>\n",
       "    <tr>\n",
       "      <th>2004-08-19 03:00:00</th>\n",
       "      <td>NaN</td>\n",
       "      <td>NaN</td>\n",
       "      <td>NaN</td>\n",
       "      <td>NaN</td>\n",
       "      <td>NaN</td>\n",
       "      <td>NaN</td>\n",
       "      <td>NaN</td>\n",
       "      <td>NaN</td>\n",
       "      <td>NaN</td>\n",
       "    </tr>\n",
       "    <tr>\n",
       "      <th>2004-08-19 04:00:00</th>\n",
       "      <td>NaN</td>\n",
       "      <td>NaN</td>\n",
       "      <td>NaN</td>\n",
       "      <td>NaN</td>\n",
       "      <td>NaN</td>\n",
       "      <td>NaN</td>\n",
       "      <td>NaN</td>\n",
       "      <td>NaN</td>\n",
       "      <td>NaN</td>\n",
       "    </tr>\n",
       "    <tr>\n",
       "      <th>...</th>\n",
       "      <td>...</td>\n",
       "      <td>...</td>\n",
       "      <td>...</td>\n",
       "      <td>...</td>\n",
       "      <td>...</td>\n",
       "      <td>...</td>\n",
       "      <td>...</td>\n",
       "      <td>...</td>\n",
       "      <td>...</td>\n",
       "    </tr>\n",
       "    <tr>\n",
       "      <th>2022-05-19 20:00:00</th>\n",
       "      <td>NaN</td>\n",
       "      <td>NaN</td>\n",
       "      <td>NaN</td>\n",
       "      <td>NaN</td>\n",
       "      <td>NaN</td>\n",
       "      <td>NaN</td>\n",
       "      <td>NaN</td>\n",
       "      <td>NaN</td>\n",
       "      <td>NaN</td>\n",
       "    </tr>\n",
       "    <tr>\n",
       "      <th>2022-05-19 21:00:00</th>\n",
       "      <td>NaN</td>\n",
       "      <td>NaN</td>\n",
       "      <td>NaN</td>\n",
       "      <td>NaN</td>\n",
       "      <td>NaN</td>\n",
       "      <td>NaN</td>\n",
       "      <td>NaN</td>\n",
       "      <td>NaN</td>\n",
       "      <td>NaN</td>\n",
       "    </tr>\n",
       "    <tr>\n",
       "      <th>2022-05-19 22:00:00</th>\n",
       "      <td>NaN</td>\n",
       "      <td>NaN</td>\n",
       "      <td>NaN</td>\n",
       "      <td>NaN</td>\n",
       "      <td>NaN</td>\n",
       "      <td>NaN</td>\n",
       "      <td>NaN</td>\n",
       "      <td>NaN</td>\n",
       "      <td>NaN</td>\n",
       "    </tr>\n",
       "    <tr>\n",
       "      <th>2022-05-19 23:00:00</th>\n",
       "      <td>NaN</td>\n",
       "      <td>NaN</td>\n",
       "      <td>NaN</td>\n",
       "      <td>NaN</td>\n",
       "      <td>NaN</td>\n",
       "      <td>NaN</td>\n",
       "      <td>NaN</td>\n",
       "      <td>NaN</td>\n",
       "      <td>NaN</td>\n",
       "    </tr>\n",
       "    <tr>\n",
       "      <th>2022-05-20 00:00:00</th>\n",
       "      <td>2241.709961</td>\n",
       "      <td>2251.000000</td>\n",
       "      <td>2127.459961</td>\n",
       "      <td>2186.260010</td>\n",
       "      <td>2186.260010</td>\n",
       "      <td>1878100.0</td>\n",
       "      <td>May</td>\n",
       "      <td>Friday</td>\n",
       "      <td>2.0</td>\n",
       "    </tr>\n",
       "  </tbody>\n",
       "</table>\n",
       "<p>155593 rows × 9 columns</p>\n",
       "</div>"
      ],
      "text/plain": [
       "                            Open         High          Low        Close  \\\n",
       "Date                                                                      \n",
       "2004-08-19 00:00:00    49.813290    51.835709    47.800831    49.982655   \n",
       "2004-08-19 01:00:00          NaN          NaN          NaN          NaN   \n",
       "2004-08-19 02:00:00          NaN          NaN          NaN          NaN   \n",
       "2004-08-19 03:00:00          NaN          NaN          NaN          NaN   \n",
       "2004-08-19 04:00:00          NaN          NaN          NaN          NaN   \n",
       "...                          ...          ...          ...          ...   \n",
       "2022-05-19 20:00:00          NaN          NaN          NaN          NaN   \n",
       "2022-05-19 21:00:00          NaN          NaN          NaN          NaN   \n",
       "2022-05-19 22:00:00          NaN          NaN          NaN          NaN   \n",
       "2022-05-19 23:00:00          NaN          NaN          NaN          NaN   \n",
       "2022-05-20 00:00:00  2241.709961  2251.000000  2127.459961  2186.260010   \n",
       "\n",
       "                       Adj Close      Volume monthname   dayname  quarter  \n",
       "Date                                                                       \n",
       "2004-08-19 00:00:00    49.982655  44871361.0    August  Thursday      3.0  \n",
       "2004-08-19 01:00:00          NaN         NaN       NaN       NaN      NaN  \n",
       "2004-08-19 02:00:00          NaN         NaN       NaN       NaN      NaN  \n",
       "2004-08-19 03:00:00          NaN         NaN       NaN       NaN      NaN  \n",
       "2004-08-19 04:00:00          NaN         NaN       NaN       NaN      NaN  \n",
       "...                          ...         ...       ...       ...      ...  \n",
       "2022-05-19 20:00:00          NaN         NaN       NaN       NaN      NaN  \n",
       "2022-05-19 21:00:00          NaN         NaN       NaN       NaN      NaN  \n",
       "2022-05-19 22:00:00          NaN         NaN       NaN       NaN      NaN  \n",
       "2022-05-19 23:00:00          NaN         NaN       NaN       NaN      NaN  \n",
       "2022-05-20 00:00:00  2186.260010   1878100.0       May    Friday      2.0  \n",
       "\n",
       "[155593 rows x 9 columns]"
      ]
     },
     "execution_count": 37,
     "metadata": {},
     "output_type": "execute_result"
    }
   ],
   "source": [
    "df_hourly=df.asfreq(\"H\")\n",
    "df_hourly"
   ]
  },
  {
   "cell_type": "code",
   "execution_count": 38,
   "id": "07fa119a",
   "metadata": {
    "execution": {
     "iopub.execute_input": "2024-03-21T06:00:39.515452Z",
     "iopub.status.busy": "2024-03-21T06:00:39.515049Z",
     "iopub.status.idle": "2024-03-21T06:00:39.541535Z",
     "shell.execute_reply": "2024-03-21T06:00:39.540284Z"
    },
    "papermill": {
     "duration": 0.062606,
     "end_time": "2024-03-21T06:00:39.544419",
     "exception": false,
     "start_time": "2024-03-21T06:00:39.481813",
     "status": "completed"
    },
    "tags": []
   },
   "outputs": [
    {
     "name": "stderr",
     "output_type": "stream",
     "text": [
      "/tmp/ipykernel_18/1333048214.py:1: FutureWarning: 'H' is deprecated and will be removed in a future version, please use 'h' instead.\n",
      "  df_6hourly=df.asfreq(\"6H\") # 6 hour gap\n"
     ]
    },
    {
     "data": {
      "text/html": [
       "<div>\n",
       "<style scoped>\n",
       "    .dataframe tbody tr th:only-of-type {\n",
       "        vertical-align: middle;\n",
       "    }\n",
       "\n",
       "    .dataframe tbody tr th {\n",
       "        vertical-align: top;\n",
       "    }\n",
       "\n",
       "    .dataframe thead th {\n",
       "        text-align: right;\n",
       "    }\n",
       "</style>\n",
       "<table border=\"1\" class=\"dataframe\">\n",
       "  <thead>\n",
       "    <tr style=\"text-align: right;\">\n",
       "      <th></th>\n",
       "      <th>Open</th>\n",
       "      <th>High</th>\n",
       "      <th>Low</th>\n",
       "      <th>Close</th>\n",
       "      <th>Adj Close</th>\n",
       "      <th>Volume</th>\n",
       "      <th>monthname</th>\n",
       "      <th>dayname</th>\n",
       "      <th>quarter</th>\n",
       "    </tr>\n",
       "    <tr>\n",
       "      <th>Date</th>\n",
       "      <th></th>\n",
       "      <th></th>\n",
       "      <th></th>\n",
       "      <th></th>\n",
       "      <th></th>\n",
       "      <th></th>\n",
       "      <th></th>\n",
       "      <th></th>\n",
       "      <th></th>\n",
       "    </tr>\n",
       "  </thead>\n",
       "  <tbody>\n",
       "    <tr>\n",
       "      <th>2004-08-19 00:00:00</th>\n",
       "      <td>49.813290</td>\n",
       "      <td>51.835709</td>\n",
       "      <td>47.800831</td>\n",
       "      <td>49.982655</td>\n",
       "      <td>49.982655</td>\n",
       "      <td>44871361.0</td>\n",
       "      <td>August</td>\n",
       "      <td>Thursday</td>\n",
       "      <td>3.0</td>\n",
       "    </tr>\n",
       "    <tr>\n",
       "      <th>2004-08-19 06:00:00</th>\n",
       "      <td>NaN</td>\n",
       "      <td>NaN</td>\n",
       "      <td>NaN</td>\n",
       "      <td>NaN</td>\n",
       "      <td>NaN</td>\n",
       "      <td>NaN</td>\n",
       "      <td>NaN</td>\n",
       "      <td>NaN</td>\n",
       "      <td>NaN</td>\n",
       "    </tr>\n",
       "    <tr>\n",
       "      <th>2004-08-19 12:00:00</th>\n",
       "      <td>NaN</td>\n",
       "      <td>NaN</td>\n",
       "      <td>NaN</td>\n",
       "      <td>NaN</td>\n",
       "      <td>NaN</td>\n",
       "      <td>NaN</td>\n",
       "      <td>NaN</td>\n",
       "      <td>NaN</td>\n",
       "      <td>NaN</td>\n",
       "    </tr>\n",
       "    <tr>\n",
       "      <th>2004-08-19 18:00:00</th>\n",
       "      <td>NaN</td>\n",
       "      <td>NaN</td>\n",
       "      <td>NaN</td>\n",
       "      <td>NaN</td>\n",
       "      <td>NaN</td>\n",
       "      <td>NaN</td>\n",
       "      <td>NaN</td>\n",
       "      <td>NaN</td>\n",
       "      <td>NaN</td>\n",
       "    </tr>\n",
       "    <tr>\n",
       "      <th>2004-08-20 00:00:00</th>\n",
       "      <td>50.316402</td>\n",
       "      <td>54.336334</td>\n",
       "      <td>50.062355</td>\n",
       "      <td>53.952770</td>\n",
       "      <td>53.952770</td>\n",
       "      <td>22942874.0</td>\n",
       "      <td>August</td>\n",
       "      <td>Friday</td>\n",
       "      <td>3.0</td>\n",
       "    </tr>\n",
       "    <tr>\n",
       "      <th>...</th>\n",
       "      <td>...</td>\n",
       "      <td>...</td>\n",
       "      <td>...</td>\n",
       "      <td>...</td>\n",
       "      <td>...</td>\n",
       "      <td>...</td>\n",
       "      <td>...</td>\n",
       "      <td>...</td>\n",
       "      <td>...</td>\n",
       "    </tr>\n",
       "    <tr>\n",
       "      <th>2022-05-19 00:00:00</th>\n",
       "      <td>2236.820068</td>\n",
       "      <td>2271.750000</td>\n",
       "      <td>2209.360107</td>\n",
       "      <td>2214.909912</td>\n",
       "      <td>2214.909912</td>\n",
       "      <td>1459600.0</td>\n",
       "      <td>May</td>\n",
       "      <td>Thursday</td>\n",
       "      <td>2.0</td>\n",
       "    </tr>\n",
       "    <tr>\n",
       "      <th>2022-05-19 06:00:00</th>\n",
       "      <td>NaN</td>\n",
       "      <td>NaN</td>\n",
       "      <td>NaN</td>\n",
       "      <td>NaN</td>\n",
       "      <td>NaN</td>\n",
       "      <td>NaN</td>\n",
       "      <td>NaN</td>\n",
       "      <td>NaN</td>\n",
       "      <td>NaN</td>\n",
       "    </tr>\n",
       "    <tr>\n",
       "      <th>2022-05-19 12:00:00</th>\n",
       "      <td>NaN</td>\n",
       "      <td>NaN</td>\n",
       "      <td>NaN</td>\n",
       "      <td>NaN</td>\n",
       "      <td>NaN</td>\n",
       "      <td>NaN</td>\n",
       "      <td>NaN</td>\n",
       "      <td>NaN</td>\n",
       "      <td>NaN</td>\n",
       "    </tr>\n",
       "    <tr>\n",
       "      <th>2022-05-19 18:00:00</th>\n",
       "      <td>NaN</td>\n",
       "      <td>NaN</td>\n",
       "      <td>NaN</td>\n",
       "      <td>NaN</td>\n",
       "      <td>NaN</td>\n",
       "      <td>NaN</td>\n",
       "      <td>NaN</td>\n",
       "      <td>NaN</td>\n",
       "      <td>NaN</td>\n",
       "    </tr>\n",
       "    <tr>\n",
       "      <th>2022-05-20 00:00:00</th>\n",
       "      <td>2241.709961</td>\n",
       "      <td>2251.000000</td>\n",
       "      <td>2127.459961</td>\n",
       "      <td>2186.260010</td>\n",
       "      <td>2186.260010</td>\n",
       "      <td>1878100.0</td>\n",
       "      <td>May</td>\n",
       "      <td>Friday</td>\n",
       "      <td>2.0</td>\n",
       "    </tr>\n",
       "  </tbody>\n",
       "</table>\n",
       "<p>25933 rows × 9 columns</p>\n",
       "</div>"
      ],
      "text/plain": [
       "                            Open         High          Low        Close  \\\n",
       "Date                                                                      \n",
       "2004-08-19 00:00:00    49.813290    51.835709    47.800831    49.982655   \n",
       "2004-08-19 06:00:00          NaN          NaN          NaN          NaN   \n",
       "2004-08-19 12:00:00          NaN          NaN          NaN          NaN   \n",
       "2004-08-19 18:00:00          NaN          NaN          NaN          NaN   \n",
       "2004-08-20 00:00:00    50.316402    54.336334    50.062355    53.952770   \n",
       "...                          ...          ...          ...          ...   \n",
       "2022-05-19 00:00:00  2236.820068  2271.750000  2209.360107  2214.909912   \n",
       "2022-05-19 06:00:00          NaN          NaN          NaN          NaN   \n",
       "2022-05-19 12:00:00          NaN          NaN          NaN          NaN   \n",
       "2022-05-19 18:00:00          NaN          NaN          NaN          NaN   \n",
       "2022-05-20 00:00:00  2241.709961  2251.000000  2127.459961  2186.260010   \n",
       "\n",
       "                       Adj Close      Volume monthname   dayname  quarter  \n",
       "Date                                                                       \n",
       "2004-08-19 00:00:00    49.982655  44871361.0    August  Thursday      3.0  \n",
       "2004-08-19 06:00:00          NaN         NaN       NaN       NaN      NaN  \n",
       "2004-08-19 12:00:00          NaN         NaN       NaN       NaN      NaN  \n",
       "2004-08-19 18:00:00          NaN         NaN       NaN       NaN      NaN  \n",
       "2004-08-20 00:00:00    53.952770  22942874.0    August    Friday      3.0  \n",
       "...                          ...         ...       ...       ...      ...  \n",
       "2022-05-19 00:00:00  2214.909912   1459600.0       May  Thursday      2.0  \n",
       "2022-05-19 06:00:00          NaN         NaN       NaN       NaN      NaN  \n",
       "2022-05-19 12:00:00          NaN         NaN       NaN       NaN      NaN  \n",
       "2022-05-19 18:00:00          NaN         NaN       NaN       NaN      NaN  \n",
       "2022-05-20 00:00:00  2186.260010   1878100.0       May    Friday      2.0  \n",
       "\n",
       "[25933 rows x 9 columns]"
      ]
     },
     "execution_count": 38,
     "metadata": {},
     "output_type": "execute_result"
    }
   ],
   "source": [
    "df_6hourly=df.asfreq(\"6H\") # 6 hour gap\n",
    "df_6hourly"
   ]
  },
  {
   "cell_type": "code",
   "execution_count": 39,
   "id": "97babfea",
   "metadata": {
    "execution": {
     "iopub.execute_input": "2024-03-21T06:00:39.609078Z",
     "iopub.status.busy": "2024-03-21T06:00:39.608688Z",
     "iopub.status.idle": "2024-03-21T06:00:39.640923Z",
     "shell.execute_reply": "2024-03-21T06:00:39.639579Z"
    },
    "papermill": {
     "duration": 0.068854,
     "end_time": "2024-03-21T06:00:39.644293",
     "exception": false,
     "start_time": "2024-03-21T06:00:39.575439",
     "status": "completed"
    },
    "tags": []
   },
   "outputs": [
    {
     "name": "stderr",
     "output_type": "stream",
     "text": [
      "/tmp/ipykernel_18/3557735422.py:1: FutureWarning: 'H' is deprecated and will be removed in a future version, please use 'h' instead.\n",
      "  df_6hourly=df.asfreq(\"6H\",method=\"bfill\") # and forward fill = ffill\n"
     ]
    },
    {
     "data": {
      "text/html": [
       "<div>\n",
       "<style scoped>\n",
       "    .dataframe tbody tr th:only-of-type {\n",
       "        vertical-align: middle;\n",
       "    }\n",
       "\n",
       "    .dataframe tbody tr th {\n",
       "        vertical-align: top;\n",
       "    }\n",
       "\n",
       "    .dataframe thead th {\n",
       "        text-align: right;\n",
       "    }\n",
       "</style>\n",
       "<table border=\"1\" class=\"dataframe\">\n",
       "  <thead>\n",
       "    <tr style=\"text-align: right;\">\n",
       "      <th></th>\n",
       "      <th>Open</th>\n",
       "      <th>High</th>\n",
       "      <th>Low</th>\n",
       "      <th>Close</th>\n",
       "      <th>Adj Close</th>\n",
       "      <th>Volume</th>\n",
       "      <th>monthname</th>\n",
       "      <th>dayname</th>\n",
       "      <th>quarter</th>\n",
       "    </tr>\n",
       "    <tr>\n",
       "      <th>Date</th>\n",
       "      <th></th>\n",
       "      <th></th>\n",
       "      <th></th>\n",
       "      <th></th>\n",
       "      <th></th>\n",
       "      <th></th>\n",
       "      <th></th>\n",
       "      <th></th>\n",
       "      <th></th>\n",
       "    </tr>\n",
       "  </thead>\n",
       "  <tbody>\n",
       "    <tr>\n",
       "      <th>2004-08-19 00:00:00</th>\n",
       "      <td>49.813290</td>\n",
       "      <td>51.835709</td>\n",
       "      <td>47.800831</td>\n",
       "      <td>49.982655</td>\n",
       "      <td>49.982655</td>\n",
       "      <td>44871361.0</td>\n",
       "      <td>August</td>\n",
       "      <td>Thursday</td>\n",
       "      <td>3.0</td>\n",
       "    </tr>\n",
       "    <tr>\n",
       "      <th>2004-08-19 06:00:00</th>\n",
       "      <td>50.316402</td>\n",
       "      <td>54.336334</td>\n",
       "      <td>50.062355</td>\n",
       "      <td>53.952770</td>\n",
       "      <td>53.952770</td>\n",
       "      <td>22942874.0</td>\n",
       "      <td>August</td>\n",
       "      <td>Friday</td>\n",
       "      <td>3.0</td>\n",
       "    </tr>\n",
       "    <tr>\n",
       "      <th>2004-08-19 12:00:00</th>\n",
       "      <td>50.316402</td>\n",
       "      <td>54.336334</td>\n",
       "      <td>50.062355</td>\n",
       "      <td>53.952770</td>\n",
       "      <td>53.952770</td>\n",
       "      <td>22942874.0</td>\n",
       "      <td>August</td>\n",
       "      <td>Friday</td>\n",
       "      <td>3.0</td>\n",
       "    </tr>\n",
       "    <tr>\n",
       "      <th>2004-08-19 18:00:00</th>\n",
       "      <td>50.316402</td>\n",
       "      <td>54.336334</td>\n",
       "      <td>50.062355</td>\n",
       "      <td>53.952770</td>\n",
       "      <td>53.952770</td>\n",
       "      <td>22942874.0</td>\n",
       "      <td>August</td>\n",
       "      <td>Friday</td>\n",
       "      <td>3.0</td>\n",
       "    </tr>\n",
       "    <tr>\n",
       "      <th>2004-08-20 00:00:00</th>\n",
       "      <td>50.316402</td>\n",
       "      <td>54.336334</td>\n",
       "      <td>50.062355</td>\n",
       "      <td>53.952770</td>\n",
       "      <td>53.952770</td>\n",
       "      <td>22942874.0</td>\n",
       "      <td>August</td>\n",
       "      <td>Friday</td>\n",
       "      <td>3.0</td>\n",
       "    </tr>\n",
       "    <tr>\n",
       "      <th>...</th>\n",
       "      <td>...</td>\n",
       "      <td>...</td>\n",
       "      <td>...</td>\n",
       "      <td>...</td>\n",
       "      <td>...</td>\n",
       "      <td>...</td>\n",
       "      <td>...</td>\n",
       "      <td>...</td>\n",
       "      <td>...</td>\n",
       "    </tr>\n",
       "    <tr>\n",
       "      <th>2022-05-19 00:00:00</th>\n",
       "      <td>2236.820068</td>\n",
       "      <td>2271.750000</td>\n",
       "      <td>2209.360107</td>\n",
       "      <td>2214.909912</td>\n",
       "      <td>2214.909912</td>\n",
       "      <td>1459600.0</td>\n",
       "      <td>May</td>\n",
       "      <td>Thursday</td>\n",
       "      <td>2.0</td>\n",
       "    </tr>\n",
       "    <tr>\n",
       "      <th>2022-05-19 06:00:00</th>\n",
       "      <td>2241.709961</td>\n",
       "      <td>2251.000000</td>\n",
       "      <td>2127.459961</td>\n",
       "      <td>2186.260010</td>\n",
       "      <td>2186.260010</td>\n",
       "      <td>1878100.0</td>\n",
       "      <td>May</td>\n",
       "      <td>Friday</td>\n",
       "      <td>2.0</td>\n",
       "    </tr>\n",
       "    <tr>\n",
       "      <th>2022-05-19 12:00:00</th>\n",
       "      <td>2241.709961</td>\n",
       "      <td>2251.000000</td>\n",
       "      <td>2127.459961</td>\n",
       "      <td>2186.260010</td>\n",
       "      <td>2186.260010</td>\n",
       "      <td>1878100.0</td>\n",
       "      <td>May</td>\n",
       "      <td>Friday</td>\n",
       "      <td>2.0</td>\n",
       "    </tr>\n",
       "    <tr>\n",
       "      <th>2022-05-19 18:00:00</th>\n",
       "      <td>2241.709961</td>\n",
       "      <td>2251.000000</td>\n",
       "      <td>2127.459961</td>\n",
       "      <td>2186.260010</td>\n",
       "      <td>2186.260010</td>\n",
       "      <td>1878100.0</td>\n",
       "      <td>May</td>\n",
       "      <td>Friday</td>\n",
       "      <td>2.0</td>\n",
       "    </tr>\n",
       "    <tr>\n",
       "      <th>2022-05-20 00:00:00</th>\n",
       "      <td>2241.709961</td>\n",
       "      <td>2251.000000</td>\n",
       "      <td>2127.459961</td>\n",
       "      <td>2186.260010</td>\n",
       "      <td>2186.260010</td>\n",
       "      <td>1878100.0</td>\n",
       "      <td>May</td>\n",
       "      <td>Friday</td>\n",
       "      <td>2.0</td>\n",
       "    </tr>\n",
       "  </tbody>\n",
       "</table>\n",
       "<p>25933 rows × 9 columns</p>\n",
       "</div>"
      ],
      "text/plain": [
       "                            Open         High          Low        Close  \\\n",
       "Date                                                                      \n",
       "2004-08-19 00:00:00    49.813290    51.835709    47.800831    49.982655   \n",
       "2004-08-19 06:00:00    50.316402    54.336334    50.062355    53.952770   \n",
       "2004-08-19 12:00:00    50.316402    54.336334    50.062355    53.952770   \n",
       "2004-08-19 18:00:00    50.316402    54.336334    50.062355    53.952770   \n",
       "2004-08-20 00:00:00    50.316402    54.336334    50.062355    53.952770   \n",
       "...                          ...          ...          ...          ...   \n",
       "2022-05-19 00:00:00  2236.820068  2271.750000  2209.360107  2214.909912   \n",
       "2022-05-19 06:00:00  2241.709961  2251.000000  2127.459961  2186.260010   \n",
       "2022-05-19 12:00:00  2241.709961  2251.000000  2127.459961  2186.260010   \n",
       "2022-05-19 18:00:00  2241.709961  2251.000000  2127.459961  2186.260010   \n",
       "2022-05-20 00:00:00  2241.709961  2251.000000  2127.459961  2186.260010   \n",
       "\n",
       "                       Adj Close      Volume monthname   dayname  quarter  \n",
       "Date                                                                       \n",
       "2004-08-19 00:00:00    49.982655  44871361.0    August  Thursday      3.0  \n",
       "2004-08-19 06:00:00    53.952770  22942874.0    August    Friday      3.0  \n",
       "2004-08-19 12:00:00    53.952770  22942874.0    August    Friday      3.0  \n",
       "2004-08-19 18:00:00    53.952770  22942874.0    August    Friday      3.0  \n",
       "2004-08-20 00:00:00    53.952770  22942874.0    August    Friday      3.0  \n",
       "...                          ...         ...       ...       ...      ...  \n",
       "2022-05-19 00:00:00  2214.909912   1459600.0       May  Thursday      2.0  \n",
       "2022-05-19 06:00:00  2186.260010   1878100.0       May    Friday      2.0  \n",
       "2022-05-19 12:00:00  2186.260010   1878100.0       May    Friday      2.0  \n",
       "2022-05-19 18:00:00  2186.260010   1878100.0       May    Friday      2.0  \n",
       "2022-05-20 00:00:00  2186.260010   1878100.0       May    Friday      2.0  \n",
       "\n",
       "[25933 rows x 9 columns]"
      ]
     },
     "execution_count": 39,
     "metadata": {},
     "output_type": "execute_result"
    }
   ],
   "source": [
    "df_6hourly=df.asfreq(\"6H\",method=\"bfill\") # and forward fill = ffill\n",
    "df_6hourly"
   ]
  },
  {
   "cell_type": "code",
   "execution_count": 40,
   "id": "b953d3ea",
   "metadata": {
    "execution": {
     "iopub.execute_input": "2024-03-21T06:00:39.709784Z",
     "iopub.status.busy": "2024-03-21T06:00:39.709332Z",
     "iopub.status.idle": "2024-03-21T06:00:40.209655Z",
     "shell.execute_reply": "2024-03-21T06:00:40.208588Z"
    },
    "papermill": {
     "duration": 0.536404,
     "end_time": "2024-03-21T06:00:40.212339",
     "exception": false,
     "start_time": "2024-03-21T06:00:39.675935",
     "status": "completed"
    },
    "tags": []
   },
   "outputs": [
    {
     "name": "stderr",
     "output_type": "stream",
     "text": [
      "/tmp/ipykernel_18/1685581844.py:1: FutureWarning: 'Q' is deprecated and will be removed in a future version, please use 'QE' instead.\n",
      "  df.asfreq(\"Q\").plot()\n"
     ]
    },
    {
     "data": {
      "text/plain": [
       "<Axes: xlabel='Date'>"
      ]
     },
     "execution_count": 40,
     "metadata": {},
     "output_type": "execute_result"
    },
    {
     "data": {
      "image/png": "[encoded data removed]",
      "text/plain": [
       "<Figure size 640x480 with 1 Axes>"
      ]
     },
     "metadata": {},
     "output_type": "display_data"
    }
   ],
   "source": [
    "df.asfreq(\"Q\").plot()"
   ]
  },
  {
   "cell_type": "code",
   "execution_count": 41,
   "id": "b7906592",
   "metadata": {
    "execution": {
     "iopub.execute_input": "2024-03-21T06:00:40.280470Z",
     "iopub.status.busy": "2024-03-21T06:00:40.280014Z",
     "iopub.status.idle": "2024-03-21T06:00:40.647790Z",
     "shell.execute_reply": "2024-03-21T06:00:40.646600Z"
    },
    "papermill": {
     "duration": 0.404775,
     "end_time": "2024-03-21T06:00:40.650264",
     "exception": false,
     "start_time": "2024-03-21T06:00:40.245489",
     "status": "completed"
    },
    "tags": []
   },
   "outputs": [
    {
     "name": "stderr",
     "output_type": "stream",
     "text": [
      "/tmp/ipykernel_18/3763366494.py:1: FutureWarning: 'Q' is deprecated and will be removed in a future version, please use 'QE' instead.\n",
      "  df[\"Close\"].asfreq(\"Q\").plot()\n"
     ]
    },
    {
     "data": {
      "text/plain": [
       "<Axes: xlabel='Date'>"
      ]
     },
     "execution_count": 41,
     "metadata": {},
     "output_type": "execute_result"
    },
    {
     "data": {
      "image/png": "[encoded data removed]",
      "text/plain": [
       "<Figure size 640x480 with 1 Axes>"
      ]
     },
     "metadata": {},
     "output_type": "display_data"
    }
   ],
   "source": [
    "df[\"Close\"].asfreq(\"Q\").plot()"
   ]
  },
  {
   "cell_type": "code",
   "execution_count": null,
   "id": "62ea5c69",
   "metadata": {
    "papermill": {
     "duration": 0.033176,
     "end_time": "2024-03-21T06:00:40.716906",
     "exception": false,
     "start_time": "2024-03-21T06:00:40.683730",
     "status": "completed"
    },
    "tags": []
   },
   "outputs": [],
   "source": []
  },
  {
   "cell_type": "markdown",
   "id": "141bea89",
   "metadata": {
    "papermill": {
     "duration": 0.033251,
     "end_time": "2024-03-21T06:00:40.783916",
     "exception": false,
     "start_time": "2024-03-21T06:00:40.750665",
     "status": "completed"
    },
    "tags": []
   },
   "source": [
    "**Resampling**\n",
    "Resampling involves changing the frequency of your time series observations.\n",
    "\n",
    "*Two types of resampling are:*\n",
    "\n",
    "* Upsampling: Where you increase the frequency of the samples, such as from minutes to seconds.\n",
    "* Downsampling: Where you decrease the frequency of the samples, such as from days to months.\n"
   ]
  },
  {
   "cell_type": "code",
   "execution_count": 42,
   "id": "161584af",
   "metadata": {
    "execution": {
     "iopub.execute_input": "2024-03-21T06:00:40.853398Z",
     "iopub.status.busy": "2024-03-21T06:00:40.852956Z",
     "iopub.status.idle": "2024-03-21T06:00:41.705654Z",
     "shell.execute_reply": "2024-03-21T06:00:41.704694Z"
    },
    "papermill": {
     "duration": 0.890101,
     "end_time": "2024-03-21T06:00:41.708203",
     "exception": false,
     "start_time": "2024-03-21T06:00:40.818102",
     "status": "completed"
    },
    "tags": []
   },
   "outputs": [
    {
     "name": "stderr",
     "output_type": "stream",
     "text": [
      "/tmp/ipykernel_18/1462196361.py:3: FutureWarning: PeriodDtype[B] is deprecated and will be removed in a future version. Use a DatetimeIndex with freq='B' instead\n",
      "  df[\"Close\"].resample(\"W\").mean().plot()\n",
      "/tmp/ipykernel_18/1462196361.py:5: FutureWarning: 'Y' is deprecated and will be removed in a future version, please use 'YE' instead.\n",
      "  df[\"Close\"].resample(\"Y\").mean().plot()\n",
      "/tmp/ipykernel_18/1462196361.py:5: FutureWarning: PeriodDtype[B] is deprecated and will be removed in a future version. Use a DatetimeIndex with freq='B' instead\n",
      "  df[\"Close\"].resample(\"Y\").mean().plot()\n"
     ]
    },
    {
     "data": {
      "text/plain": [
       "<Axes: xlabel='Date'>"
      ]
     },
     "execution_count": 42,
     "metadata": {},
     "output_type": "execute_result"
    },
    {
     "data": {
      "image/png": "[encoded data removed]",
      "text/plain": [
       "<Figure size 640x480 with 1 Axes>"
      ]
     },
     "metadata": {},
     "output_type": "display_data"
    }
   ],
   "source": [
    "# Downsample Used only if data is noisy\n",
    "df[\"Close\"].plot()\n",
    "df[\"Close\"].resample(\"W\").mean().plot()\n",
    "#df[\"Close\"].resample(\"Q\").mean().plot()\n",
    "df[\"Close\"].resample(\"Y\").mean().plot()"
   ]
  },
  {
   "cell_type": "code",
   "execution_count": 43,
   "id": "546f241b",
   "metadata": {
    "execution": {
     "iopub.execute_input": "2024-03-21T06:00:41.780227Z",
     "iopub.status.busy": "2024-03-21T06:00:41.779046Z",
     "iopub.status.idle": "2024-03-21T06:00:51.827452Z",
     "shell.execute_reply": "2024-03-21T06:00:51.826242Z"
    },
    "papermill": {
     "duration": 10.088286,
     "end_time": "2024-03-21T06:00:51.831244",
     "exception": false,
     "start_time": "2024-03-21T06:00:41.742958",
     "status": "completed"
    },
    "tags": []
   },
   "outputs": [
    {
     "name": "stderr",
     "output_type": "stream",
     "text": [
      "/tmp/ipykernel_18/1731355297.py:7: FutureWarning: 'H' is deprecated and will be removed in a future version, please use 'h' instead.\n",
      "  df[\"Close\"].resample(\"12H\").interpolate(method='spline',order=2).plot()# 12hrs\n"
     ]
    },
    {
     "data": {
      "text/plain": [
       "<Axes: xlabel='Date'>"
      ]
     },
     "execution_count": 43,
     "metadata": {},
     "output_type": "execute_result"
    },
    {
     "data": {
      "image/png": "[encoded data removed]",
      "text/plain": [
       "<Figure size 640x480 with 1 Axes>"
      ]
     },
     "metadata": {},
     "output_type": "display_data"
    }
   ],
   "source": [
    "# upsampling  is rare we are increasing the frencncy\n",
    "df[\"Close\"].plot()\n",
    "#df[\"Close\"].resample(\"H\").interpolate(method='linear')\n",
    "\n",
    "#df[\"Close\"].resample(\"H\").interpolate(method='spline',order=2).plot()# filled with pilynomial \n",
    "#df[\"Close\"].resample(\"6H\").interpolate(method='spline',order=2).plot()# 6hr\n",
    "df[\"Close\"].resample(\"12H\").interpolate(method='spline',order=2).plot()# 12hrs "
   ]
  },
  {
   "cell_type": "markdown",
   "id": "74ddc972",
   "metadata": {
    "papermill": {
     "duration": 0.039189,
     "end_time": "2024-03-21T06:00:51.906836",
     "exception": false,
     "start_time": "2024-03-21T06:00:51.867647",
     "status": "completed"
    },
    "tags": []
   },
   "source": [
    "**Rolling Window***(Smoothing)*\n",
    "Time series data in original format can be quite volatile, especially on smaller aggregation levels. The concept of rolling, or moving averages is a useful technique for smoothing time series data"
   ]
  },
  {
   "cell_type": "code",
   "execution_count": 44,
   "id": "3fd10511",
   "metadata": {
    "execution": {
     "iopub.execute_input": "2024-03-21T06:00:51.982006Z",
     "iopub.status.busy": "2024-03-21T06:00:51.981295Z",
     "iopub.status.idle": "2024-03-21T06:00:51.990700Z",
     "shell.execute_reply": "2024-03-21T06:00:51.989877Z"
    },
    "papermill": {
     "duration": 0.04943,
     "end_time": "2024-03-21T06:00:51.993402",
     "exception": false,
     "start_time": "2024-03-21T06:00:51.943972",
     "status": "completed"
    },
    "tags": []
   },
   "outputs": [
    {
     "name": "stdout",
     "output_type": "stream",
     "text": [
      "Date\n",
      "2004-08-19            NaN\n",
      "2004-08-20            NaN\n",
      "2004-08-23      52.810387\n",
      "2004-08-24      53.562567\n",
      "2004-08-25      53.179006\n",
      "                 ...     \n",
      "2022-05-16    2296.460043\n",
      "2022-05-17    2320.063395\n",
      "2022-05-18    2292.633382\n",
      "2022-05-19    2265.653320\n",
      "2022-05-20    2216.396647\n",
      "Freq: B, Name: Close, Length: 4632, dtype: float64\n",
      "Date\n",
      "2004-08-19      49.982655\n",
      "2004-08-20      53.952770\n",
      "2004-08-23      54.495735\n",
      "2004-08-24      52.239197\n",
      "2004-08-25      52.802086\n",
      "                 ...     \n",
      "2022-05-16    2295.850098\n",
      "2022-05-17    2334.030029\n",
      "2022-05-18    2248.020020\n",
      "2022-05-19    2214.909912\n",
      "2022-05-20    2186.260010\n",
      "Freq: B, Name: Close, Length: 4632, dtype: float64\n"
     ]
    }
   ],
   "source": [
    "print(df[\"Close\"].rolling(3).mean()) # .rolling.aggregate function\n",
    "print(df[\"Close\"])"
   ]
  },
  {
   "cell_type": "code",
   "execution_count": 45,
   "id": "60acb14c",
   "metadata": {
    "execution": {
     "iopub.execute_input": "2024-03-21T06:00:52.069467Z",
     "iopub.status.busy": "2024-03-21T06:00:52.068837Z",
     "iopub.status.idle": "2024-03-21T06:00:52.856797Z",
     "shell.execute_reply": "2024-03-21T06:00:52.855673Z"
    },
    "papermill": {
     "duration": 0.829197,
     "end_time": "2024-03-21T06:00:52.859450",
     "exception": false,
     "start_time": "2024-03-21T06:00:52.030253",
     "status": "completed"
    },
    "tags": []
   },
   "outputs": [
    {
     "data": {
      "text/plain": [
       "<Axes: xlabel='Date'>"
      ]
     },
     "execution_count": 45,
     "metadata": {},
     "output_type": "execute_result"
    },
    {
     "data": {
      "image/png": "[encoded data removed]",
      "text/plain": [
       "<Figure size 640x480 with 1 Axes>"
      ]
     },
     "metadata": {},
     "output_type": "display_data"
    }
   ],
   "source": [
    "df[\"Close\"].plot()\n",
    "df[\"Close\"].rolling(7).mean().plot()"
   ]
  },
  {
   "cell_type": "code",
   "execution_count": 46,
   "id": "7bbb7fa6",
   "metadata": {
    "execution": {
     "iopub.execute_input": "2024-03-21T06:00:52.934602Z",
     "iopub.status.busy": "2024-03-21T06:00:52.933564Z",
     "iopub.status.idle": "2024-03-21T06:00:53.815251Z",
     "shell.execute_reply": "2024-03-21T06:00:53.813917Z"
    },
    "papermill": {
     "duration": 0.92248,
     "end_time": "2024-03-21T06:00:53.817999",
     "exception": false,
     "start_time": "2024-03-21T06:00:52.895519",
     "status": "completed"
    },
    "tags": []
   },
   "outputs": [
    {
     "data": {
      "text/plain": [
       "<Axes: xlabel='Date'>"
      ]
     },
     "execution_count": 46,
     "metadata": {},
     "output_type": "execute_result"
    },
    {
     "data": {
      "image/png": "[encoded data removed]",
      "text/plain": [
       "<Figure size 640x480 with 1 Axes>"
      ]
     },
     "metadata": {},
     "output_type": "display_data"
    }
   ],
   "source": [
    "#exponetial moving average\n",
    "\n",
    "df[\"Close\"].rolling(30).mean().plot()\n",
    "df[\"Close\"].ewm(30).mean().plot()\n",
    "\n",
    "\n"
   ]
  },
  {
   "cell_type": "code",
   "execution_count": null,
   "id": "9754dfdf",
   "metadata": {
    "papermill": {
     "duration": 0.036997,
     "end_time": "2024-03-21T06:00:53.893725",
     "exception": false,
     "start_time": "2024-03-21T06:00:53.856728",
     "status": "completed"
    },
    "tags": []
   },
   "outputs": [],
   "source": []
  },
  {
   "cell_type": "markdown",
   "id": "a0b0cb70",
   "metadata": {
    "papermill": {
     "duration": 0.037773,
     "end_time": "2024-03-21T06:00:53.968801",
     "exception": false,
     "start_time": "2024-03-21T06:00:53.931028",
     "status": "completed"
    },
    "tags": []
   },
   "source": [
    "**Shifting**\n",
    "The shift() function is Pandas is used to, well, shift the entire series up or down by the desired number of periods."
   ]
  },
  {
   "cell_type": "markdown",
   "id": "9bcfd289",
   "metadata": {
    "papermill": {
     "duration": 0.036856,
     "end_time": "2024-03-21T06:00:54.051087",
     "exception": false,
     "start_time": "2024-03-21T06:00:54.014231",
     "status": "completed"
    },
    "tags": []
   },
   "source": [
    "**Shifting****\n",
    "The shift() function is Pandas is used to, well, shift the entire series up or down by the desired number of periods."
   ]
  },
  {
   "cell_type": "code",
   "execution_count": 47,
   "id": "bbcca329",
   "metadata": {
    "execution": {
     "iopub.execute_input": "2024-03-21T06:00:54.129130Z",
     "iopub.status.busy": "2024-03-21T06:00:54.128745Z",
     "iopub.status.idle": "2024-03-21T06:00:54.138363Z",
     "shell.execute_reply": "2024-03-21T06:00:54.137275Z"
    },
    "papermill": {
     "duration": 0.052221,
     "end_time": "2024-03-21T06:00:54.140673",
     "exception": false,
     "start_time": "2024-03-21T06:00:54.088452",
     "status": "completed"
    },
    "tags": []
   },
   "outputs": [
    {
     "data": {
      "text/plain": [
       "Date\n",
       "2004-08-19            NaN\n",
       "2004-08-20      49.982655\n",
       "2004-08-23      53.952770\n",
       "2004-08-24      54.495735\n",
       "2004-08-25      52.239197\n",
       "                 ...     \n",
       "2022-05-16    2330.310059\n",
       "2022-05-17    2295.850098\n",
       "2022-05-18    2334.030029\n",
       "2022-05-19    2248.020020\n",
       "2022-05-20    2214.909912\n",
       "Freq: B, Name: Close, Length: 4632, dtype: float64"
      ]
     },
     "execution_count": 47,
     "metadata": {},
     "output_type": "execute_result"
    }
   ],
   "source": [
    "#shift\n",
    "df[\"Close\"].shift(1)"
   ]
  },
  {
   "cell_type": "code",
   "execution_count": 48,
   "id": "2b76f597",
   "metadata": {
    "execution": {
     "iopub.execute_input": "2024-03-21T06:00:54.219969Z",
     "iopub.status.busy": "2024-03-21T06:00:54.219265Z",
     "iopub.status.idle": "2024-03-21T06:00:54.229504Z",
     "shell.execute_reply": "2024-03-21T06:00:54.228293Z"
    },
    "papermill": {
     "duration": 0.052544,
     "end_time": "2024-03-21T06:00:54.231935",
     "exception": false,
     "start_time": "2024-03-21T06:00:54.179391",
     "status": "completed"
    },
    "tags": []
   },
   "outputs": [
    {
     "data": {
      "text/plain": [
       "Date\n",
       "2004-08-19      53.952770\n",
       "2004-08-20      54.495735\n",
       "2004-08-23      52.239197\n",
       "2004-08-24      52.802086\n",
       "2004-08-25      53.753517\n",
       "                 ...     \n",
       "2022-05-16    2334.030029\n",
       "2022-05-17    2248.020020\n",
       "2022-05-18    2214.909912\n",
       "2022-05-19    2186.260010\n",
       "2022-05-20            NaN\n",
       "Freq: B, Name: Close, Length: 4632, dtype: float64"
      ]
     },
     "execution_count": 48,
     "metadata": {},
     "output_type": "execute_result"
    }
   ],
   "source": [
    "df[\"Close\"].shift(-1)"
   ]
  },
  {
   "cell_type": "markdown",
   "id": "85f2c902",
   "metadata": {
    "papermill": {
     "duration": 0.037269,
     "end_time": "2024-03-21T06:00:54.306924",
     "exception": false,
     "start_time": "2024-03-21T06:00:54.269655",
     "status": "completed"
    },
    "tags": []
   },
   "source": [
    "Usage of shifting \n",
    "\n",
    "\n",
    "\n"
   ]
  },
  {
   "cell_type": "code",
   "execution_count": 49,
   "id": "9eb96cc1",
   "metadata": {
    "execution": {
     "iopub.execute_input": "2024-03-21T06:00:54.385795Z",
     "iopub.status.busy": "2024-03-21T06:00:54.385358Z",
     "iopub.status.idle": "2024-03-21T06:00:54.411422Z",
     "shell.execute_reply": "2024-03-21T06:00:54.410515Z"
    },
    "papermill": {
     "duration": 0.068232,
     "end_time": "2024-03-21T06:00:54.413738",
     "exception": false,
     "start_time": "2024-03-21T06:00:54.345506",
     "status": "completed"
    },
    "tags": []
   },
   "outputs": [
    {
     "data": {
      "text/html": [
       "<div>\n",
       "<style scoped>\n",
       "    .dataframe tbody tr th:only-of-type {\n",
       "        vertical-align: middle;\n",
       "    }\n",
       "\n",
       "    .dataframe tbody tr th {\n",
       "        vertical-align: top;\n",
       "    }\n",
       "\n",
       "    .dataframe thead th {\n",
       "        text-align: right;\n",
       "    }\n",
       "</style>\n",
       "<table border=\"1\" class=\"dataframe\">\n",
       "  <thead>\n",
       "    <tr style=\"text-align: right;\">\n",
       "      <th></th>\n",
       "      <th>user_id</th>\n",
       "      <th>login_time</th>\n",
       "    </tr>\n",
       "  </thead>\n",
       "  <tbody>\n",
       "    <tr>\n",
       "      <th>0</th>\n",
       "      <td>466</td>\n",
       "      <td>2017-01-07 18:24:07</td>\n",
       "    </tr>\n",
       "    <tr>\n",
       "      <th>1</th>\n",
       "      <td>466</td>\n",
       "      <td>2017-01-07 18:24:55</td>\n",
       "    </tr>\n",
       "    <tr>\n",
       "      <th>2</th>\n",
       "      <td>458</td>\n",
       "      <td>2017-01-07 18:25:18</td>\n",
       "    </tr>\n",
       "    <tr>\n",
       "      <th>3</th>\n",
       "      <td>458</td>\n",
       "      <td>2017-01-07 18:26:21</td>\n",
       "    </tr>\n",
       "    <tr>\n",
       "      <th>4</th>\n",
       "      <td>592</td>\n",
       "      <td>2017-01-07 19:09:59</td>\n",
       "    </tr>\n",
       "  </tbody>\n",
       "</table>\n",
       "</div>"
      ],
      "text/plain": [
       "   user_id           login_time\n",
       "0      466  2017-01-07 18:24:07\n",
       "1      466  2017-01-07 18:24:55\n",
       "2      458  2017-01-07 18:25:18\n",
       "3      458  2017-01-07 18:26:21\n",
       "4      592  2017-01-07 19:09:59"
      ]
     },
     "execution_count": 49,
     "metadata": {},
     "output_type": "execute_result"
    }
   ],
   "source": [
    "# shift example\n",
    "df = pd.read_csv('/kaggle/input/time-series-analysis/login.csv',header=None)\n",
    "df = df[[1,2]]\n",
    "df.head()\n",
    "df.rename(columns={1:'user_id',2:'login_time'},inplace=True)\n",
    "df.head()"
   ]
  },
  {
   "cell_type": "code",
   "execution_count": 50,
   "id": "2d187ba1",
   "metadata": {
    "execution": {
     "iopub.execute_input": "2024-03-21T06:00:54.493051Z",
     "iopub.status.busy": "2024-03-21T06:00:54.492658Z",
     "iopub.status.idle": "2024-03-21T06:00:54.508033Z",
     "shell.execute_reply": "2024-03-21T06:00:54.506922Z"
    },
    "papermill": {
     "duration": 0.057891,
     "end_time": "2024-03-21T06:00:54.511066",
     "exception": false,
     "start_time": "2024-03-21T06:00:54.453175",
     "status": "completed"
    },
    "tags": []
   },
   "outputs": [
    {
     "data": {
      "text/html": [
       "<div>\n",
       "<style scoped>\n",
       "    .dataframe tbody tr th:only-of-type {\n",
       "        vertical-align: middle;\n",
       "    }\n",
       "\n",
       "    .dataframe tbody tr th {\n",
       "        vertical-align: top;\n",
       "    }\n",
       "\n",
       "    .dataframe thead th {\n",
       "        text-align: right;\n",
       "    }\n",
       "</style>\n",
       "<table border=\"1\" class=\"dataframe\">\n",
       "  <thead>\n",
       "    <tr style=\"text-align: right;\">\n",
       "      <th></th>\n",
       "      <th>user_id</th>\n",
       "      <th>login_time</th>\n",
       "    </tr>\n",
       "  </thead>\n",
       "  <tbody>\n",
       "    <tr>\n",
       "      <th>11</th>\n",
       "      <td>413</td>\n",
       "      <td>2017-01-09 12:29:25</td>\n",
       "    </tr>\n",
       "    <tr>\n",
       "      <th>12</th>\n",
       "      <td>413</td>\n",
       "      <td>2017-01-09 12:40:39</td>\n",
       "    </tr>\n",
       "    <tr>\n",
       "      <th>14</th>\n",
       "      <td>413</td>\n",
       "      <td>2017-01-09 14:08:04</td>\n",
       "    </tr>\n",
       "    <tr>\n",
       "      <th>33</th>\n",
       "      <td>413</td>\n",
       "      <td>2017-01-10 14:36:23</td>\n",
       "    </tr>\n",
       "    <tr>\n",
       "      <th>35</th>\n",
       "      <td>413</td>\n",
       "      <td>2017-01-10 15:22:45</td>\n",
       "    </tr>\n",
       "    <tr>\n",
       "      <th>...</th>\n",
       "      <td>...</td>\n",
       "      <td>...</td>\n",
       "    </tr>\n",
       "    <tr>\n",
       "      <th>2958</th>\n",
       "      <td>413</td>\n",
       "      <td>2017-12-29 18:20:32</td>\n",
       "    </tr>\n",
       "    <tr>\n",
       "      <th>2963</th>\n",
       "      <td>413</td>\n",
       "      <td>2017-12-30 13:41:21</td>\n",
       "    </tr>\n",
       "    <tr>\n",
       "      <th>2974</th>\n",
       "      <td>413</td>\n",
       "      <td>2018-01-01 15:16:25</td>\n",
       "    </tr>\n",
       "    <tr>\n",
       "      <th>2982</th>\n",
       "      <td>413</td>\n",
       "      <td>2018-01-02 18:15:45</td>\n",
       "    </tr>\n",
       "    <tr>\n",
       "      <th>2997</th>\n",
       "      <td>413</td>\n",
       "      <td>2018-01-04 10:43:43</td>\n",
       "    </tr>\n",
       "  </tbody>\n",
       "</table>\n",
       "<p>222 rows × 2 columns</p>\n",
       "</div>"
      ],
      "text/plain": [
       "      user_id           login_time\n",
       "11        413  2017-01-09 12:29:25\n",
       "12        413  2017-01-09 12:40:39\n",
       "14        413  2017-01-09 14:08:04\n",
       "33        413  2017-01-10 14:36:23\n",
       "35        413  2017-01-10 15:22:45\n",
       "...       ...                  ...\n",
       "2958      413  2017-12-29 18:20:32\n",
       "2963      413  2017-12-30 13:41:21\n",
       "2974      413  2018-01-01 15:16:25\n",
       "2982      413  2018-01-02 18:15:45\n",
       "2997      413  2018-01-04 10:43:43\n",
       "\n",
       "[222 rows x 2 columns]"
      ]
     },
     "execution_count": 50,
     "metadata": {},
     "output_type": "execute_result"
    }
   ],
   "source": [
    "userdf=df[df[\"user_id\"]==413 ]\n",
    "userdf"
   ]
  },
  {
   "cell_type": "code",
   "execution_count": 51,
   "id": "bc0152da",
   "metadata": {
    "execution": {
     "iopub.execute_input": "2024-03-21T06:00:54.590429Z",
     "iopub.status.busy": "2024-03-21T06:00:54.589500Z",
     "iopub.status.idle": "2024-03-21T06:00:54.605387Z",
     "shell.execute_reply": "2024-03-21T06:00:54.603957Z"
    },
    "papermill": {
     "duration": 0.058379,
     "end_time": "2024-03-21T06:00:54.608128",
     "exception": false,
     "start_time": "2024-03-21T06:00:54.549749",
     "status": "completed"
    },
    "tags": []
   },
   "outputs": [
    {
     "name": "stdout",
     "output_type": "stream",
     "text": [
      "<class 'pandas.core.frame.DataFrame'>\n",
      "Index: 222 entries, 11 to 2997\n",
      "Data columns (total 2 columns):\n",
      " #   Column      Non-Null Count  Dtype         \n",
      "---  ------      --------------  -----         \n",
      " 0   user_id     222 non-null    int64         \n",
      " 1   login_time  222 non-null    datetime64[ns]\n",
      "dtypes: datetime64[ns](1), int64(1)\n",
      "memory usage: 5.2 KB\n"
     ]
    },
    {
     "name": "stderr",
     "output_type": "stream",
     "text": [
      "/tmp/ipykernel_18/3316274494.py:3: SettingWithCopyWarning: \n",
      "A value is trying to be set on a copy of a slice from a DataFrame.\n",
      "Try using .loc[row_indexer,col_indexer] = value instead\n",
      "\n",
      "See the caveats in the documentation: https://pandas.pydata.org/pandas-docs/stable/user_guide/indexing.html#returning-a-view-versus-a-copy\n",
      "  userdf[\"login_time\"]= pd.to_datetime(userdf[\"login_time\"])\n"
     ]
    }
   ],
   "source": [
    "# find this user avg returning time \n",
    "\n",
    "userdf[\"login_time\"]= pd.to_datetime(userdf[\"login_time\"])\n",
    "userdf.info()"
   ]
  },
  {
   "cell_type": "code",
   "execution_count": 52,
   "id": "7c8af867",
   "metadata": {
    "execution": {
     "iopub.execute_input": "2024-03-21T06:00:54.691146Z",
     "iopub.status.busy": "2024-03-21T06:00:54.690015Z",
     "iopub.status.idle": "2024-03-21T06:00:54.706563Z",
     "shell.execute_reply": "2024-03-21T06:00:54.705191Z"
    },
    "papermill": {
     "duration": 0.061579,
     "end_time": "2024-03-21T06:00:54.709827",
     "exception": false,
     "start_time": "2024-03-21T06:00:54.648248",
     "status": "completed"
    },
    "tags": []
   },
   "outputs": [
    {
     "name": "stderr",
     "output_type": "stream",
     "text": [
      "/tmp/ipykernel_18/3786847037.py:1: SettingWithCopyWarning: \n",
      "A value is trying to be set on a copy of a slice from a DataFrame.\n",
      "Try using .loc[row_indexer,col_indexer] = value instead\n",
      "\n",
      "See the caveats in the documentation: https://pandas.pydata.org/pandas-docs/stable/user_guide/indexing.html#returning-a-view-versus-a-copy\n",
      "  userdf[\"shifted\"]=userdf[\"login_time\"].shift(1)\n"
     ]
    },
    {
     "data": {
      "text/html": [
       "<div>\n",
       "<style scoped>\n",
       "    .dataframe tbody tr th:only-of-type {\n",
       "        vertical-align: middle;\n",
       "    }\n",
       "\n",
       "    .dataframe tbody tr th {\n",
       "        vertical-align: top;\n",
       "    }\n",
       "\n",
       "    .dataframe thead th {\n",
       "        text-align: right;\n",
       "    }\n",
       "</style>\n",
       "<table border=\"1\" class=\"dataframe\">\n",
       "  <thead>\n",
       "    <tr style=\"text-align: right;\">\n",
       "      <th></th>\n",
       "      <th>user_id</th>\n",
       "      <th>login_time</th>\n",
       "      <th>shifted</th>\n",
       "    </tr>\n",
       "  </thead>\n",
       "  <tbody>\n",
       "    <tr>\n",
       "      <th>11</th>\n",
       "      <td>413</td>\n",
       "      <td>2017-01-09 12:29:25</td>\n",
       "      <td>NaT</td>\n",
       "    </tr>\n",
       "    <tr>\n",
       "      <th>12</th>\n",
       "      <td>413</td>\n",
       "      <td>2017-01-09 12:40:39</td>\n",
       "      <td>2017-01-09 12:29:25</td>\n",
       "    </tr>\n",
       "    <tr>\n",
       "      <th>14</th>\n",
       "      <td>413</td>\n",
       "      <td>2017-01-09 14:08:04</td>\n",
       "      <td>2017-01-09 12:40:39</td>\n",
       "    </tr>\n",
       "    <tr>\n",
       "      <th>33</th>\n",
       "      <td>413</td>\n",
       "      <td>2017-01-10 14:36:23</td>\n",
       "      <td>2017-01-09 14:08:04</td>\n",
       "    </tr>\n",
       "    <tr>\n",
       "      <th>35</th>\n",
       "      <td>413</td>\n",
       "      <td>2017-01-10 15:22:45</td>\n",
       "      <td>2017-01-10 14:36:23</td>\n",
       "    </tr>\n",
       "    <tr>\n",
       "      <th>...</th>\n",
       "      <td>...</td>\n",
       "      <td>...</td>\n",
       "      <td>...</td>\n",
       "    </tr>\n",
       "    <tr>\n",
       "      <th>2958</th>\n",
       "      <td>413</td>\n",
       "      <td>2017-12-29 18:20:32</td>\n",
       "      <td>2017-12-29 18:19:48</td>\n",
       "    </tr>\n",
       "    <tr>\n",
       "      <th>2963</th>\n",
       "      <td>413</td>\n",
       "      <td>2017-12-30 13:41:21</td>\n",
       "      <td>2017-12-29 18:20:32</td>\n",
       "    </tr>\n",
       "    <tr>\n",
       "      <th>2974</th>\n",
       "      <td>413</td>\n",
       "      <td>2018-01-01 15:16:25</td>\n",
       "      <td>2017-12-30 13:41:21</td>\n",
       "    </tr>\n",
       "    <tr>\n",
       "      <th>2982</th>\n",
       "      <td>413</td>\n",
       "      <td>2018-01-02 18:15:45</td>\n",
       "      <td>2018-01-01 15:16:25</td>\n",
       "    </tr>\n",
       "    <tr>\n",
       "      <th>2997</th>\n",
       "      <td>413</td>\n",
       "      <td>2018-01-04 10:43:43</td>\n",
       "      <td>2018-01-02 18:15:45</td>\n",
       "    </tr>\n",
       "  </tbody>\n",
       "</table>\n",
       "<p>222 rows × 3 columns</p>\n",
       "</div>"
      ],
      "text/plain": [
       "      user_id          login_time             shifted\n",
       "11        413 2017-01-09 12:29:25                 NaT\n",
       "12        413 2017-01-09 12:40:39 2017-01-09 12:29:25\n",
       "14        413 2017-01-09 14:08:04 2017-01-09 12:40:39\n",
       "33        413 2017-01-10 14:36:23 2017-01-09 14:08:04\n",
       "35        413 2017-01-10 15:22:45 2017-01-10 14:36:23\n",
       "...       ...                 ...                 ...\n",
       "2958      413 2017-12-29 18:20:32 2017-12-29 18:19:48\n",
       "2963      413 2017-12-30 13:41:21 2017-12-29 18:20:32\n",
       "2974      413 2018-01-01 15:16:25 2017-12-30 13:41:21\n",
       "2982      413 2018-01-02 18:15:45 2018-01-01 15:16:25\n",
       "2997      413 2018-01-04 10:43:43 2018-01-02 18:15:45\n",
       "\n",
       "[222 rows x 3 columns]"
      ]
     },
     "execution_count": 52,
     "metadata": {},
     "output_type": "execute_result"
    }
   ],
   "source": [
    "userdf[\"shifted\"]=userdf[\"login_time\"].shift(1)\n",
    "userdf"
   ]
  },
  {
   "cell_type": "code",
   "execution_count": 53,
   "id": "fdef37af",
   "metadata": {
    "execution": {
     "iopub.execute_input": "2024-03-21T06:00:54.792795Z",
     "iopub.status.busy": "2024-03-21T06:00:54.791841Z",
     "iopub.status.idle": "2024-03-21T06:00:54.800905Z",
     "shell.execute_reply": "2024-03-21T06:00:54.799638Z"
    },
    "papermill": {
     "duration": 0.053715,
     "end_time": "2024-03-21T06:00:54.803793",
     "exception": false,
     "start_time": "2024-03-21T06:00:54.750078",
     "status": "completed"
    },
    "tags": []
   },
   "outputs": [
    {
     "data": {
      "text/plain": [
       "Timedelta('1 days 15:05:13.384615384')"
      ]
     },
     "execution_count": 53,
     "metadata": {},
     "output_type": "execute_result"
    }
   ],
   "source": [
    "# now i can just substract the values od one column with other \n",
    "(userdf[\"login_time\"]-userdf[\"shifted\"]).mean()"
   ]
  },
  {
   "cell_type": "code",
   "execution_count": 54,
   "id": "7a755603",
   "metadata": {
    "execution": {
     "iopub.execute_input": "2024-03-21T06:00:54.886062Z",
     "iopub.status.busy": "2024-03-21T06:00:54.885009Z",
     "iopub.status.idle": "2024-03-21T06:00:54.890303Z",
     "shell.execute_reply": "2024-03-21T06:00:54.889491Z"
    },
    "papermill": {
     "duration": 0.048732,
     "end_time": "2024-03-21T06:00:54.892579",
     "exception": false,
     "start_time": "2024-03-21T06:00:54.843847",
     "status": "completed"
    },
    "tags": []
   },
   "outputs": [],
   "source": [
    "# '1 days 15:05:13.384615384' is his return  time on insta or any website \n",
    "# we can chck that how many users are comming on  our website and at what times \n",
    "#if we do it for all the users and find out the mean of it \n",
    "# "
   ]
  }
 ],
 "metadata": {
  "kaggle": {
   "accelerator": "none",
   "dataSources": [
    {
     "datasetId": 4634475,
     "sourceId": 7893205,
     "sourceType": "datasetVersion"
    }
   ],
   "dockerImageVersionId": 30664,
   "isGpuEnabled": false,
   "isInternetEnabled": true,
   "language": "python",
   "sourceType": "notebook"
  },
  "kernelspec": {
   "display_name": "Python 3",
   "language": "python",
   "name": "python3"
  },
  "language_info": {
   "codemirror_mode": {
    "name": "ipython",
    "version": 3
   },
   "file_extension": ".py",
   "mimetype": "text/x-python",
   "name": "python",
   "nbconvert_exporter": "python",
   "pygments_lexer": "ipython3",
   "version": "3.10.13"
  },
  "papermill": {
   "default_parameters": {},
   "duration": 26.550035,
   "end_time": "2024-03-21T06:00:55.554595",
   "environment_variables": {},
   "exception": null,
   "input_path": "__notebook__.ipynb",
   "output_path": "__notebook__.ipynb",
   "parameters": {},
   "start_time": "2024-03-21T06:00:29.004560",
   "version": "2.5.0"
  }
 },
 "nbformat": 4,
 "nbformat_minor": 5
}
