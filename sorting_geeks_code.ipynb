{
  "nbformat": 4,
  "nbformat_minor": 0,
  "metadata": {
    "colab": {
      "private_outputs": true,
      "provenance": [],
      "authorship_tag": "ABX9TyPIdhQBrQzO5J7oZs0y+pLg",
      "include_colab_link": true
    },
    "kernelspec": {
      "name": "python3",
      "display_name": "Python 3"
    },
    "language_info": {
      "name": "python"
    }
  },
  "cells": [
    {
      "cell_type": "markdown",
      "metadata": {
        "id": "view-in-github",
        "colab_type": "text"
      },
      "source": [
        "<a href=\"https://colab.research.google.com/github/OptimisedLEarning/assignments/blob/main/sorting_geeks_code.ipynb\" target=\"_parent\"><img src=\"https://colab.research.google.com/assets/colab-badge.svg\" alt=\"Open In Colab\"/></a>"
      ]
    },
    {
      "cell_type": "code",
      "execution_count": null,
      "metadata": {
        "id": "2JItxOa9NjeB"
      },
      "outputs": [],
      "source": [
        "def lamato_partition(arr,l, h):\n",
        "  pivot= arr[h]   #    pivot element\n",
        "  i = l-1          # total elements\n",
        "\n",
        "  for j in range(l,h):\n",
        "\n",
        "      if arr[j]<= pivot:                        # if the index1 is samller or eqal to\n",
        "        i = i+1                                 # we  shift the index0  by one\n",
        "        arr[i],arr[j]=arr[j],arr[i]         #  and we   swap the both index  the shifting both index basically\n",
        "\n",
        "\n",
        "\n",
        "  arr[i+1],arr[h]= arr[h],arr[i+1]          # if not means if the i +1 id greater tha piviot then we swap noth\n",
        "                                            # untill be recieve a sorted array\n",
        "\n",
        "\n",
        "  return i+1                                  # return the i+1 element always to see the resulted array\n",
        "\n",
        "\n",
        "\n",
        "arr = [10, 80, 30, 90, 50, 70]\n",
        "\n",
        "lamato_partition(arr, 0, 5)\n",
        "\n",
        "print(*arr)\n"
      ]
    },
    {
      "cell_type": "code",
      "source": [
        "# hoare partition\n",
        "\n",
        "\n",
        "\n",
        "\n",
        "\n",
        "\n",
        "\n",
        "\n",
        "\n",
        "\n",
        "\n",
        "\n",
        "\n",
        "\n",
        "\n",
        "\n",
        "\n"
      ],
      "metadata": {
        "id": "7L_AMpXVSTL2"
      },
      "execution_count": null,
      "outputs": []
    }
  ]
}