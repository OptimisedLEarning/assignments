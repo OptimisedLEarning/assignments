{
  "nbformat": 4,
  "nbformat_minor": 0,
  "metadata": {
    "colab": {
      "private_outputs": true,
      "provenance": [],
      "authorship_tag": "ABX9TyMezu1PB/DyqDOf3sMS6RCJ",
      "include_colab_link": true
    },
    "kernelspec": {
      "name": "python3",
      "display_name": "Python 3"
    },
    "language_info": {
      "name": "python"
    }
  },
  "cells": [
    {
      "cell_type": "markdown",
      "metadata": {
        "id": "view-in-github",
        "colab_type": "text"
      },
      "source": [
        "<a href=\"https://colab.research.google.com/github/OptimisedLEarning/assignments/blob/main/making_Data1.ipynb\" target=\"_parent\"><img src=\"https://colab.research.google.com/assets/colab-badge.svg\" alt=\"Open In Colab\"/></a>"
      ]
    },
    {
      "cell_type": "code",
      "execution_count": null,
      "metadata": {
        "id": "5nOM2j8ewTLg"
      },
      "outputs": [],
      "source": [
        "import pandas as pd\n",
        "\n",
        "# Mock data for the Website Order Report\n",
        "website_order_report_data = {\n",
        "    'Order ID': [101, 102, 103,104,105,107,106,108,109,110],\n",
        "    'Product': ['Product A', 'Product B', 'Product C',\"Product d\"],\n",
        "    # Add more columns as needed\n",
        "}\n",
        "\n",
        "website_order_report = pd.DataFrame(website_order_report_data)\n",
        "\n",
        "# Mock data for the Warehouse Pincode to All India Pincode Mapping\n",
        "pincode_mapping_data = {\n",
        "    'Order ID': [101, 102, 103],\n",
        "    'Warehouse Pincode': [110001, 120002, 130003],\n",
        "    'Customer Delivery Pincode': [201, 202, 203],\n",
        "    # Add more columns as needed\n",
        "}\n",
        "\n",
        "pincode_mapping = pd.DataFrame(pincode_mapping_data)\n",
        "\n",
        "# Mock data for the SKU Master\n",
        "sku_master_data = {\n",
        "    'Order ID': [101, 102, 103],\n",
        "    'SKU': ['SKU001', 'SKU002', 'SKU003'],\n",
        "    'Gross Weight (KG)': [5, 3, 4],\n",
        "    # Add more columns as needed\n",
        "}\n",
        "\n",
        "sku_master = pd.DataFrame(sku_master_data)\n",
        "\n",
        "# Display sample data for verification\n",
        "print(\"Website Order Report:\")\n",
        "print(website_order_report.head())\n",
        "print(\"\\nWarehouse Pincode to All India Pincode Mapping:\")\n",
        "print(pincode_mapping.head())\n",
        "print(\"\\nSKU Master:\")\n",
        "print(sku_master.head())\n"
      ]
    }
  ]
}